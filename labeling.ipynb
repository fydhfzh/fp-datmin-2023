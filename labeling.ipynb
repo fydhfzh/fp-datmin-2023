{
 "cells": [
  {
   "cell_type": "code",
   "execution_count": 161,
   "metadata": {},
   "outputs": [],
   "source": [
    "import pandas as pd\n",
    "import re\n",
    "import numpy as np\n",
    "from Sastrawi.Stemmer.StemmerFactory import StemmerFactory\n",
    "import emoji\n",
    "from collections import Counter\n",
    "from sklearn.ensemble import RandomForestClassifier\n",
    "from sklearn.pipeline import Pipeline\n",
    "from sklearn.feature_extraction.text import TfidfVectorizer\n",
    "from sklearn.feature_extraction.text import TfidfTransformer\n",
    "from sklearn.linear_model import SGDClassifier\n",
    "from sklearn.linear_model import LogisticRegression\n",
    "from sklearn.multioutput import MultiOutputClassifier\n",
    "from sklearn.model_selection import train_test_split\n",
    "from sklearn.metrics import classification_report\n",
    "from sklearn.metrics import accuracy_score"
   ]
  },
  {
   "cell_type": "code",
   "execution_count": 162,
   "metadata": {},
   "outputs": [
    {
     "data": {
      "text/html": [
       "<div>\n",
       "<style scoped>\n",
       "    .dataframe tbody tr th:only-of-type {\n",
       "        vertical-align: middle;\n",
       "    }\n",
       "\n",
       "    .dataframe tbody tr th {\n",
       "        vertical-align: top;\n",
       "    }\n",
       "\n",
       "    .dataframe thead th {\n",
       "        text-align: right;\n",
       "    }\n",
       "</style>\n",
       "<table border=\"1\" class=\"dataframe\">\n",
       "  <thead>\n",
       "    <tr style=\"text-align: right;\">\n",
       "      <th></th>\n",
       "      <th>Tweet</th>\n",
       "      <th>HS</th>\n",
       "      <th>Abusive</th>\n",
       "      <th>HS_Individual</th>\n",
       "      <th>HS_Group</th>\n",
       "      <th>HS_Religion</th>\n",
       "      <th>HS_Race</th>\n",
       "      <th>HS_Physical</th>\n",
       "      <th>HS_Gender</th>\n",
       "      <th>HS_Other</th>\n",
       "      <th>HS_Weak</th>\n",
       "      <th>HS_Moderate</th>\n",
       "      <th>HS_Strong</th>\n",
       "    </tr>\n",
       "  </thead>\n",
       "  <tbody>\n",
       "    <tr>\n",
       "      <th>0</th>\n",
       "      <td>- disaat semua cowok berusaha melacak perhatia...</td>\n",
       "      <td>1</td>\n",
       "      <td>1</td>\n",
       "      <td>1</td>\n",
       "      <td>0</td>\n",
       "      <td>0</td>\n",
       "      <td>0</td>\n",
       "      <td>0</td>\n",
       "      <td>0</td>\n",
       "      <td>1</td>\n",
       "      <td>1</td>\n",
       "      <td>0</td>\n",
       "      <td>0</td>\n",
       "    </tr>\n",
       "    <tr>\n",
       "      <th>1</th>\n",
       "      <td>RT USER: USER siapa yang telat ngasih tau elu?...</td>\n",
       "      <td>0</td>\n",
       "      <td>1</td>\n",
       "      <td>0</td>\n",
       "      <td>0</td>\n",
       "      <td>0</td>\n",
       "      <td>0</td>\n",
       "      <td>0</td>\n",
       "      <td>0</td>\n",
       "      <td>0</td>\n",
       "      <td>0</td>\n",
       "      <td>0</td>\n",
       "      <td>0</td>\n",
       "    </tr>\n",
       "    <tr>\n",
       "      <th>2</th>\n",
       "      <td>41. Kadang aku berfikir, kenapa aku tetap perc...</td>\n",
       "      <td>0</td>\n",
       "      <td>0</td>\n",
       "      <td>0</td>\n",
       "      <td>0</td>\n",
       "      <td>0</td>\n",
       "      <td>0</td>\n",
       "      <td>0</td>\n",
       "      <td>0</td>\n",
       "      <td>0</td>\n",
       "      <td>0</td>\n",
       "      <td>0</td>\n",
       "      <td>0</td>\n",
       "    </tr>\n",
       "    <tr>\n",
       "      <th>3</th>\n",
       "      <td>USER USER AKU ITU AKU\\n\\nKU TAU MATAMU SIPIT T...</td>\n",
       "      <td>0</td>\n",
       "      <td>0</td>\n",
       "      <td>0</td>\n",
       "      <td>0</td>\n",
       "      <td>0</td>\n",
       "      <td>0</td>\n",
       "      <td>0</td>\n",
       "      <td>0</td>\n",
       "      <td>0</td>\n",
       "      <td>0</td>\n",
       "      <td>0</td>\n",
       "      <td>0</td>\n",
       "    </tr>\n",
       "    <tr>\n",
       "      <th>4</th>\n",
       "      <td>USER USER Kaum cebong kapir udah keliatan dong...</td>\n",
       "      <td>1</td>\n",
       "      <td>1</td>\n",
       "      <td>0</td>\n",
       "      <td>1</td>\n",
       "      <td>1</td>\n",
       "      <td>0</td>\n",
       "      <td>0</td>\n",
       "      <td>0</td>\n",
       "      <td>0</td>\n",
       "      <td>0</td>\n",
       "      <td>1</td>\n",
       "      <td>0</td>\n",
       "    </tr>\n",
       "  </tbody>\n",
       "</table>\n",
       "</div>"
      ],
      "text/plain": [
       "                                               Tweet  HS  Abusive  \\\n",
       "0  - disaat semua cowok berusaha melacak perhatia...   1        1   \n",
       "1  RT USER: USER siapa yang telat ngasih tau elu?...   0        1   \n",
       "2  41. Kadang aku berfikir, kenapa aku tetap perc...   0        0   \n",
       "3  USER USER AKU ITU AKU\\n\\nKU TAU MATAMU SIPIT T...   0        0   \n",
       "4  USER USER Kaum cebong kapir udah keliatan dong...   1        1   \n",
       "\n",
       "   HS_Individual  HS_Group  HS_Religion  HS_Race  HS_Physical  HS_Gender  \\\n",
       "0              1         0            0        0            0          0   \n",
       "1              0         0            0        0            0          0   \n",
       "2              0         0            0        0            0          0   \n",
       "3              0         0            0        0            0          0   \n",
       "4              0         1            1        0            0          0   \n",
       "\n",
       "   HS_Other  HS_Weak  HS_Moderate  HS_Strong  \n",
       "0         1        1            0          0  \n",
       "1         0        0            0          0  \n",
       "2         0        0            0          0  \n",
       "3         0        0            0          0  \n",
       "4         0        0            1          0  "
      ]
     },
     "execution_count": 162,
     "metadata": {},
     "output_type": "execute_result"
    }
   ],
   "source": [
    "df = pd.read_csv('train.csv', encoding='latin-1')\n",
    "df.head()"
   ]
  },
  {
   "cell_type": "code",
   "execution_count": 163,
   "metadata": {},
   "outputs": [
    {
     "data": {
      "text/plain": [
       "(13169, 13)"
      ]
     },
     "execution_count": 163,
     "metadata": {},
     "output_type": "execute_result"
    }
   ],
   "source": [
    "df.shape"
   ]
  },
  {
   "cell_type": "code",
   "execution_count": 164,
   "metadata": {},
   "outputs": [
    {
     "data": {
      "text/html": [
       "<div>\n",
       "<style scoped>\n",
       "    .dataframe tbody tr th:only-of-type {\n",
       "        vertical-align: middle;\n",
       "    }\n",
       "\n",
       "    .dataframe tbody tr th {\n",
       "        vertical-align: top;\n",
       "    }\n",
       "\n",
       "    .dataframe thead th {\n",
       "        text-align: right;\n",
       "    }\n",
       "</style>\n",
       "<table border=\"1\" class=\"dataframe\">\n",
       "  <thead>\n",
       "    <tr style=\"text-align: right;\">\n",
       "      <th></th>\n",
       "      <th>Unnamed: 0</th>\n",
       "      <th>Tweet</th>\n",
       "      <th>HS</th>\n",
       "      <th>Abusive</th>\n",
       "      <th>HS_Individual</th>\n",
       "      <th>HS_Group</th>\n",
       "      <th>HS_Religion</th>\n",
       "      <th>HS_Race</th>\n",
       "      <th>HS_Gender</th>\n",
       "    </tr>\n",
       "  </thead>\n",
       "  <tbody>\n",
       "    <tr>\n",
       "      <th>0</th>\n",
       "      <td>0</td>\n",
       "      <td>Jangan Nanti Hanya Tinggal Penyesalan..\\n\\nSud...</td>\n",
       "      <td>0</td>\n",
       "      <td>0</td>\n",
       "      <td>0</td>\n",
       "      <td>0</td>\n",
       "      <td>0</td>\n",
       "      <td>0</td>\n",
       "      <td>0</td>\n",
       "    </tr>\n",
       "    <tr>\n",
       "      <th>1</th>\n",
       "      <td>1</td>\n",
       "      <td>@ElfridaHutabar5 🤗🤗🤗..\\nTetap kabarkan keadaan...</td>\n",
       "      <td>0</td>\n",
       "      <td>0</td>\n",
       "      <td>0</td>\n",
       "      <td>0</td>\n",
       "      <td>0</td>\n",
       "      <td>0</td>\n",
       "      <td>0</td>\n",
       "    </tr>\n",
       "    <tr>\n",
       "      <th>2</th>\n",
       "      <td>2</td>\n",
       "      <td>@puspaswarna @Miduk17 Kerja yang bagus, harus ...</td>\n",
       "      <td>0</td>\n",
       "      <td>0</td>\n",
       "      <td>0</td>\n",
       "      <td>0</td>\n",
       "      <td>0</td>\n",
       "      <td>0</td>\n",
       "      <td>0</td>\n",
       "    </tr>\n",
       "    <tr>\n",
       "      <th>3</th>\n",
       "      <td>3</td>\n",
       "      <td>@Miduk17 Sebentar-sebentar..\\nBukannya ada wal...</td>\n",
       "      <td>0</td>\n",
       "      <td>0</td>\n",
       "      <td>0</td>\n",
       "      <td>0</td>\n",
       "      <td>0</td>\n",
       "      <td>0</td>\n",
       "      <td>0</td>\n",
       "    </tr>\n",
       "    <tr>\n",
       "      <th>4</th>\n",
       "      <td>4</td>\n",
       "      <td>@__Bungs HBD..\\nPanjang umur, sehat dan hidup ...</td>\n",
       "      <td>0</td>\n",
       "      <td>0</td>\n",
       "      <td>0</td>\n",
       "      <td>0</td>\n",
       "      <td>0</td>\n",
       "      <td>0</td>\n",
       "      <td>0</td>\n",
       "    </tr>\n",
       "  </tbody>\n",
       "</table>\n",
       "</div>"
      ],
      "text/plain": [
       "   Unnamed: 0                                              Tweet  HS  Abusive  \\\n",
       "0           0  Jangan Nanti Hanya Tinggal Penyesalan..\\n\\nSud...   0        0   \n",
       "1           1  @ElfridaHutabar5 🤗🤗🤗..\\nTetap kabarkan keadaan...   0        0   \n",
       "2           2  @puspaswarna @Miduk17 Kerja yang bagus, harus ...   0        0   \n",
       "3           3  @Miduk17 Sebentar-sebentar..\\nBukannya ada wal...   0        0   \n",
       "4           4  @__Bungs HBD..\\nPanjang umur, sehat dan hidup ...   0        0   \n",
       "\n",
       "   HS_Individual  HS_Group  HS_Religion  HS_Race  HS_Gender  \n",
       "0              0         0            0        0          0  \n",
       "1              0         0            0        0          0  \n",
       "2              0         0            0        0          0  \n",
       "3              0         0            0        0          0  \n",
       "4              0         0            0        0          0  "
      ]
     },
     "execution_count": 164,
     "metadata": {},
     "output_type": "execute_result"
    }
   ],
   "source": [
    "tdf = pd.read_csv('sahabatsaber-labeled.csv')\n",
    "tdf.head()"
   ]
  },
  {
   "cell_type": "code",
   "execution_count": 165,
   "metadata": {},
   "outputs": [
    {
     "data": {
      "text/plain": [
       "(6109, 9)"
      ]
     },
     "execution_count": 165,
     "metadata": {},
     "output_type": "execute_result"
    }
   ],
   "source": [
    "tdf.shape"
   ]
  },
  {
   "cell_type": "code",
   "execution_count": 166,
   "metadata": {},
   "outputs": [
    {
     "data": {
      "text/html": [
       "<div>\n",
       "<style scoped>\n",
       "    .dataframe tbody tr th:only-of-type {\n",
       "        vertical-align: middle;\n",
       "    }\n",
       "\n",
       "    .dataframe tbody tr th {\n",
       "        vertical-align: top;\n",
       "    }\n",
       "\n",
       "    .dataframe thead th {\n",
       "        text-align: right;\n",
       "    }\n",
       "</style>\n",
       "<table border=\"1\" class=\"dataframe\">\n",
       "  <thead>\n",
       "    <tr style=\"text-align: right;\">\n",
       "      <th></th>\n",
       "      <th>Tweet</th>\n",
       "      <th>HS</th>\n",
       "      <th>Abusive</th>\n",
       "      <th>HS_Individual</th>\n",
       "      <th>HS_Group</th>\n",
       "      <th>HS_Religion</th>\n",
       "      <th>HS_Race</th>\n",
       "      <th>HS_Physical</th>\n",
       "      <th>HS_Gender</th>\n",
       "      <th>HS_Other</th>\n",
       "      <th>HS_Weak</th>\n",
       "      <th>HS_Moderate</th>\n",
       "      <th>HS_Strong</th>\n",
       "    </tr>\n",
       "  </thead>\n",
       "  <tbody>\n",
       "  </tbody>\n",
       "</table>\n",
       "</div>"
      ],
      "text/plain": [
       "Empty DataFrame\n",
       "Columns: [Tweet, HS, Abusive, HS_Individual, HS_Group, HS_Religion, HS_Race, HS_Physical, HS_Gender, HS_Other, HS_Weak, HS_Moderate, HS_Strong]\n",
       "Index: []"
      ]
     },
     "execution_count": 166,
     "metadata": {},
     "output_type": "execute_result"
    }
   ],
   "source": [
    "df[df['Tweet'] == np.nan]"
   ]
  },
  {
   "cell_type": "code",
   "execution_count": 167,
   "metadata": {},
   "outputs": [
    {
     "data": {
      "text/html": [
       "<div>\n",
       "<style scoped>\n",
       "    .dataframe tbody tr th:only-of-type {\n",
       "        vertical-align: middle;\n",
       "    }\n",
       "\n",
       "    .dataframe tbody tr th {\n",
       "        vertical-align: top;\n",
       "    }\n",
       "\n",
       "    .dataframe thead th {\n",
       "        text-align: right;\n",
       "    }\n",
       "</style>\n",
       "<table border=\"1\" class=\"dataframe\">\n",
       "  <thead>\n",
       "    <tr style=\"text-align: right;\">\n",
       "      <th></th>\n",
       "      <th>stopword</th>\n",
       "    </tr>\n",
       "  </thead>\n",
       "  <tbody>\n",
       "    <tr>\n",
       "      <th>0</th>\n",
       "      <td>ada</td>\n",
       "    </tr>\n",
       "    <tr>\n",
       "      <th>1</th>\n",
       "      <td>adalah</td>\n",
       "    </tr>\n",
       "    <tr>\n",
       "      <th>2</th>\n",
       "      <td>adanya</td>\n",
       "    </tr>\n",
       "    <tr>\n",
       "      <th>3</th>\n",
       "      <td>adapun</td>\n",
       "    </tr>\n",
       "    <tr>\n",
       "      <th>4</th>\n",
       "      <td>agak</td>\n",
       "    </tr>\n",
       "  </tbody>\n",
       "</table>\n",
       "</div>"
      ],
      "text/plain": [
       "  stopword\n",
       "0      ada\n",
       "1   adalah\n",
       "2   adanya\n",
       "3   adapun\n",
       "4     agak"
      ]
     },
     "execution_count": 167,
     "metadata": {},
     "output_type": "execute_result"
    }
   ],
   "source": [
    "stopwords = pd.read_csv('stopwordbahasa.csv', header=None)\n",
    "stopwords = stopwords.rename(columns={0: 'stopword'})\n",
    "stopwords.head()"
   ]
  },
  {
   "cell_type": "code",
   "execution_count": 168,
   "metadata": {},
   "outputs": [
    {
     "data": {
      "text/html": [
       "<div>\n",
       "<style scoped>\n",
       "    .dataframe tbody tr th:only-of-type {\n",
       "        vertical-align: middle;\n",
       "    }\n",
       "\n",
       "    .dataframe tbody tr th {\n",
       "        vertical-align: top;\n",
       "    }\n",
       "\n",
       "    .dataframe thead th {\n",
       "        text-align: right;\n",
       "    }\n",
       "</style>\n",
       "<table border=\"1\" class=\"dataframe\">\n",
       "  <thead>\n",
       "    <tr style=\"text-align: right;\">\n",
       "      <th></th>\n",
       "      <th>original</th>\n",
       "      <th>replacement</th>\n",
       "    </tr>\n",
       "  </thead>\n",
       "  <tbody>\n",
       "    <tr>\n",
       "      <th>0</th>\n",
       "      <td>anakjakartaasikasik</td>\n",
       "      <td>anak jakarta asyik asyik</td>\n",
       "    </tr>\n",
       "    <tr>\n",
       "      <th>1</th>\n",
       "      <td>pakcikdahtua</td>\n",
       "      <td>pak cik sudah tua</td>\n",
       "    </tr>\n",
       "    <tr>\n",
       "      <th>2</th>\n",
       "      <td>pakcikmudalagi</td>\n",
       "      <td>pak cik muda lagi</td>\n",
       "    </tr>\n",
       "    <tr>\n",
       "      <th>3</th>\n",
       "      <td>t3tapjokowi</td>\n",
       "      <td>tetap jokowi</td>\n",
       "    </tr>\n",
       "    <tr>\n",
       "      <th>4</th>\n",
       "      <td>3x</td>\n",
       "      <td>tiga kali</td>\n",
       "    </tr>\n",
       "  </tbody>\n",
       "</table>\n",
       "</div>"
      ],
      "text/plain": [
       "              original               replacement\n",
       "0  anakjakartaasikasik  anak jakarta asyik asyik\n",
       "1         pakcikdahtua         pak cik sudah tua\n",
       "2       pakcikmudalagi         pak cik muda lagi\n",
       "3          t3tapjokowi              tetap jokowi\n",
       "4                   3x                 tiga kali"
      ]
     },
     "execution_count": 168,
     "metadata": {},
     "output_type": "execute_result"
    }
   ],
   "source": [
    "kamusalay = pd.read_csv('new_kamusalay.csv', header=None, encoding='latin-1')\n",
    "kamusalay = kamusalay.rename(columns={0: 'original', 1: 'replacement'})\n",
    "kamusalay.head() "
   ]
  },
  {
   "cell_type": "code",
   "execution_count": 169,
   "metadata": {},
   "outputs": [],
   "source": [
    "df = df[df['Tweet'] != '']"
   ]
  },
  {
   "cell_type": "code",
   "execution_count": 170,
   "metadata": {},
   "outputs": [],
   "source": [
    "df.drop(['Abusive', 'HS_Physical', 'HS_Other', 'HS_Weak', 'HS_Moderate', 'HS_Strong'], axis=1, inplace=True)\n",
    "tdf.drop(['Unnamed: 0', 'Abusive'], axis=1, inplace=True)"
   ]
  },
  {
   "cell_type": "code",
   "execution_count": 171,
   "metadata": {},
   "outputs": [],
   "source": [
    "def lowercase(text):\n",
    "    return text.lower()"
   ]
  },
  {
   "cell_type": "code",
   "execution_count": 172,
   "metadata": {},
   "outputs": [
    {
     "data": {
      "text/plain": [
       "'  80 Katekumen susah g sih??'"
      ]
     },
     "execution_count": 172,
     "metadata": {},
     "output_type": "execute_result"
    }
   ],
   "source": [
    "# def function to remove unnecessary char\n",
    "\n",
    "def remove_unnecessary_char(text):\n",
    "    text = re.sub('\\n', ' ', text) # remove new line\n",
    "    text = re.sub('rt', ' ', text) # remove every rt symbol\n",
    "    text = re.sub('user', ' ', text) # remove every user substring appearance\n",
    "    text = re.sub('((www\\.[^\\s]+) | (https?://[^\\s]+) | (http?://[^\\s]+))', ' ', text) # remove every url \n",
    "    text = re.sub('  +', ' ', text) # remove every extra space\n",
    "    text = re.sub('^@\\w+', ' ', text)\n",
    "    return text\n",
    "\n",
    "remove_unnecessary_char('@Andy_Art80 Katekumen susah g sih??')"
   ]
  },
  {
   "cell_type": "code",
   "execution_count": 173,
   "metadata": {},
   "outputs": [],
   "source": [
    "def remove_nonalphabetical(text):\n",
    "    text = re.sub('[^a-zA-Z]+', ' ', text)\n",
    "    return text"
   ]
  },
  {
   "cell_type": "code",
   "execution_count": 174,
   "metadata": {},
   "outputs": [],
   "source": [
    "alay_dict = dict(zip(kamusalay['original'], kamusalay['replacement']))\n",
    "\n",
    "def normalize_alay(text):\n",
    "    return ' '.join([alay_dict[word] if word in alay_dict else word for word in text.split(' ')])"
   ]
  },
  {
   "cell_type": "code",
   "execution_count": 175,
   "metadata": {},
   "outputs": [],
   "source": [
    "def remove_stopword(text):\n",
    "    text = ' '.join(['' if word in stopwords['stopword'].values else word for word in text.split(' ')])\n",
    "    text = re.sub('  +', ' ', text)\n",
    "    text = text.strip()\n",
    "    return text"
   ]
  },
  {
   "cell_type": "code",
   "execution_count": 176,
   "metadata": {},
   "outputs": [],
   "source": [
    "factory = StemmerFactory()\n",
    "stemmer = factory.create_stemmer()\n",
    "\n",
    "def stemming(text):\n",
    "    return stemmer.stem(text)"
   ]
  },
  {
   "cell_type": "code",
   "execution_count": 177,
   "metadata": {},
   "outputs": [],
   "source": [
    "def remove_emoticon_byte(text):\n",
    "    text = text.replace(\"\\\\\", \" \")\n",
    "    text = re.sub('x..', ' ', text)\n",
    "    text = re.sub(' n ', ' ', text)\n",
    "    text = re.sub('\\\\+', ' ', text)\n",
    "    text = re.sub('  +', ' ', text)\n",
    "    return text"
   ]
  },
  {
   "cell_type": "code",
   "execution_count": 178,
   "metadata": {},
   "outputs": [],
   "source": [
    "def preprocess(text):\n",
    "    text = lowercase(text)\n",
    "    text = remove_unnecessary_char(text)\n",
    "    text = remove_nonalphabetical(text)\n",
    "    text = normalize_alay(text)\n",
    "    text = remove_emoticon_byte(text)\n",
    "    text = remove_stopword(text)\n",
    "    text = stemming(text)\n",
    "    text = text.strip()\n",
    "    return text"
   ]
  },
  {
   "cell_type": "code",
   "execution_count": 179,
   "metadata": {},
   "outputs": [],
   "source": [
    "df['Tweet'] = df['Tweet'].apply(preprocess)"
   ]
  },
  {
   "cell_type": "code",
   "execution_count": 180,
   "metadata": {},
   "outputs": [
    {
     "name": "stdout",
     "output_type": "stream",
     "text": [
      "['lacak', 'basic', 'ciga', 'ifla', 'cal', 'licew', 'dukuh', 'watch', 'aldnoah', 'zero', 'friendzone', 'ais', 'kepal', 'milo', 'horlicks', 'cendol', 'toping', 'doket', 'gerai', 'rozak', 'uaku', 'kembar', 'baby', 'romantika', 'senawang', 'koe', 'privatisasi', 'ironi', 'huru', 'hara', 'intelek', 'sahih', 'ahlun', 'nar', 'bek', 'gantle', 'alga', 'mnr', 'ketidakmampuan', 'bilah', 'hilir', 'udara', 'delay', 'gosong', 'hasyim', 'muzadi', 'sahur', 'ekarang', 'lemas', 'blued', 'gvid', 'aksara', 'guardian', 'training', 'flat', 'shoes', 'dijutekin', 'dpara', 'lady', 'lipat', 'sanji', 'thpelautjkt', 'aja', 'fabiano', 'farhat', 'abbas', 'law', 'masya', 'hasananton', 'kosterace', 'nurdinsudirman', 'karolingidot', 'rakercabsu', 'lokalisasi', 'gamelan', 'konang', 'nse', 'cangkul', 'jagung', 'esemka', 'sembahyang', 'ritus', 'menyembahhyang', 'tempurung', 'awaasss', 'kosakata', 'picing', 'nhn', 'ngeden', 'pinokio', 'silat', 'kho', 'liang', 'ie', 'shen', 'deskripsi', 'information', 'lowo', 'takabur', 'cendikia', 'atus', 'hasud', 'filsafat', 'failosof', 'sendi', 'mubah', 'khofifahemilnomer', 'pop', 'malih', 'tongtong', 'raf', 'fussilat', 'nhati', 'amu', 'beraja', 'jaja', 'umpama', 'hiwhjp', 'konsensus', 'kebo', 'ohannya', 'tingkah', 'petinggi', 'kompetisi', 'kalap', 'faktual', 'sirat', 'bintit', 'bawel', 'bodor', 'riak', 'blaaa', 'pape', 'tarutung', 'ratap', 'pilu', 'sewot', 'engah', 'epuk', 'kiprah', 'ketapang', 'bauksit', 'cornelis', 'syariah', 'momentum', 'pacitan', 'house', 'select', 'committee', 'assassination', 'hsca', 'investigasi', 'fbi', 'warren', 'commission', 'genap', 'hajat', 'senantiasa', 'agustus', 'normatif', 'paya', 'usak', 'woiii', 'bengkulu', 'cok', 'heru', 'hucu', 'drase', 'ana', 'luvian', 'kapling', 'salib', 'babilonia', 'tobaco', 'setor', 'shobri', 'lubis', 'reserse', 'gambir', 'perhaps', 'tng', 'sul', 'teng', 'ekses', 'sandera', 'tetapjokowiganti', 'pride', 'cf', 'hyper', 'hania', 'angkuh', 'hubris', 'vanity', 'wasiat', 'duhai', 'hot', 'raffi', 'random', 'samper', 'bedak', 'dan', 'ratna', 'paiiit', 'anus', 'banj', 'beranta', 'impossible', 'lelang', 'incumbent', 'gentleman', 'bebal', 'populasi', 'obviously', 'umuh', 'laris', 'eloah', 'elohim', 'yahwe', 'cuaca', 'diframing', 'katak', 'tumpah', 'ehe', 'sihombing', 'lobusiregar', 'rudi', 'panjaitan', 'helm', 'siahaan', 'hotman', 'tempel', 'blak', 'viva', 'eyel', 'elektabilitasnya', 'durno', 'grub', 'mek', 'pres', 'badar', 'nuqaba', 'boekkk', 'hambar', 'jom', 'chubby', 'ilham', 'deb', 'rahman', 'tun', 'hogohundi', 'sialaaan', 'sikat', 'ugal', 'kacaoooooo', 'instansi', 'duuuhhh', 'aspal', 'beton', 'jitu', 'belot', 'freemason', 'apollinaris', 'darmawan', 'koloe', 'lufra', 'scrub', 'melembabkan', 'cahaya', 'mass', 'index', 'binjai', 'sita', 'uliskan', 'radang', 'rekomendasi', 'kafan', 'patron', 'gotong', 'royong', 'harmoni', 'selaras', 'luhur', 'jabarasyik', 'tabah', 'taufik', 'nurliyana', 'come', 'razif', 'belaganya', 'flop', 'purwoke', 'mumpung', 'ekstra', 'vaganza', 'banyumas', 'taktis', 'kip', 'padat', 'kan', 'ular', 'rawa', 'cingkrang', 'gentar', 'cir', 'buluk', 'mucikari', 'darma', 'plumbon', 'porong', 'yaman', 'depo', 'madiun', 'today', 'thmadiun', 'karismatik', 'cukai', 'tuyg', 'lebah', 'madu', 'hacker', 'protein', 'energy', 'malnutrition', 'kaffah', 'selam', 'sum', 'login', 'redtube', 'nikita', 'mirzani', 'cebang', 'fantasi', 'cokorers', 'enggan', 'angie', 'sofa', 'indische', 'sociaal', 'democratische', 'vereeniging', 'shaheizy', 'baharu', 'calpis', 'telah', 'presentasi', 'kategori', 'menganggu', 'naif', 'cibadak', 'giveaway', 'rich', 'chenle', 'perata', 'tora', 'tribun', 'mahfud', 'berang', 'kuak', 'cerdik', 'pnge', 'sogok', 'rabun', 'sepo', 'brahahahaaa', 'cebok', 'update', 'laik', 'seleksi', 'ncc', 'misionaris', 'bib', 'dramatis', 'lovren', 'emanan', 'friend', 'forever', 'pengap', 'rasan', 'jera', 'denny', 'haryanto', 'chamber', 'jci', 'setiamelayanijaka', 'knowledge', 'rantau', 'mikiiiir', 'complain', 'raga', 'grand', 'theft', 'jemput', 'ctidak', 'rasyidin', 'ckami', 'ckalau', 'match', 'chelsea', 'manchester', 'embuh', 'manuver', 'madi', 'arya', 'tengik', 'rakit', 'tainya', 'selotipan', 'hary', 'tanoe', 'kamus', 'kenegarawanan', 'stresssssss', 'strok', 'badut', 'duren', 'taurat', 'injil', 'verbal', 'lampias', 'lunak', 'hela', 'nafas', 'massage', 'gayjaka', 'tangger', 'nyosor', 'jebur', 'seret', 'basmi', 'cecer', 'pesing', 'posko', 'kompor', 'benang', 'leher', 'tombak', 'surut', 'zie', 'bajrie', 'cuba', 'anime', 'karakai', 'jozu', 'takagi', 'feeling', 'throwback', 'derau', 'kuta', 'anegara', 'kontak', 'jilboobs', 'dea', 'ajang', 'akademik', 'egosentris', 'takbir', 'hanta', 'yudha', 'gayeng', 'ngong', 'tobat', 'wibisono', 'supir', 'metromini', 'mengaa', 'relatif', 'penge', 'iannya', 'undeeestimate', 'mangkrakan', 'making', 'pukau', 'aspirasi', 'lina', 'sumedang', 'bimbang', 'awwww', 'comel', 'idealis', 'realistis', 'kutang', 'germo', 'nasal', 'fernando', 'valley', 'fraksi', 'biawak', 'sekop', 'karbitan', 'tenggelamkanjokowikesungaisiak', 'emoh', 'agitasi', 'skema', 'karung', 'mekanisme', 'vital', 'inter', 'maicon', 'ambrosio', 'cancelo', 'nhmmmm', 'ausilio', 'himbau', 'jiarah', 'nazi', 'simon', 'wiesenthal', 'gestapo', 'rauf', 'van', 'eksekusi', 'poligami', 'umpet', 'royson', 'fundamental', 'debt', 'trap', 'north', 'offshore', 'pepet', 'kopiah', 'atar', 'janggut', 'dahi', 'belekok', 'syurga', 'place', 'rajam', 'daur', 'iga', 'bingkai', 'mula', 'ist', 'accessoris', 'gigih', 'heeee', 'toga', 'jemirahan', 'takiyuddin', 'sahkan', 'pinda', 'karl', 'mark', 'pentol', 'perjaka', 'booking', 'rev', 'dark', 'side', 'bright', 'chill', 'kalai', 'signifikan', 'browser', 'praktis', 'demokratis', 'jess', 'squi', 'modifikasi', 'aspek', 'invasi', 'inspektur', 'hutasoit', 'ranting', 'damenra', 'hutanagodang', 'tap', 'bara', 'keruk', 'megap', 'fardu', 'kifayah', 'truk', 'nahdliyin', 'setop', 'maruf', 'risa', 'iris', 'hazel', 'siluet', 'encer', 'introspeksi', 'prope', 'goku', 'liebe', 'ipad', 'cemplung', 'darmin', 'nasution', 'nguoblokkk', 'dedengkot', 'adal', 'lebat', 'gelita', 'guruh', 'kilat', 'sumbat', 'petir', 'masakan', 'konseptual', 'yoon', 'sergap', 'gapai', 'wine', 'kupas', 'field', 'trip', 'safari', 'arisan', 'arif', 'ikhtiar', 'sontek', 'onar', 'prihatin', 'kontroversi', 'acon', 'tawangsari', 'pam', 'native', 'speaker', 'mother', 'language', 'english', 'absurd', 'impression', 'stw', 'singaraja', 'baekhyun', 'ceruk', 'asuransi', 'staquf', 'saud', 'napas', 'sungkan', 'diving', 'junedi', 'suciwati', 'hoshi', 'makelar', 'siti', 'fatimah', 'laman', 'ringkas', 'hiks', 'nsd', 'umpan', 'mancing', 'ikko', 'feri', 'pekik', 'hun', 'jonan', 'mineral', 'jos', 'clara', 'idot', 'butt', 'scopus', 'pangkal', 'database', 'nasionalisasi', 'patriotik', 'uju', 'terjun', 'remuk', 'rengginang', 'padah', 'bulak', 'ompu', 'segal', 'sikpande', 'gembong', 'bebuyutan', 'alin', 'melur', 'kaisoo', 'couple', 'hunhan', 'fact', 'transit', 'kalabong', 'bondowoso', 'radar', 'jember', 'googling', 'confess', 'ehhhhh', 'bandot', 'kaprah', 'luuuu', 'sensus', 'baitullah', 'kedih', 'paus', 'lebiiihhhh', 'yudi', 'widiana', 'tilap', 'juz', 'liqo', 'wetiau', 'cibir', 'taubat', 'istanbul', 'karaoke', 'sense', 'diskotik', 'eksotik', 'ole', 'ganjal', 'konotasi', 'ndg', 'pasundan', 'njiiieng', 'pancasialis', 'ekspos', 'kwik', 'ekonom', 'iauw', 'dokumen', 'kidding', 'rival', 'panuan', 'jamur', 'pentas', 'gampar', 'rmol', 'boediono', 'century', 'intens', 'enkulturasi', 'copras', 'mikirrrr', 'kowi', 'bur', 'lintah', 'klakson', 'ubi', 'lampu', 'chain', 'puteeeh', 'geli', 'anton', 'amen', 'mentioned', 'bok', 'papas', 'amoral', 'ansor', 'owner', 'seo', 'hiring', 's', 'soemitro', 'doll', 'new', 'eksotisme', 'dompu', 'kongres', 'konteks', 'kontestasi', 'cebonger', 'fik', 'pengantin', 'tajikistan', 'kudus', 'ambon', 'tot', 'selandia', 'subki', 'bughury', 'sos', 'sinjai', 'lugu', 'detikcom', 'darul', 'blusuk', 'bagai', 'pasrah', 'shopee', 'pustaka', 'prakarya', 'songsong', 'ngepost', 'nik', 'sirik', 'mawati', 'obyek', 'platform', 'roti', 'every', 'night', 'naaaaa', 'aaaaaaaaa', 'danta', 'aaaaaaaaaaa', 'aaaaaaaaaaaaaaa', 'kalong', 'butut', 'asalamualaikum', 'alaykum', 'korbanphkfreepo', 'selagi', 'guyon', 'ekstremis', 'geledek', 'letus', 'tangis', 'sodomi', 'muzakarah', 'kreativitas', 'roda', 'sengon', 'prambanan', 'abur', 'klausul', 'sukarela', 'pagar', 'rpgpedia', 'kandangbant', 'role', 'playing', 'rudy', 'ruddy', 'temeh', 'mayor', 'sitoli', 'sumutpilih', 'sihar', 'syahwat', 'sen', 'alun', 'forward', 'danga', 'improvisasi', 'murottal', 'tilawatil', 'raut', 'qiyamah', 'ups', 'angkap', 'harus', 'kilang', 'jahanam', 'jangkau', 'kisruh', 'bengkalai', 'leadership', 'nwahhh', 'roman', 'tahfiz', 'bondong', 'lalak', 'zouk', 'sola', 'aliano', 'antena', 'alkohol', 'kemas', 'finger', 'entangkan', 'tsamara', 'antusiasme', 'merosot', 'trust', 'hil', 'walubi', 'tetelo', 'putin', 'roh', 'museum', 'camera', 'erus', 'niform', 'eksperimen', 'launching', 'pojok', 'wetan', 'kultur', 'kolaborasi', 'kisas', 'salman', 'rusdhi', 'satanic', 'verse', 'angan', 'nara', 'gian', 'amput', 'keji', 'abdurrahman', 'bowie', 'cece', 'salon', 'babang', 'tebal', 'rimbun', 'iler', 'dav', 'leluasa', 'privasi', 'dengan', 'kipas', 'eria', 'teater', 'narasumber', 'kamera', 'insentif', 'changbin', 'fed', 'well', 'motivasi', 'merch', 'tepuk', 'morfin', 'pc', 'jucan', 'sepatu', 'ambu', 'jutek', 'iyuuuh', 'yanyk', 'belaka', 'macam', 'eyes', 'much', 'peluru', 'taeyong', 'nct', 'fanbase', 'kuala', 'lumpur', 'hujah', 'lipstik', 'kolor', 'kelakar', 'klaka', 'pmr', 'merintahkan', 'siwanbango', 'akhir', 'delman', 'harta', 'orasi', 'bebek', 'junj', 'jor', 'joran', 'bombardir', 'ransformasi', 'tin', 'revitalisasi', 'petisi', 'cipinang', 'palung', 'edukasi', 'manusya', 'konsekuensi', 'tangga', 'departemen', 'timbang', 'gigi', 'makam', 'januari', 'burma', 'hooo', 'trigger', 'thing', 'bout', 'her', 'filter', 'tahunpks', 'fandom', 'ketes', 'ronald', 'pinisepuh', 'gulung', 'lengan', 'kemeja', 'tabik', 'ios', 'tendang', 'palkjihun', 'salatiga', 'gembira', 'pora', 'belenggu', 'marak', 'rafidhah', 'kerok', 'kudeta', 'ahlusunah', 'ukir', 'megah', 'mandiri', 'teruna', 'mobilisasi', 'tamasya', 'brebes', 'nkk', 'nas', 'ruas', 'cengeng', 'isan', 'ngehek', 'lollll', 'mem', 'realisitis', 'sales', 'mungil', 'paha', 'asuuuuu', 'sekarat', 'pilah', 'muslimin', 'rakhine', 'harlah', 'etis', 'gu', 'unda', 'lamar', 'small', 'medium', 'enterprises', 'cooperatives', 'konsili', 'yerusalem', 'yeoja', 'chara', 'spam', 'pic', 'rep', 'dra', 'kicau', 'turonggo', 'kajakkk', 'widjanarko', 'dieng', 'ungar', 'gedong', 'sanga', 'borobudur', 'sewu', 'kalas', 'mendut', 'male', 'tinja', 'maestro', 'migrain', 'plak', 'caring', 'hg', 'brim', 'timing', 'november', 'mandat', 'britania', 'resolusi', 'inherit', 'puyeng', 'pkip', 'prama', 'postingan', 'lele', 'rektor', 'jindan', 'jfc', 'geliat', 'minion', 'le', 'monster', 'assist', 'turet', 'atm', 'mowaa', 'nias', 'syiar', 'jir', 'dahak', 'sembung', 'golok', 'urung', 'payung', 'perempuannn', 'goods', 'services', 'ntuk', 'petroleum', 'lagi', 'atangnya', 'bn', 'gelombang', 'presidential', 'threshold', 'titah', 'gunawan', 'asri', 'kehed', 'cermat', 'pedean', 'mules', 'lebay', 'anteng', 'lemang', 'rutin', 'pagu', 'gelut', 'jeffrey', 'anisa', 'analisis', 'panggul', 'isl', 'mua', 'teri', 'tapanuli', 'audit', 'bantar', 'gebang', 'dina', 'mah', 'kapuji', 'lamun', 'lewih', 'loba', 'spanduk', 'framing', 'owa', 'daniel', 'aron', 'yochanan', 'songgoriti', 'vila', 'klop', 'prabowopresiden', 'citarik', 'kumuh', 'resap', 'nun', 'hhhhmmm', 'jirapuncel', 'humoris', 'vagina', 'kelentit', 'sinden', 'princess', 'aprilia', 'onggo', 'mobile', 'legend', 'kimakkk', 'owwwwh', 'supirnya', 'besi', 'liak', 'jlentrek', 'sak', 'dayak', 'lumpia', 'sek', 'destinasi', 'piknik', 'khidmat', 'seroja', 'rode', 'bandel', 'indo', 'boobs', 'milf', 'blonde', 'cum', 'web', 'blogger', 'situs', 'bonus', 'naked', 'toge', 'puting', 'binal', 'bisyar', 'pascol', 'mania', 'cocktribute', 'soedurisme', 'insinyur', 'akting', 'intelijen', 'ngapain', 'bgstttttttt', 'bis', 'molotov', 'subroto', 'nazar', 'gelora', 'nonton', 'ikelir', 'ifikasi', 'syahid', 'mamat', 'celah', 'lai', 'dasarrrr', 'kesiap', 'kam', 'samarinda', 'samapta', 'cecurut', 'boraks', 'kucirap', 'soler', 'herjos', 'daster', 'pepo', 'ampang', 'rewel', 'helen', 'keller', 'sarjana', 'steven', 'hawking', 'lumpuh', 'tabayun', 'ngomyang', 'indonesiakuasaifreepo', 'huni', 'instruksi', 'anugerah', 'sanusi', 'twitkan', 'begawan', 'gerinda', 'fakir', 'tyas', 'mirasih', 'katai', 'ngebut', 'tum', 'jagal', 'lidi', 'sarang', 'duel', 'biarin', 'ngoaaahahaaa', 'ngoaaahahaaaa', 'xa', 'kesima', 'trik', 'yugi', 'johor', 'takzim', 'alya', 'spesifikasi', 'tudung', 'ustazah', 'cpada', 'muthirna', 'fadhlillahi', 'rohmatih', 'karunia', 'dami', 'tetas', 'fiction', 'yuri', 'delusi', 'preferensi', 'objektif', 'mumpuni', 'jerumus', 'aniaya', 'dicerahami', 'distract', 'ginting', 'mm', 'pahala', 'tuanku', 'rao', 'mazhab', 'hambali', 'hard', 'urine', 'narkotika', 'busa', 'sabun', 'so', 'klin', 'mawar', 'strong', 'sindrom', 'landa', 'rute', 'gang', 'sentiong', 'tks', 'kapitalisme', 'korporasi', 'gigantik', 'lampau', 'tianjin', 'berus', 'aimu', 'junk', 'food', 'kelit', 'aqidah', 'ruwet', 'hibah', 'awat', 'alaaaahhhhh', 'kelok', 'kyungsoo', 'taehyung', 'kampretttt', 'cangkir', 'rak', 'display', 'risau', 'kamoro', 'rambah', 'swiss', 'kanton', 'st', 'gallen', 'metabolisme', 'persero', 'freeport', 'lang', 'hektare', 'anyar', 'helikopter', 'kingdom', 'tabloid', 'obor', 'cnn', 'kontaminasi', 'sosiolog', 'wirutomo', 'ghazali', 'istiadat', 'kerusi', 'pengga', 'pancung', 'gunting', 'telusur', 'afiliasi', 'harry', 'jend', 'jujungan', 'jinjing', 'limpah', 'pip', 'oooohhh', 'bds', 'mc', 'donalds', 'fubu', 'nernya', 'swot', 'oppo', 'unity', 'threat', 'disyerpik', 'psiko', 'warrrbisah', 'keprek', 'juntrung', 'cam', 'comeback', 'hilda', 'lullaby', 'coincidentally', 'sign', 'cross', 'think', 'she', 'folded', 'hands', 'balon', 'tikar', 'kmdn', 'rona', 'wira', 'tentera', 'polis', 'innalillahi', 'ilaihi', 'rojiun', 'wafat', 'kholilurrahman', 'kholil', 'bangkal', 'pegan', 'hpup', 'sitohang', 'indas', 'chedet', 'turn', 'musa', 'nuh', 'nuzul', 'kkkkkkkkkkkkkk', 'ketidakcermatan', 'hmmmm', 'som', 'ambigu', 'harmonisasi', 'kewarganegaraan', 'cashback', 'aplikasinyya', 'kode', 'republiken', 'tsar', 'toniman', 'jabarhasanah', 'kumis', 'nsupo', 'dalih', 'pilar', 'kno', 'ii', 'butir', 'nawacita', 'aaaamiiiiiiinnnn', 'riya', 'banda', 'regulasi', 'leader', 'menye', 'riskan', 'hantam', 'condong', 'desember', 'topi', 'santa', 'travel', 'fashion', 'area', 'sahari', 'tumbal', 'abud', 'mara', 'jiran', 'shj', 'sukamara', 'entangan', 'linglung', 'sudi', 'peru', 'kompilasi', 'waaah', 'ibunda', 'ini', 'jusuf', 'kalla', 'tamak', 'jtnya', 'webtoon', 'arka', 'praktikan', 'bottom', 'sensasional', 'dominan', 'libya', 'multi', 'talenta', 'fabi', 'ayyi', 'rabikuma', 'tukazziban', 'donald', 'voa', 'kesitu', 'mbappe', 'nita', 'apriani', 'domisili', 'kuis', 'progran', 'progresif', 'pose', 'elang', 'ngepet', 'ump', 'migran', 'pikul', 'mulyani', 'maharani', 'sad', 'mewek', 'intoleransi', 'chutang', 'cashflow', 'tsundere', 'canggung', 'pelit', 'madrid', 'masif', 'dumb', 'ception', 'jasmani', 'rohani', 'miiinn', 'hembus', 'kabah', 'sampean', 'ampu', 'marked', 'read', 'ros', 'simamora', 'kamuflase', 'zakat', 'elshinta', 'akurat', 'captain', 'takar', 'alana', 'rumit', 'kelabu', 'wattpad', 'shintadwi', 'dower', 'rapper', 'sentil', 'biji', 'cetar', 'maidah', 'tinggi', 'tg', 'ridauddin', 'loleng', 'asbak', 'programmer', 'apel', 'kelamin', 'ugas', 'kritisi', 'sembak', 'camp', 'zebra', 'pawang', 'frop', 'unfollow', 'fers', 'asyraf', 'segregasi', 'actually', 'sektarianisme', 'dahlan', 'iniii', 'nabuuunggg', 'menghancurleburkan', 'htt', 'seliwer', 'konsulat', 'ganas', 'harp', 'cafe', 'manjaaaaa', 'sendawa', 'ececeh', 'opsi', 'lagiiiii', 'nafkah', 'pcn', 'lis', 'ringgit', 'sobsssss', 'sukanyaaaa', 'semut', 'bar', 'mitzvah', 'haid', 'hijaz', 'raden', 'puruk', 'majapahit', 'wadah', 'jiaaahh', 'pilon', 'sundul', 'tsrm', 'mahkamah', 'tadi', 'indira', 'gandhi', 'spa', 'nyamuk', 'serikat', 'egois', 'lingsir', 'casing', 'patungan', 'ngilu', 'ninja', 'singojuruh', 'apasal', 'eeeee', 'surup', 'kb', 'koneksi', 'return', 'misty', 'ceo', 'starter', 'song', 'sajangnim', 'ndasmu', 'atos', 'iklim', 'zoom', 'kaco', 'coi', 'nkr', 'tubruk', 'nor', 'karipap', 'dapur', 'queen', 'bising', 'detected', 'jenguk', 'int', 'khattab', 'teladan', 'fasih', 'cebi', 'kapten', 'andingan', 'yen', 'taksir', 'pack', 'orisinal', 'double', 'embos', 'hn', 'pengkol', 'ngerojok', 'tow', 'benowo', 'bukittinggi', 'realm', 'matriarchal', 'lks', 'biologi', 'macan', 'erel', 'tagonis', 'paypal', 'chi', 'kita', 'tangkas', 'ino', 'rawita', 'pencitraaan', 'serbuuu', 'quraish', 'vscocam', 'koi', 'atom', 'katil', 'sure', 'bilik', 'bye', 'pecunio', 'io', 'initial', 'coinoffering', 'subjek', 'eto', 'asap', 'miring', 'dilema', 'simalakama', 'inggal', 'raup', 'eksplorasi', 'starbak', 'keandra', 'ingkah', 'jumawa', 'demokratik', 'mancam', 'anna', 'dara', 'perrault', 'kobayakawa', 'mathilda', 'quranhour', 'wisma', 'rezeki', 'taklim', 'rejeki', 'tarim', 'timun', 'agree', 'menhan', 'ansar', 'bidadari', 'aroma', 'nc', 'islamofobia', 'ahid', 'jarak', 'aduk', 'sorry', 'lacoste', 'sandal', 'crocs', 'crocodile', 'animasi', 'multimedia', 'opa', 'wenger', 'arsenal', 'arsene', 'kesah', 'london', 'meriang', 'oksigen', 'absen', 'pentil', 'mimi', 'cousin', 'hipster', 'aurat', 'reka', 'pepek', 'deradikalisasi', 'sungjin', 'jae', 'lawa', 'krik', 'born', 'beat', 'lucas', 'bad', 'asekkk', 'hassle', 'policy', 'hauz', 'gojek', 'sengkuni', 'ramal', 'mail', 'looking', 'whole', 'cheater', 'silap', 'sshhh', 'arek', 'nonsens', 'dibegoin', 'kon', 'lek', 'tewas', 'juj', 'messi', 'icardi', 'lautaro', 'setel', 'bundar', 'semanggi', 'pertamina', 'devisit', 'omzet', 'perludem', 'metode', 'ten', 'tangsel', 'alinea', 'dusun', 'mambang', 'krama', 'kromo', 'gemerlap', 'skincare', 'belit', 'mujur', 'tanu', 'ngakakkk', 'kepick', 'nice', 'mochi', 'taken', 'kesusasteraan', 'yona', 'almaidah', 'mencak', 'bb', 'demam', 'pudjiastuti', 'nuruli', 'res', 'rupawan', 'nasehat', 'ludah', 'auzubillah', 'pelbagai', 'lunas', 'jengkel', 'fangirl', 'done', 'this', 'persentase', 'vokal', 'rapp', 'singing', 'efisiensi', 'fresh', 'dese', 'devat', 'mesin', 'garasi', 'neno', 'warisman', 'fud', 'qaumi', 'ekajati', 'conference', 'jamiat', 'ul', 'hind', 'janab', 'shabbir', 'koplo', 'abanjir', 'cristiano', 'taruih', 'sanak', 'adin', 'takwa', 'telanjang', 'sesi', 'sanjung', 'mahar', 'gratifikasi', 'pelangi', 'chagiya', 'yana', 'hakuri', 'sai', 'yasha', 'mars', 'unta', 'reak', 'saint', 'petak', 'balig', 'observasi', 'consummatum', 'mature', 'asah', 'realitanya', 'dok', 'athea', 'tepung', 'jala', 'qayyum', 'haiz', 'takadacintasepe', 'imu', 'makcik', 'kecoh', 'obar', 'kafirin', 'logo', 'ranjau', 'dum', 'camping', 'cangkem', 'soal', 'langung', 'aaarrggghhhh', 'semb', 'guard', 'bii', 'prosa', 'keri', 'komedi', 'culas', 'gandeng', 'rombeng', 'sihir', 'sisir', 'belia', 'yuhuuuu', 'mb', 'janah', 'skripsi', 'always', 'frepo', 'ekuk', 'lutut', 'forjkw', 'times', 'akur', 'election', 'survey', 'ngebully', 'pray', 'ui', 'psikologi', 'verifikasi', 'uk', 'polewali', 'hama', 'wendy', 'vider', 'pendam', 'ok', 'fwg', 'buron', 'kece', 'newsidn', 'conqueror', 'dendi', 'delio', 'jungler', 'milanisti', 'juventini', 'huta', 'pal', 'pekanbaru', 'kura', 'resta', 'nasakom', 'daki', 'segar', 'pasuk', 'ude', 'anjangsana', 'dialogis', 'security', 'balandongan', 'residen', 'kete', 'iban', 'hang', 'dora', 'bullying', 'car', 'kibar', 'akrobat', 'solidaritas', 'remah', 'gerus', 'gaza', 'buih', 'collection', 'responden', 'setu', 'pastor', 'toke', 'sindikat', 'mondok', 'stad', 'kasus', 'halu', 'cecunguk', 'swasembada', 'vietnam', 'stq', 'mimbar', 'musabaqah', 'quran', 'propinsi', 'realitas', 'hisab', 'terse', 'grogi', 'ariel', 'konter', 'brutal', 'kuncup', 'enam', 'spanyol', 'lagak', 'sera', 'review', 'zat', 'kaiju', 'ate', 'eror', 'jo', 'nsssst', 'cengkareng', 'blitar', 'yohanes', 'lenan', 'bubuh', 'rempah', 'pesat', 'jatinangor', 'sekitar', 'daan', 'mogot', 'serpong', 'kamal', 'jar', 'saggaf', 'jufri', 'khairat', 'opp', 'offside', 'pah', 'poh', 'filsafah', 'lenyap', 'banjar', 'sandang', 'bangli', 'baturiti', 'idam', 'syah', 'markojay', 'abraham', 'mugholadoh', 'casio', 'rin', 'diameter', 'mrebes', 'mil', 'office', 'hanif', 'nung', 'dunning', 'kruger', 'effect', 'ujuk', 'ceplos', 'transisi', 'nangkring', 'amplop', 'kidul', 'jenggot', 'doyan', 'bun', 'stage', 'kepret', 'ahgabong', 'cindy', 'huuuu', 'ismail', 'hafizhahullah', 'baduy', 'cilegon', 'ember', 'bunting', 'balita', 'gelak', 'segel', 'gim', 'hulu', 'nuri', 'ketan', 'sunatullah', 'khalifatullah', 'hikmah', 'bijaksana', 'nganga', 'pentagon', 'kuadrat', 'newmont', 'kongkalikong', 'setir', 'imsak', 'gawat', 'toreh', 'sabrang', 'purwosari', 'girimulyo', 'anam', 'salak', 'budget', 'borang', 'ngerap', 'usil', 'jyp', 'seok', 'skill', 'aye', 'belek', 'ancuran', 'ahap', 'bentara', 'jiun', 'bts', 'fanboy', 'release', 'cincin', 'tengkorak', 'tahi', 'dagu', 'kapar', 'pancasilais', 'gadai', 'iwi', 'eeeeeeee', 'meee', 'eee', 'menghi', 'filosofi', 'vivo', 'launch', 'mutakhir', 'vivov', 'grandlaunch', 'dugem', 'widang', 'ancem', 'trauma', 'sedot', 'spo', 'ifitas', 'ivitas', 'ahai', 'progres', 'duo', 'daddy', 'ardianto', 'keteng', 'sinamata', 'langsing', 'mancung', 'vero', 'aun', 'ekosistem', 'biota', 'rimba', 'ungka', 'nyanyuk', 'kera', 'umnobn', 'ternak', 'amnesia', 'miskinmoralitascuihhh', 'halaqah', 'denial', 'qaedah', 'khawarij', 'culture', 'appreciate', 'ferdinan', 'biografi', 'madura', 'snsd', 'barakallah', 'gantirezim', 'hancurkanpa', 'aisetan', 'yerin', 'kotaro', 'mada', 'mitos', 'fetish', 'late', 'kukuh', 'tommy', 'baret', 'equity', 'degan', 'competitive', 'tawakal', 'pesimisme', 'azam', 'wen', 'girl', 'populerb', 'renaissance', 'eaven', 'lightstick', 'sayid', 'tuang', 'han', 'komplit', 'moncong', 'maktum', 'bag', 'khadijah', 'tambak', 'psk', 'mahasiswi', 'benah', 'alon', 'mayak', 'kick', 'blayer', 'wiri', 'genderuwo', 'aw', 'scroll', 'insta', 'dak', 'farah', 'anjur', 'republika', 'legislasi', 'segara', 'molor', 'gentayang', 'sop', 'sadap', 'ftse', 'mudik', 'rahib', 'belok', 'amanat', 'pangkas', 'owo', 'sentimen', 'domestik', 'makroekonomi', 'laju', 'usd', 'hadeuuuuuhhhh', 'aiman', 'spanar', 'dulatips', 'jas', 'regrann', 'soviet', 'aswaja', 'nikitakru', 'nghh', 'poster', 'tausiah', 'ghouta', 'affu', 'indosiar', 'cekak', 'intelektual', 'copet', 'beliung', 'tpa', 'enteng', 'rahang', 'tololin', 'losssss', 'haluan', 'don', 'care', 'muah', 'suuzan', 'peringkat', 'gmti', 'pariwisata', 'riyanto', 'sofyan', 'asisten', 'deputi', 'oneng', 'setyorini', 'developer', 'busung', 'entas', 'pdkg', 'rasial', 'airplane', 'latin', 'arabic', 'imbas', 'selip', 'guling', 'ina', 'intrasekolah', 'lmao', 'prakarsa', 'kttulama', 'wasatiyyah', 'indonesiabe', 'oleransi', 'lift', 'oku', 'rantam', 'banteng', 'jung', 'hyemi', 'aga', 'marvel', 'ibrani', 'uhuk', 'khong', 'cu', 'bujuk', 'hasrat', 'manual', 'tad', 'hi', 'risi', 'imani', 'gem', 'reaktif', 'mantel', 'letnan', 'purna', 'beijing', 'enzim', 'dandhy', 'laksono', 'keliar', 'sulap', 'kw', 'yi', 'g', 'pinyin', 'changsha', 'colong', 'ben', 'sampel', 'mendem', 'arseto', 'customer', 'pelik', 'hanc', 'bajaj', 'sydney', 'kantung', 'mhh', 'arief', 'jahit', 'ritsleting', 'bengkok', 'sabda', 'wi', 'kilo', 'hirup', 'kumat', 'evi', 'layanto', 'rescuers', 'aubat', 'pasuruan', 'kocu', 'erma', 'insomnia', 'sisternet', 'kekal', 'gerebek', 'bebencongan', 'dermawan', 'hye', 'bogem', 'ngelunjak', 'horor', 'brussel', 'nonaktif', 'hode', 'saba', 'nggakkk', 'help', 'usn', 'cumbu', 'rembulan', 'sweety', 'darling', 'none', 'optimistis', 'betawi', 'bon', 'atap', 'terusi', 'yuuups', 'ketawa', 'dinge', 'iin', 'tali', 'saratok', 'sarawak', 'robi', 'serempet', 'manipulasi', 'maulid', 'munzir', 'musawa', 'juluk', 'geraham', 'ahlus', 'sunah', 'jama', 'mangan', 'addie', 'ms', 'veronica', 'liberalis', 'ancang', 'luck', 'priok', 'moyang', 'mahmud', 'akom', 'paripurna', 'asem', 'olimpiade', 'humaniora', 'ngalau', 'try', 'karst', 'maros', 'pangkep', 'gumam', 'crasain', 'semba', 'ajus', 'tempo', 'dulang', 'karisma', 'beredel', 'beasiswa', 'minangkabau', 'bsbi', 'iacs', 'musafir', 'aromatik', 'sunflower', 'zakar', 'tangkur', 'bulus', 'zaitun', 'herba', 'hiv', 'jamu', 'manjakani', 'petas', 'panci', 'dahsyat', 'kantong', 'marhaen', 'borok', 'monetary', 'fund', 'choi', 'cgue', 'jazirah', 'panggreh', 'rumpi', 'tendensius', 'embun', 'netz', 'rad', 'pi', 'hoot', 'logistik', 'pandeglang', 'seminar', 'dedikasi', 'medco', 'panigoro', 'crispy', 'lengkuas', 'oruptor', 'risma', 'kalimas', 'roboh', 'smule', 'btkcetnk', 'belatung', 'friends', 'with', 'benefit', 'about', 'hing', 'rumor', 'deal', 'intermediate', 'smi', 'unya', 'paguyuban', 'suling', 'error', 'teks', 'translate', 'feodalisme', 'mtvlafane', 'mtvlakpope', 'mtvladancekokobop', 'rasional', 'sate', 'dipukili', 'kristanto', 'erbuka', 'yoga', 'tarekat', 'say', 'kepleset', 'upline', 'komisaris', 'downline', 'pl', 'cerca', 'uighur', 'hantar', 'peta', 'wkwkwkwkkkk', 'spki', 'bobot', 'bwangeeeeeeuuut', 'maknya', 'ngeooaahahahaaaaa', 'xf', 'ifikatanahjkw', 'kintamani', 'kinologi', 'ration', 'cynologique', 'internationale', 'fci', 'soda', 'tenggorok', 'lemon', 'pilek', 'cara', 'boca', 'serakah', 'perihal', 'pad', 'ngeres', 'ktz', 'pasir', 'jorr', 'rambutan', 'disobedience', 'hodo', 'wig', 'sabuga', 've', 'juno', 'bruno', 'kbrn', 'gawattt', 'erima', 'strict', 'keut', 'pondasi', 'mahasiwa', 'inisiasi', 'distimulir', 'oracle', 'matri', 'racle', 'petitih', 'sucipto', 'purnomo', 'gumun', 'getun', 'alem', 'barrister', 'asad', 'udin', 'owaisi', 'iriana', 'den', 'jibril', 'mbek', 'sewa', 'wonocolo', 'sidoarjo', 'lakban', 'df', 'opung', 'terampil', 'labour', 'tetapjokow', 'uhuy', 'wifi', 'antropologi', 'paleo', 'somatologi', 'arkeologi', 'etnolinguistik', 'etnologi', 'persibtakutmaindijaka', 'viking', 'dongeng', 'airpo', 'ila', 'jiwari', 'robbihimul', 'jalla', 'lahul', 'fatihah', 'fadil', 'timpal', 'yukkk', 'arogan', 'bash', 'apps', 'telapak', 'dex', 'badminton', 'capslock', 'sela', 'langgarkonstitusi', 'armeries', 'kering', 'vit', 'cupang', 'deny', 'gurem', 'sepegetahuan', 'ririn', 'eunbi', 'hhhaa', 'genggam', 'hhhhaaaaa', 'handphonenya', 'bolak', 'kerabat', 'syafii', 'lipstick', 'bora', 'cipok', 'munandar', 'ilfeel', 'jul', 'sirosis', 'insecure', 'attachment', 'both', 'ambient', 'disorganized', 'phoerange', 'sakti', 'faktafreepo', 'rosa', 'tugu', 'nissan', 'gentle', 'kontribusi', 'sinergi', 'rahmah', 'setujuuuu', 'sekak', 'mat', 'agil', 'kolektor', 'ngebagus', 'tat', 'tamu', 'rihanna', 'diet', 'kalori', 'mie', 'gomak', 'huhahahhahahaaa', 'sangking', 'happy', 'federation', 'association', 'habitat', 'kisi', '10', 'hampir', 'ong', 'cyang', 'mungkir', 'genosida', 'fair', 'square', 'organization', 'development', 'paskah', 'gfg', 'job', 'victim', 'mualaf', 'responnya', 'hidayah', 'carrefour', 'indomaret', 'gurih', 'pempek', 'wr', 'supratman', 'senggol', 'tohpati', 'segenap', 'polemik', 'sinkron', 'sedeng', 'serobot', 'dir', 'austerity', 'pulih', 'resesi', 'argentina', 'elusi', 'yunior', 'legenda', 'elly', 'pical', 'nico', 'thomas', 'chris', 'john', 'shaloom', 'solot', 'minder', 'bashirah', 'maslahah', 'khidir', 'obsatar', 'sinaga', 'nyabu', 'grafik', 'pamor', 'rk', 'greenteaaaaa', 'pocky', 'green', 'tea', 'mute', 'rlp', 'foreplay', 'bid', 'uslub', 'haj', 'oping', 'delete', 'dise', 'struk', 'reksadana', 'sam', 'market', 'samual', 'subur', 'cep', 'embrio', 'biak', 'twitnya', 'generalisasi', 'dipolotikan', 'parnoan', 'provides', 'technology', 'solutions', 'pramoedya', 'ananta', 'toer', 'olivia', 'nshuuush', 'saf', 'cocokologi', 'kentara', 'laknatullah', 'jungkir', 'prasangka', 'sayangkuuu', 'approach', 'trua', 'tananya', 'hitler', 'pamungkas', 'bui', 'belai', 'blusukan', 'safiey', 'ilias', 'tempias', 'gaet', 'ngebacotnya', 'nayeon', 'profit', 'sanding', 'kenyataanya', 'emukan', 'neng', 'muharam', 'madinah', 'sembelih', 'nj', 'woooow', 'akil', 'ziarah', 'rombong', 'uap', 'ggggg', 'luwes', 'pesimis', 'lanjutjokowi', 'culik', 'pinang', 'askmf', 'ledek', 'oren', 'lambang', 'sumpaaah', 'pagelaran', 'siii', 'byzantium', 'parabalani', 'sawit', 'nganjing', 'jagat', 'transpo', 'laga', 'keripik', 'perosok', 'mnghentak', 'advent', 'rribantenpagiini', 'diplomatik', 'irak', 'gairah', 'lusin', 'pranata', 'reduksi', 'photo', 'nyak', 'parmusi', 'tonjol', 'mentolo', 'agent', 'hemat', 'fitur', 'ef', 'kroscek', 'oposan', 'telan', 'dodigiri', 'handphoneku', 'jus', 'herbal', 'cmp', 'mengepoi', 'pangkat', 'mampir', 'bangku', 'acid', 'dosis', 'cmonyet', 'trisakti', 'atma', 'tarumanegara', 'uki', 'idap', 'paranoid', 'inimah', 'tabib', 'sambi', 'tongkol', 'hoaalaaaah', 'tsiqoh', 'fahmi', 'lena', 'rasio', 'tulah', 'toleh', 'erka', 'away', 'mikir', 'riba', 'sulut', 'bungkam', 'seblak', 'nbk', 'mengakomodir', 'nnu', 'nbl', 'dt', 'efilnikcufecin', 'silam', 'berangan', 'baya', 'hakiki', 'fake', 'ppl', 'everywhere', 'konsultan', 'konsesi', 'deutchbank', 'rothschild', 'simpel', 'alien', 'nampaknya', 'ctki', 'rental', 'formalin', 'cpekerja', 'outsourcing', 'nyala', 'lama', 'ngkin', 'nyerocos', 'kelia', 'pangeran', 'rene', 'enek', 'mercun', 'agresif', 'rantai', 'supply', 'beku', 'serep', 'kupret', 'nbut', 'someone', 'agony', 'loneliness', 'kassin', 'intim', 'bhineka', 'ika', 'kupang', 'bendung', 'pelosika', 'msgi', 'identity', 'olitik', 'faith', 'religion', 'amel', 'hakdhsk', 'biel', 'musisi', 'spesial', 'force', 'plan', 'hujung', 'syakir', 'gempa', 'cutive', 'board', 'unesco', 'ketu', 'palu', 'geopark', 'ciletuh', 'predikat', 'cpu', 'gg', 'congratulation', 'imigran', 'hhmmmm', 'wedges', 'taruna', 'andin', 'sudin', 'singkat', 'map', 'push', 'murka', 'gala', 'premiere', 'kate', 'kire', 'anto', 'muha', 'kepiting', 'rebus', 'perahu', 'wtp', 'kado', 'sumbar', 'akh', 'lekong', 'goal', 'been', 'eyeing', 'site', 'sapiens', 'deus', 'periplus', 'let', 'again', 'some', 'later', 'doi', 'pudak', 'seberang', 'olongan', 'peribahasa', 'adri', 'imlek', 'sabang', 'merauke', 'erudite', 'rational', 'simposium', 'cantum', 'keledai', 'nb', 'becky', 'sukun', 'pengeeen', 'episode', 'brilian', 'kwang', 'il', 'ekad', 'ukaran', 'sneak', 'permission', 'consider', 'parents', 'foredi', 'angsat', 'memb', 'mujahid', 'biseksual', 'bahu', 'astagfirullahal', 'azim', 'gebyar', 'sragen', 'yogyaka', 'sifilis', 'melipirnya', 'apple', 'kognitif', 'koma', 'junki', 'pensil', 'kerut', 'citu', 'renang', 'elektonik', 'menindaklanjuti', 'tanos', 'laaaahhhhh', 'jackson', 'cubit', 'keleees', 'kecap', 'cecar', 'kederrrr', 'america', 'sex', 'groundbreaking', 'plo', 'rabbal', 'diijabah', 'benam', 'batang', 'anjingggg', 'runtuh', 'stripped', 'piama', 'kamp', 'biadaaaaa', 'gatel', 'bung', 'rongrong', 'lawyer', 'edisingadukaaa', 'pool', 'surplus', 'bakso', 'senda', 'wusu', 'golf', 'toket', 'allaahu', 'yubarik', 'fiikum', 'syaikhuna', 'alfadli', 'ngerapnya', 'audisi', 'ainment', 'uhan', 'suri', 'lost', 'gantipresidenkacung', 'sting', 'rosyadi', 'andika', 'hazrumy', 'htibubar', 'pakistan', 'emosional', 'pppforjokowi', 'munasulamappp', 'dumai', 'andri', 'fals', 'indomie', 'hiu', 'black', 'sheep', 'cuti', 'sertifikat', 'transp', 'zen', 'alone', 'cuihhhhhhh', 'med', 'kissing', 'gewe', 'bise', 'bubur', 'peras', 'perselihan', 'internasionalisasi', 'cakup', 'taung', 'substansi', 'muat', 'advokat', 'sekularisme', 'gelintir', 'jasad', 'mrs', 'lulung', 'culi', 'ahoknya', 'kseeeel', 'minggir', 'cuihhhh', 'feminim', 'keith', 'haritage', 'seleweng', 'nick', 'paduka', 'pata', 'bata', 'rongkong', 'feel', 'harmful', 'bambu', 'cerna', 'wkwkkk', 'optimal', 'ismed', 'michel', 'pusamania', 'borneo', 'laundry', 'nhhhhhhhhhhhhhhhhh', 'sablon', 'nation', 'sepang', 'shalom', 'manut', 'hate', 'speech', 'tipis', 'lorot', 'jaket', 'agel', 'founder', 'crush', 'dukhan', 'flu', 'nanah', 'bengkak', 'solid', 'terminal', 'retas', 'cincau', 'egol', 'isra', 'mikraj', 'duuhhhh', 'gustiiiiiiiiiiiiiiii', 'guaaaa', 'jawabannnya', 'repot', 'pahang', 'heritage', 'lembing', 'terjal', 'strata', 'nger', 'siantar', 'register', 'pilgubsu', 'fa', 'kodrat', 'nathan', 'teco', 'gie', 'sebum', 'plato', 'brodus', 'apakkk', 'syahroni', 'daud', 'perak', 'bahagi', 'perdana', 'dato', 'erani', 'wechat', 'sampai', 'ramayana', 'kutik', 'net', 'ota', 'muncrat', 'psikis', 'maghrib', 'syekh', 'kurayyim', 'rajih', 'nazmi', 'smackdown', 'terjemah', 'rasmi', 'muttaqin', 'wangsa', 'lawat', 'smelter', 'maroef', 'komplain', 'majlis', 'gulir', 'embat', 'amblas', 'telak', 'gerah', 'popo', 'asuuuu', 'kuyaaaaaaaaaaaaa', 'nyimengnya', 'case', 'missed', 'swat', 'sfc', 'proboscis', 'koreksi', 'neeekkk', 'klan', 'siuman', 'basuki', 'cangkemu', 'mukidinya', 'marbut', 'inrl', 'fana', 'vonis', 'wiranto', 'gp', 'payudara', 'humanis', 'flores', 'toraja', 'naila', 'interaksi', 'kamu', 'ultra', 'violet', 'galeri', 'informatika', 'dam', 'ram', 'tika', 'udjo', 'bahana', 'fm', 'baskom', 'pejuhnya', 'screenshot', 'lincah', 'ulet', 'ngel', 'badik', 'duniawi', 'diskualifikasi', 'baptis', 'wonu', 'lobi', 'konbatnya', 'jurnalis', 'kerbau', 'wkkkkwkk', 'rieuttt', 'danamon', 'undercover', 'tangerang', 'cianjur', 'reparasi', 'kail', 'belikan', 'maaah', 'karena', 'belepotan', 'hussss', 'bersilit', 'melipir', 'ue', 'siloam', 'uras', 'hajj', 'melarat', 'php', 'goen', 'kemenyan', 'hijaiyah', 'dal', 'jamal', 'laeli', 'prabowopresident', 'deret', 'gelantung', 'papar', 'insiden', 'industrial', 'park', 'keti', 'keyboard', 'jenuh', 'seungri', 'aline', 'gary', 'ihyo', 'rima', 'oj', 'timpa', 'bullshit', 'kotok', 'pakpahan', 'gedek', 'sholatu', 'indar', 'parawansa', 'elistianto', 'gudang', 'bik', 'loncat', 'karir', 'cemerlang', 'perangkap', 'kea', 'lee', 'soo', 'lamborgini', 'material', 'kad', 'ellooo', 'ragam', 'penat', 'stay', 'eg', 'cilung', 'tengil', 'plas', 'tempeng', 'reuni', 'kejawen', 'nit', 'sensor', 'pandu', 'eksklusif', 'inews', 'pilkadaacehselatan', 'udah', 'sarana', 'botanist', 'terubus', 'ingus', 'tayahla', 'doo', 'asam', 'pedas', 'curry', 'caption', 'avalon', 'uria', 'olok', 'aib', 'luthfi', 'wata', 'kontan', 'carik', 'npagi', 'nbera', 'agamais', 'ipey', 'pey', 'geser', 'em', 'asep', 'cantol', 'ganda', 'incorporate', 'gebrak', 'duda', 'designer', 'ln', 'dinamis', 'manifestasi', 'dispensasi', 'argumentasi', 'kangkang', 'lemari', 'thai', 'harfiah', 'filosofis', 'ibnul', 'mubarak', 'dia', 'question', 'etnic', 'tragis', 'sepuh', 'vivin', 'alda', 'rico', 'baj', 'address', 'ambisius', 'kop', 'kredibel', 'maktab', 'sho', 'cut', 'konstruksi', 'keblinger', 'tritura', 'ritel', 'kne', 'harbi', 'ipar', 'spiritualitas', 'sindhu', 'seulgi', 'kelopak', 'noorsena', 'disalahpahami', 'hanat', 'three', 'gaple', 'income', 'persh', 'iur', 'premium', 'erapa', 'pao', 'tui', 'iniiii', 'niscaya', 'letih', 'longo', 'punten', 'legowo', 'sedikit', 'charutin', 'menor', 'hypebeast', 'chirpified', 'dinding', 'triawan', 'siul', 'melodi', 'riang', 'kirab', 'bergas', 'anyir', 'rejab', 'aban', 'gembos', 'tato', 'enjoy', 'gays', 'tifatul', 'eja', 'msjid', 'psantren', 'huuuft', 'kabuuurr', 'umbuk', 'then', 'selang', 'macai', 'ler', 'bangang', 'elas', 'opsss', 'lumajang', 'sudjatmiko', 'elestianto', 'orisinalitas', 'seringkali', 'sentul', 'city', 'ramping', 'anonymous', 'cyber', 'dekrit', 'jatah', 'urgensi', 'dicrotin', 'kualat', 'bobby', 'franky', 'mukadimah', 'hujurat', 'cerocos', 'nderomos', 'emban', 'ussr', 'syriyah', 'kharajiyah', 'muahid', 'dzimmi', 'potas', 'teroganisasi', 'tunas', 'semerbak', 'harum', 'nabila', 'kemako', 'kerah', 'musala', 'aula', 'cas', 'beyek', 'lhi', 'anter', 'codot', 'betah', 'atip', 'ketidaktahuannya', 'umbuh', 'saifuddin', 'substansial', 'alucard', 'story', 'punggung', 'tegap', 'pakcoy', 'kuuu', 'mahkota', 'berudu', 'accompli', 'bob', 'aka', 'mamalia', 'modusin', 'seke', 'aris', 'lubang', 'budidaya', 'npd', 'kung', 'fu', 'buntung', 'plakat', 'luwak', 'deg', 'nurmantyo', 'srikandi', 'nyeleneh', 'pck', 'didih', 'pelosok', 'synna', 'eta', 'sperma', 'aww', 'saptono', 'khaththath', 'mufakat', 'maiyah', 'prajurit', 'sapril', 'tahta', 'dingajikan', 'aisya', 'ioi', 'emakrab', 'superior', 'printing', 'ecer', 'lgn', 'print', 'rena', 'dri', 'fd', 'yono', 'bolanet', 'jersey', 'sale', 'goes', 'thumb', 'ton', 'ahyudin', 'act', 'letshe', 'makzul', 'akulturasi', 'udel', 'ketek', 'congean', 'korong', 'cileuh', 'karbit', 'jengkol', 'room', 'kont', 'batagor', 'ngaret', 'oum', 'pelet', 'honda', 'jazz', 'niklan', 'acak', 'cmbak', 'ckatanya', 'patung', 'miskomunikasi', 'minimum', 'taro', 'cdeep', 'cave', 'wak', 'banyuwangi', 'bec', 'keberserahdirian', 'dipungkiri', 'sandirawa', 'aiptu', 'sembiring', 'labo', 'beri', 'ruby', 'jennie', 'zumi', 'lisa', 'beneeeer', 'shift', 'lusa', 'ampuuuun', 'zzzzzz', 'sistematis', 'syahrir', 'melati', 'yordania', 'reza', 'jepret', 'gelang', 'cemburu', 'titot', 'bidik', 'uus', 'rusdiana', 'ciamis', 'nyha', 'gembok', 'slip', 'jojo', 'salip', 'hafiz', 'blur', 'mnesti', 'wassalam', 'sala', 'nna', 'udang', 'sleep', 'sialll', 'simple', 'cnyetir', 'windy', 'uefa', 'gianluigi', 'buffon', 'michael', 'oliver', 'service', 'gantigubernur', 'moestopo', 'bab', 'akad', 'thomasubercup', 'beking', 'tabi', 'masturbasi', 'cumtribute', 'engas', 'pejam', 'eeeeeh', 'arra', 'polandia', 'cat', 'ncm', 'ntwin', 'nbbfs', 'imunitas', 'suppo', 'weda', 'brahman', 'atman', 'reinkarnasi', 'moksa', 'nkl', 'begini', 'telkomsel', 'congratulations', 'pnh', 'aras', 'konsentrasi', 'sekolem', 'institutionalized', 'diarusutamakan', 'kultus', 'kontrol', 'manggung', 'desah', 'knalpot', 'urai', 'genjer', 'limbad', 'disabilitas', 'sangku', 'paut', 'berkem', 'rachmawati', 'souvenir', 'mud', 'meteor', 'garden', 'rem', 'visual', 'iqna', 'muraqqa', 'mongolia', 'pergamon', 'know', 'keset', 'jeyepe', 'fase', 'tkt', 'ihsan', 'goyah', 'luhung', 'dairi', 'tokai', 'yireon', 'sakura', 'wonyoung', 'yoonjin', 'center', 'shabb', 'function', 'semrawut', 'potensial', 'objek', 'wtc', 'kkn', 'karier', 'lulove', 'pingsan', 'kefar', 'adumim', 'bihun', 'ack', 'kok', 'peet', 'msu', 'fenomenal', 'chirpstory', 'young', 'website', 'kurban', 'inus', 'kanal', 'bainanal', 'selawat', 'sair', 'jadul', 'koleksi', 'gempur', 'bolong', 'istiqlal', 'edi', 'tio', 'menyon', 'chandra', 'bel', 'people', 'tancap', 'jelata', 'derek', 'eeemelawan', 'labrak', 'kebaji', 'simalungun', 'nyelew', 'kolega', 'gun', 'alamak', 'afghanistan', 'insyaf', 'zof', 'mbar', 'jinyoung', 'gates', 'credits', 'selubung', 'seniman', 'blangko', 'menghujam', 'sanubari', 'arsul', 'sani', 'guantanamo', 'kulum', 'jejauh', 'chopper', 'gantipesinden', 'ajun', 'frido', 'situmorang', 'ukhuwah', 'ess', 'rantauprapat', 'licin', 'tempe', 'penyet', 'bumbu', 'buncis', 'plisssssssss', 'ronda', 'lokakarya', 'rupinus', 'sekadau', 'repo', 'deact', 'jinkiw', 'konkret', 'ngurah', 'rai', 'pahawang', 'merak', 'paca', 'doktor', 'destrukrif', 'teko', 'rek', 'jogernya', 'obyektif', 'nasabah', 'disc', 'jockey', 'fariz', 'sutiyoso', 'lopa', 'recok', 'serban', 'ongkang', 'lalang', 'hanura', 'kabel', 'alumunium', 'keriting', 'silsilah', 'yer', 'milea', 'pening', 'peranti', 'kuliner', 'rama', 'yusup', 'among', 'enggak', 'aura', 'mon', 'kontes', 'hhhh', 'mayer', 'konten', 'pornografi', 'balongtani', 'lanjur', 'koyok', 'kuduuu', 'pasrahhh', 'cpd', 'gadun', 'raisa', 'kolom', 'isok', 'ngempet', 'famili', 'islamic', 'laaa', 'matilanak', 'jahiliah', 'sister', 'anarkis', 'debut', 'npc', 'yuehua', 'genting', 'justin', 'produser', 'para', 'karpet', 'yahhhh', 'hore', 'azar', 'prank', 'pijak', 'reena', 'cepak', 'gundul', 'oval', 'botak', 'diktaktor', 'popularitas', 'saring', 'gb', 'raib', 'tra', 'prosedur', 'umak', 'list', 'barakat', 'removed', 'skip', 'mangkal', 'lord', 'atep', 'lendot', 'unn', 'markli', 'bakti', 'teras', 'cribet', 'mahathir', 'rlt', 'kakya', 'slow', 'hau', 'difabel', 'colek', 'gerbang', 'carat', 'seventeen', 'senyap', 'confused', 'instruktur', 'tibe', 'step', 'mne', 'phm', 'cing', 'ling', 'ding', 'roma', 'anjiiirr', 'ubun', 'keriput', 'diposting', 'rotan', 'djia', 'hack', 'pedih', 'alis', 'regim', 'skrining', 'karo', 'margonda', 'instan', 'soa', 'mentalitas', 'vin', 'mujahidin', 'teknik', 'ramos', 'tunda', 'perisai', 'sanggul', 'kebaya', 'anggun', 'memble', 'bibit', 'saiful', 'hidayat', 'jua', 'umi', 'literasi', 'najwa', 'baliiik', 'kursus', 'utan', 'rise', 'planet', 'jurnal', 'seb', 'jambore', 'nsy', 'gaung', 'white', 'supremasi', 'fasis', 'aliansi', 'perpa', 'aian', 'direspon', 'selangkang', 'isteri', 'qaturah', 'katurah', 'pneumonia', 'vape', 'jotos', 'smpnya', 'harika', 'menandatanganinya', 'jordania', 'maungdaw', 'masyakat', 'latar', 'hidang', 'laika', 'orbit', 'eksodus', 'human', 'rights', 'katauntukhariini', 'aidit', 'root', 'wihara', 'beril', 'sas', 'bodong', 'also', 'malin', 'kundang', 'durhaka', 'asu', 'bilateral', 'relevansi', 'tubir', 'cons', 'homophobic', 'sekar', 'lindas', 'isb', 'bris', 'reputasi', 'kerdil', 'bati', 'zefanya', 'caenliana', 'angeline', 'winata', 'cempreng', 'perfeksionis', 'cabik', 'pungut', 'konstituante', 'masyumi', 'dang', 'sanitasi', 'zuhair', 'shun', 'yasser', 'arafat', 'aaaa', 'koordinator', 'smash', 'blast', 'maniak', 'lumur', 'rudfx', 'ahanan', 'shit', 'apatis', 'afgan', 'takluk', 'sides', 'tour', 'julius', 'tahija', 'ama', 'fr', 'casablanca', 'lumas', 'legit', 'replay', 'nyeee', 'melipiirrrr', 'deokspatch', 'amigo', 'nimdle', 'kbs', 'mun', 'luang', 'pihri', 'buhaira', 'lab', 'redup', 'palpasi', 'asmara', 'pujangga', 'kere', 'garap', 'sawah', 'palti', 'west', 'jum', 'josss', 'gandos', 'grab', 'bwk', 'yik', 'marginal', 'wikipedia', 'junta', 'jail', 'ganja', 'prison', 'nfr', 'liedabin', 'nto', 'devan', 'ujud', 'syaraf', 'logis', 'koster', 'klungkung', 'lain', 'bobotoh', 'jak', 'ijab', 'asosiasi', 'gali', 'kepa', 'ciputra', 'ooooh', 'ended', 'kicep', 'dk', 'goblen', 'eci', 'tuti', 'binti', 'yasa', 'adipura', 'karlina', 'wijaya', 'sutan', 'rangkayo', 'zaenal', 'hj', 'nurdiana', 'cate', 'nmantapkan', 'pilihjokowi', 'odo', 'gama', 'syahrini', 'ngiang', 'sudara', 'dangdut', 'sian', 'jambi', 'kuntet', 'semampai', 'meter', 'tugimin', 'gadang', 'bengkel', 'kedurus', 'jarah', 'fim', 'race', 'direction', 'steward', 'moto', 'little', 'stiker', 'tegang', 'momoland', 'kuah', 'ct', 'commerce', 'acung', 'fantastis', 'serie', 'registrasi', 'sub', 'bea', 'welly', 'gitutu', 'finansial', 'tandang', 'estate', 'serdang', 'hepa', 'uzza', 'khepat', 'mesopotamia', 'hurrian', 'lontar', 'yakkkk', 'wewenang', 'action', 'ciganjur', 'alokasi', 'sutarmidji', 'pnegdjmpch', 'james', 'dean', 'franco', 'heath', 'ledger', 'charlie', 'hunnam', 'kue', 'pancong', 'sejawa', 'beuhhh', 'membully', 'ikai', 'ngechat', 'tsunami', 'jandro', 'fishing', 'rihlah', 'lawu', 'cisarua', 'usted', 'taubateps', 'eat', 'semiotika', 'estetika', 'romawi', 'kazhar', 'inklusif', 'tular', 'when', 'tumblr', 'tiktok', 'telegram', 'government', 'kills', 'palestinian', 'recommended', 'along', 'danish', 'histori', 'khunsa', 'discussion', 'industrialisasi', 'nunukan', 'ersama', 'mitra', 'taliwang', 'dadang', 'sunendar', 'audiensi', 'snail', 'bee', 'panel', 'ehr', 'iko', 'suai', 'bana', 'ardi', 'patih', 'koyo', 'letek', 'finding', 'hyukjae', 'kahwin', 'tangguh', 'problem', 'innocent', 'peluh', 'keringat', 'cholil', 'prima', 'pitch', 'gitar', 'bil', 'ibas', 'srh', 'negarawan', 'how', 'tansi', 'cahyo', 'kumolo', 'bentak', 'lea', 'jhon', 'perkins', 'fitrah', 'lonceng', 'benak', 'mayday', 'hariburuh', 'syaikh', 'ibn', 'atha', 'ilah', 'hikam', 'bajar', 'disiplin', 'himmler', 'divisi', 'perwira', 'marry', 'choir', 'pulpen', 'ngeblur', 'peler', 'kupu', 'rani', 'jujungannya', 'rayon', 'saus', 'nio', 'yesung', 'op', 'ciut', 'yosy', 'filsuf', 'labil', 'kardus', 'nty', 'tiling', 'sim', 'postingannya', 'prosedural', 'imigrasi', 'lancong', 'narapidana', 'durian', 'telaah', 'akbir', 'rm', 'pangkah', 'tebellah', 'das', 'kiara', 'wiraswasta', 'reog', 'ponorogo', 'karantina', 'kkp', 'karsa', 'bulanbaktikipm', 'arsip', 'nominasi', 'memori', 'world', 'kumpar', 'usik', 'potter', 'beast', 'prejudice', 'gaun', 'panastak', 'judi', 'cringe', 'superrr', 'wabah', 'brngsekkkk', 'tapa', 'tomang', 'grogol', 'tambur', 'almost', 'hours', 'earphone', 'aaaaaaa', 'meretweet', 'pick', 'get', 'sambal', 'sekebun', 'diskredit', 'namparinnnnn', 'looooooo', 'marwah', 'gymnastiar', 'apply', 'mengatasnamakan', 'hush', 'peot', 'amblek', 'amoh', 'ngablak', 'khilaf', 'hayukake', 'rekrut', 'kual', 'slutsharming', 'indoktrinasi', 'goblinnya', 'sung', 'mutasi', 'agate', 'devor', 'nuna', 'raven', 'coldbrew', 'gasal', 'maria', 'inovasi', 'nagari', 'tppi', 'lucinta', 'luna', 'el', 'geulis', 'guncang', 'tomato', 'jongkok', 'monopoli', 'fee', 'menung', 'cario', 'nsi', 'lembang', 'mantra', 'timbul', 'rusa', 'cicip', 'dululah', 'integritas', 'humaspolri', 'pdd', 'nos', 'konco', 'emha', 'ainun', 'oyek', 'menghentak', 'lentur', 'orator', 'jenius', 'bediuzzaman', 'amakalinya', 'cecebi', 'muslin', 'venezuela', 'hugo', 'chavez', 'marwanto', 'joged', 'bumbung', 'eka', 'satya', 'kuwum', 'marga', 'doh', 'keroyok', 'runut', 'median', 'kerucut', 'five', 'politeknik', 'manufaktur', 'bit', 'alergi', 'kover', 'testimoni', 'likes', 'sendu', 'oshi', 'junev', 'jendeuk', 'dukuuuuuuung', 'nrj', 'oohhh', 'carut', 'marut', 'larut', 'peeling', 'hell', 'sentiasa', 'sigap', 'victor', 'papi', 'whatsappnya', 'lenceng', 'headset', 'resek', 'tampek', 'kecek', 'perlu', 'fia', 'jimin', 'cuteness', 'konfirmasi', 'adan', 'upiah', 'konomi', 'royek', 'embako', 'emiskinan', 'rebak', 'enaga', 'pasi', 'rhoma', 'irama', 'promotion', 'genghis', 'renung', 'penyalahgunaan', 'nobat', 'lunya', 'blejeti', 'pilot', 'karat', 'blangsak', 'seyogyanya', 'selibat', 'suster', 'ketus', 'token', 'bayu', 'tuku', 'yeeeuh', 'parasit', 'pap', 'nenen', 'asin', 'jebret', 'suryo', 'inisiator', 'nab', 'oma', 'rv', 'tips', 'suluh', 'andil', 'tangkal', 'adrp', 'asta', 'liter', 'beser', 'jemur', 'lemak', 'kua', 'aksesori', 'mein', 'nhadeuuh', 'tembok', 'rolling', 'door', 'buset', 'hijr', 'bimbing', 'rasialis', 'iii', 'jafarudin', 'far', 'kecele', 'gramedia', 'religi', 'propanda', 'ideologis', 'yeke', 'ones', 'hasut', 'ketar', 'tir', 'bentang', 'oalahhh', 'circulation', 'musibah', 'supriadi', 'takfiri', 'keboguyang', 'balan', 'shummun', 'bukmun', 'yarji', 'uun', 'pekak', 'empat', 'calo', 'julai', 'demonstran', 'iny', 'refleks', 'berattt', 'heee', 'meminimalisir', 'ojok', 'mangap', 'bajul', 'batman', 'anasir', 'eksklisif', 'gerilya', 'leseh', 'airin', 'sidik', 'gam', 'ontel', 'miss', 'claire', 'buk', 'kayuh', 'cfree', 'space', 'see', 'ador', 'gamis', 'klasik', 'jahal', 'dahaga', 'samak', 'lak', 'nihil', 'denda', 'kalbu', 'tentram', 'liturgis', 'literatur', 'organik', 'agro', 'eduwisata', 'abj', 'baur', 'romo', 'songo', 'trah', 'sukolilo', 'khatam', 'kaisar', 'rinjani', 'chic', 'wakwawww', 'applause', 'polah', 'kewa', 'eraskan', 'menstruasi', 'pendekar', 'nwong', 'bangkang', 'bll', 'nafi', 'rera', 'wulan', 'dagel', 'lenong', 'populisme', 'kth', 'jjk', 'irene', 'samoa', 'vanuatu', 'hollywood', 'jabang', 'dopinadoh', 'minggato', 'otorisasi', 'terong', 'pingkal', 'flakka', 'sobat', 'berma', 'keramas', 'mbangun', 'jateng', 'mukti', 'ara', 'okn', 'bowo', 'andingannya', 'commando', 'canggi', 'sunter', 'gading', 'binding', 'semprulllll', 'atribut', 'serigala', 'titis', 'jayabaya', 'gemetar', 'uskup', 'covernya', 'otoritarianisme', 'fz', 'bother', 'other', 'teis', 'pek', 'rono', 'fucking', 'jigong', 'medok', 'yoan', 'sangu', 'cheh', 'inkonsisten', 'askar', 'proud', 'berse', 'kika', 'malak', 'innya', 'ludes', 'gantipre', 'sisturrr', 'andre', 'bedrest', 'senja', 'ip', 'tidak', 'grak', 'oglossophobia', 'fobia', 'ngilaaa', 'mampang', 'ryeowook', 'alisa', 'wahid', 'asyikkk', 'jokowiselesaikanke', 'dream', 'second', 'hand', 'gift', 'card', 'belgia', 'worldcup', 'kerjaaan', 'sangsi', 'jeblos', 'hue', 'nia', 'masal', 'duri', 'gulai', 'tuntun', 'traktir', 'yatim', 'selisih', 'fir', 'sutradara', 'amarah', 'penu', 'stewa', 'majusi', 'csuatu', 'pulhu', 'dekan', 'nem', 'lecet', 'kejo', 'finallyyyy', 'breaks', 'old', 'self', 'conquer', 'fear', 'into', 'wild', 'maji', 'kondang', 'biat', 'suarang', 'noon', 'himbauan', 'tola', 'uec', 'engerti', 'jokowipresidenterpilih', 'jokowipilihanterbaik', 'reward', 'punishment', 'donghae', 'eunhyuk', 'tiffany', 'taeyeon', 'cl', 'chanyeol', 'himchan', 'leo', 'cordi', 'nunanya', 'guguk', 'punya', 'bersin', 'akuarium', 'alfama', 'jalar', 'kind', 'discharged', 'have', 'insult', 'use', 'harsh', 'blog', 'sor', 'salaaaam', 'aung', 'kyi', 'kompeni', 'imbau', 'sana', 'easily', 'give', 'their', 'senayan', 'regina', 'ant', 'laperrrr', 'hmmmmmmmmmm', 'ju', 'gereoe', 'bongkah', 'erang', 'stensil', 'woyyyyyyyyyyyy', 'badak', 'tunggak', 'manthous', 'insan', 'aik', 'nahi', 'dog', 'khud', 'jatey', 'ayashiya', 'khak', 'tirani', 'gharq', 'kry', 'sirf', 'nafrat', 'intizhar', 'pelana', 'hahahhahahhhhahahaha', 'badu', 'arhhh', 'upah', 'regional', 'wejang', 'epi', 'senpai', 'jumpalit', 'persijatakutkalahdijaka', 'laler', 'jack', 'olo', 'tjahja', 'purnama', 'habibana', 'huda', 'idn', 'kenapaaaa', 'nkarenaaaaaaa', 'tebakanrecehsegerr', 'sahursegerr', 'ekspose', 'supriyanto', 'ikon', 'alaik', 'ipolitik', 'rabbaniyah', 'alamiah', 'syumuliah', 'inqilabi', 'waqi', 'istimroriyah', 'hyunjin', 'jargon', 'garda', 'juventus', 'apologi', 'chibi', 'rentet', 'blasss', 'ni', 'um', 'gondrong', 'dewe', 'conflict', 'interest', 'ketenagakerjaan', 'inspeksi', 'ppi', 'loyal', 'genius', 'mussolini', 'sng', 'serbet', 'ruh', 'ugalan', 'saku', 'misuh', 'oblok', 'blessed', 'ear', 'agraria', 'warni', 'inisiatif', 'rekreasi', 'nooo', 'npaling', 'mulussss', 'mlg', 'trenggalek', 'chapter', 'kuantitas', 'syahadat', 'bangau', 'kelomang', 'selimut', 'maslahat', 'base', 'nbenciiiiiiiii', 'benciii', 'anoa', 'ledig', 'termaginalkan', 'akak', 'pijat', 'bf', 'les', 'ulujami', 'fisika', 'mint', 'tayib', 'ayub', 'usah', 'kapur', 'ru', 'hoook', 'kati', 'broken', 'home', 'empu', 'rubah', 'centra', 'ekon', 'mks', 'pare', 'cher', 'skala', 'bayak', 'nadine', 'maut', 'indigo', 'rundung', 'astral', 'diobok', 'evolusi', 'genetik', 'tangung', 'boven', 'goel', 'awang', 'dun', 'razia', 'anding', 'marion', 'jola', 'ninik', 'handrini', 'dulukan', 'jep', 'tll', 'winner', 'rahayu', 'ningrum', 'diy', 'hom', 'santi', 'puing', 'abda', 'thoughts', 'arwah', 'kerap', 'dearly', 'yaapssss', 'hoek', 'penetrasi', 'pilgubjateng', 'gi', 'lumba', 'nali', 'asalll', 'cha', 'ngemafia', 'ti', 'un', 'ilih', 'faisal', 'nasiiik', 'chan', 'radius', 'kilometer', 'rewatching', 'adaptasi', 'yato', 'noragami', 'loser', 'kazakhstan', 'spongebob', 'squarepants', 'hooliganisme', 'olehimam', 'fundamentalis', 'dare', 'psikopat', 'aneka', 'yahoo', 'klenteng', 'bunaken', 'lempung', 'crottt', 'task', 'tedekat', 'sudono', 'salim', 'liem', 'sioe', 'liong', 'kdi', 'kylaaaaaaya', 'after', 'padam', 'debar', 'sorak', 'megatron', 'birokrat', 'tutorial', 'gangbang', 'maksa', 'edgy', 'tuth', 'patbingsoo', 'melina', 'wisuda', 'lendung', 'dibecandai', 'tasik', 'chini', 'iktiraf', 'rizab', 'biosfera', 'khazanah', 'flora', 'fauna', 'bala', 'lombong', 'ladang', 'nongkrong', 'hanzola', 'inkulturasi', 'bencoooooooonnnnnnggggg', 'nyunyuhun', 'keur', 'naha', 'kiwari', 'naya', 'senam', 'indihome', 'referendum', 'gelontor', 'marawi', 'ken', 'rhevkrxl', 'dowoon', 'jgb', 'kroco', 'stok', 'elemen', 'zinnirah', 'tekun', 'kurnia', 'nyeletuk', 'pajang', 'sembari', 'memanggut', 'manggutkan', 'tawa', 'respons', 'candy', 'ulur', 'uak', 'surai', 'analog', 'percis', 'robe', 'inez', 'semifinal', 'sahaja', 'college', 'sbp', 'result', 'paloi', 'paper', 'andi', 'korsleting', 'selundup', 'kanda', 'adora', 'hilman', 'alina', 'too', 'complicated', 'fucker', 'geger', 'q', 'zqhv', 'bugis', 'jb', 'jbnya', 'ketidaksukaan', 'risih', 'nuy', 'konsorsium', 'inalum', 'moran', 'dividen', 'adnan', 'awet', 'peng', 'tabel', 'hmmmmz', 'elahhh', 'merpati', 'bonsai', 'basiiii', 'idris', 'henokh', 'haris', 'cieeee', 'operasional', 'ificial', 'awww', 'cada', 'tekannnn', 'kaaaaaa', 'cif', 'herman', 'deru', 'mawardi', 'ogan', 'komering', 'ulu', 'ilir', 'bongggg', 'atmosfer', 'patriarkal', 'maulana', 'az', 'zahrani', 'uzur', 'petang', 'judes', 'dharmawijaya', 'mantramengisi', 'sima', 'taban', 'mantrake', 'amoroso', 'katamsi', 'sekakmat', 'kempot', 'bigflo', 'high', 'magnae', 'gerhana', 'teken', 'klitoris', 'teduh', 'begal', 'nngeriiiii', 'kids', 'yura', 'desain', 'roller', 'coaster', 'strongly', 'silang', 'sembur', 'gempar', 'sariawan', 'gesture', 'sadam', 'khadafi', 'rommy', 'kompak', 'natuna', 'neoliberalisme', 'yongky', 'cakrabuana', 'devisa', 'maribe', 'plesiran', 'inhumane', 'pisau', 'busur', 'panah', 'seksual', 'taekkk', 'lantur', 'terl', 'rosario', 'dogma', 'rahim', 'down', 'grade', 'nisbah', 'ketidaknetralan', 'hampa', 'jayaka', 'tematik', 'malio', 'umo', 'stakn', 'hangus', 'kantin', 'kintin', 'yoksi', 'idiom', 'embus', 'tb', 'hasanudin', 'charliyan', 'untukjabar', 'selamatharika', 'beyond', 'cmeeting', 'coh', 'clagi', 'kajo', 'idak', 'tete', 'bestie', 'syahdu', 'keroncong', 'langgam', 'jddnjdjdej', 'tofa', 'kerjain', 'aff', 'anbin', 'alur', 'kingka', 'outcast', 'develop', 'tanduk', 'retak', 'aqi', 'clu', 'stereotip', 'resto', 'sementara', 'loh', 'evaluasi', 'pmd', 'eneng', 'sebianto', 'cabe', 'rawit', 'cumi', 'makro', 'komoditi', 'diperjualbelikan', 'thinking', 'woderful', 'nn', 'lamaaa', 'hipe', 'ensi', 'repeat', 'seducer', 'female', 'twilight', 'sotooooy', 'kahiyang', 'prosesi', 'mitoni', 'riri', 'syak', 'spesies', 'relasi', 'amburadul', 'kafirun', 'apaaaaaaaaaan', 'muluk', 'beuh', 'tegal', 'herujito', 'sugono', 'aaaah', 'romantis', 'baja', 'uchiha', 'obito', 'aqil', 'tudak', 'balans', 'organizer', 'faizal', 'assegaf', 'cilandak', 'folat', 'saraf', 'janin', 'milad', 'cupuuu', 'oli', 'irlandia', 'dublin', 'belfast', 'chaos', 'betasemen', 'gebetannya', 'sutra', 'rente', 'mangko', 'jana', 'limbat', 'indahhhhh', 'dinamika', 'refleksi', 'selia', 'perkasa', 'tamil', 'voting', 'malingsia', 'wang', 'jais', 'ibadat', 'tokong', 'kuil', 'gurdwara', 'shaming', 'juri', 'kontestan', 'autentik', 'takes', 'there', 'idolspektatop', 'opera', 'dijauhin', 'kumulatif', 'ine', 'golek', 'ing', 'haru', 'bjh', 'negasi', 'garang', 'asimetri', 'lembur', 'loyo', 'bandit', 'iper', 'volume', 'distrik', 'zona', 'ryamizard', 'ryacudu', 'bedul', 'yudikatif', 'design', 'mqm', 'sabiq', 'rehnuma', 'shehzad', 'douran', 'ilaj', 'intiqal', 'kar', 'cancer', 'arze', 'mubtila', 'hearthstone', 'keker', 'hoi', 'lalu', 'alaih', 'pangkostrad', 'semu', 'seruput', 'tuban', 'cb', 'rangkap', 'berangus', 'ekspres', 'entagan', 'masyaallah', 'legasi', 'jakim', 'spider', 'monosit', 'kloter', 'tahlil', 'ateisme', 'liability', 'aceng', 'zakaria', 'natsir', 'nojo', 'jon', 'sudah', 'roki', 'swasti', 'wiwerda', 'backstab', 'romi', 'owok', 'kapel', 'rutuk', 'asas', 'ius', 'sanguinis', 'perspektif', 'markson', 'garuk', 'kasur', 'dody', 'cenong', 'nangka', 'kelinci', 'logam', 'cean', 'lowest', 'being', 'beware', 'kemari', 'lepot', 'trf', 'diinput', 'worry', 'lessnya', 'ngid', 'tuuuu', 'infused', 'water', 'mentil', 'taufan', 'tiro', 'sat', 'social', 'volunteer', 'gebu', 'essay', 'dekai', 'what', 'kalkulus', 'suluclac', 'kompleks', 'tepu', 'mendung', 'direksi', 'rombak', 'lilyana', 'antero', 'masarakat', 'separatis', 'kem', 'mani', 'ayak', 'majalah', 'khatib', 'kalian', 'profesi', 'tawur', 'beloon', 'gf', 'kontra', 'baliho', 'lawang', 'landmark', 'maker', 'vinci', 'code', 'red', 'sparrow', 'yt', 'freefo', 'siliwangi', 'ondel', 'hadisurya', 'sulistyo', 'renjun', 'fix', 'adiwastra', 'kreasi', 'hardik', 'woojinn', 'nw', 'oojinprk', 'nparjin', 'nbesok', 'paid', 'muja', 'algoritma', 'kikis', 'ombak', 'jingga', 'tuna', 'gingsul', 'pwj', 'kill', 'tower', 'batil', 'organisir', 'maimoen', 'unp', 'statistika', 'iva', 'hardiana', 'sinopsis', 'gpu', 'kufur', 'sikut', 'running', 'haaaaaa', 'dute', 'nobel', 'gelimang', 'kafilah', 'pukat', 'troll', 'kening', 'visa', 'kwon', 'soon', 'kasir', 'empuk', 'gembul', 'pupuk', 'tlogorejo', 'kepohbaru', 'bojonegoro', 'topang', 'mino', 'receipts', 'ca', 'walkman', 'able', 'vinil', 'rajut', 'mahakarya', 'batik', 'performing', 'mignolet', 'hijaber', 'citizen', 'sabah', 'pendet', 'banner', 'youtuber', 'plokis', 'independensi', 'satpam', 'passion', 'z', 'burak', 'genah', 'sidogiri', 'terja', 'kitatetapjokowi', 'sisih', 'stalking', 'zm', 'bsjaiha', 'zohri', 'syamsuar', 'grcuesti', 'work', 'gencat', 'genjot', 'mario', 'jemaat', 'yeuhhh', 'pucuk', 'slogan', 'okok', 'kolektif', 'theoretical', 'federasi', 'mountaineering', 'haihhh', 'neoliberal', 'kapak', 'akece', 'alaaa', 'kedungrejo', 'pringsewu', 'swadaya', 'mashup', 'alan', 'mutasyabihat', 'menga', 'venus', 'maddie', 'dicka', 'hayat', 'modul', 'peke', 'yesaya', 'aksana', 'enjot', 'pants', 'hankn', 'redaksi', 'syetannn', 'innalillah', 'asy', 'sunni', 'okezone', 'washington', 'cemeeh', 'relate', 'sometimes', 'handuk', 'jongin', 'yanan', 'gantip', 'beta', 'tekong', 'sempang', 'kerayong', 'myself', 'edmet', 'tampon', 'gm', 'futsal', 'kompasiana', 'elizabeth', 'bennet', 'bebe', 'liza', 'eel', 'gange', 'kuiz', 'makassar', 'joget', 'kronologi', 'parahyangan', 'tik', 'simnya', 'delapan', 'sembilan', 'uztazah', 'ditindaklanjuti', 'nctea', 'jungwoo', 'though', 'probably', 'disamaratakan', 'validitas', 'nal', 'direktorat', 'health', 'financial', 'strategic', 'team', 'aksinesia', 'wealth', 'management', 'planning', 'coach', 'savero', 'lindur', 'playlist', 'periuk', 'dobol', 'males', 'which', 'literally', 'fitriani', 'menuh', 'tangkis', 'ning', 'mantappppppppp', 'jongon', 'rok', 'silah', 'pir', 'sistim', 'pasien', 'gaib', 'logat', 'njul', 'gonku', 'wusssstt', 'dablek', 'piket', 'spidol', 'karakteristik', 'hit', 'adang', 'permisi', 'periang', 'ceria', 'tellernya', 'eyang', 'wahabisme', 'salaf', 'liberalisme', 'pluralisme', 'cair', 'jadah', 'ngesaltyin', 'kamori', 'vampir', 'jebot', 'kelu', 'jangkit', 'kompetensi', 'handapan', 'panelis', 'sitorus', 'zilvia', 'iskandar', 'aniespresiden', 'bendahara', 'gembar', 'gembor', 'ujug', 'feeepo', 'pelotot', 'nikel', 'tung', 'rumus', 'alternatif', 'ilustrasi', 'ulak', 'revi', 'agamawan', 'quotesmuke', 'hyura', 'pltl', 'hiruk', 'pikuk', 'memebrantas', 'koding', 'sopir', 'hong', 'zu', 'gidaf', 'tebus', 'taksub', 'romli', 'ngerefund', 'refund', 'berb', 'jiahahahhh', 'keper', 'emper', 'pertanggungjawaban', 'jumpa', 'maklumat', 'parut', 'zumiiiii', 'correct', 'if', 'wrong', 'saifullah', 'rupe', 'sikit', 'delik', 'gentot', 'mampuuuusssssss', 'caku', 'kurikulum', 'gratissss', 'tunang', 'hipotesis', 'corak', 'cuping', 'deandra', 'hasrini', 'baterai', 'fantom', 'fighting', 'will', 'take', 'phantom', 'fishbed', 'empur', 'greetings', 'selebriti', 'roslan', 'dmenyokong', 'mamak', 'kasim', 'request', 'lesen', 'bahalol', 'luhan', 'craja', 'dragon', 'ball', 'podo', 'deklarator', 'cuihhhhhh', 'rong', 'tapiiii', 'uit', 'overseas', 'kewarganegaraannya', 'taiwan', 'andritany', 'ramdani', 'lestaluhu', 'fahreza', 'kosa', 'alkitab', 'monastik', 'asimilasi', 'huewwwww', 'jamrud', 'khatulistiwa', 'hayo', 'omat', 'elyakim', 'elhanan', 'elkana', 'nato', 'yehoshua', 'yehonatan', 'yehoyada', 'enggek', 'counter', 'pickup', 'mereka', 'terkam', 'grafis', 'gagu', 'gari', 'animi', 'timberlake', 'besuk', 'shinhwa', 'ijo', 'deactivate', 'countdown', 'tempuh', 'atraktif', 'mukidiers', 'tetapjokowiyangdiganti', 'zakir', 'poltak', 'cocotnya', 'cocotmu', 'sustainable', 'principles', 'akuakultur', 'heteroseksual', 'homoseksual', 'informal', 'cerai', 'ngevlog', 'antivirus', 'sinetron', 'prediksinggrisjuarapd', 'bungee', 'jumping', 'trail', 'rangkum', 'output', 'kemi', 'soemarsono', 'edna', 'finishing', 'gel', 'kaligayam', 'tebas', 'dank', 'lock', 'oiyaaa', 'uda', 'terpngaruh', 'boviat', 'lejit', 'asar', 'nsepe', 'syarif', 'sohibul', 'mustafa', 'dom', 'sopindo', 'halimbe', 'makhmud', 'hendropriyono', 'lawas', 'tangklukan', 'abangan', 'mufid', 'satwa', 'maluuuuu', 'musso', 'osoewirjo', 'resources', 'departement', 'bayiiiik', 'joki', 'mic', 'hikayat', 'arang', 'chulan', 'hamid', 'karam', 'ajeng', 'intonasi', 'familiar', 'pirang', 'lengket', 'permen', 'merana', 'tampan', 'taksi', 'yel', 'email', 'poop', 'perodua', 'myvi', 'nba', 'reformis', 'oikumene', 'hierarki', 'wicara', 'elektronik', 'ekumene', 'kenan', 'sepa', 'besan', 'ucup', 'jief', 'tuit', 'isap', 'cendana', 'bbb', 'perompak', 'bokirnya', 'firman', 'frame', 'bnp', 'nana', 'apit', 'albayrak', 'closed', 'derajat', 'luther', 'legitimasi', 'benalu', 'trade', 'tensi', 'geopolitik', 'reda', 'indikator', 'danilla', 'kolak', 'kangmas', 'mbakyu', 'alesannya', 'jal', 'jowal', 'jawil', 'lali', 'palapa', 'turnamen', 'cup', 'giri', 'gahana', 'reso', 'koja', 'pemamaran', 'hedonisme', 'rancak', 'head', 'cici', 'taring', 'deee', 'purba', 'dida', 'raka', 'duuuuhhhh', 'suprana', 'ireng', 'stigma', 'humanit', 'inteligen', 'anarkisme', 'intel', 'njeplak', 'bebi', 'forensik', 'yany', 'apaaaaa', 'geduwel', 'mampat', 'jokowilanjutkan', 'jkfc', 'kornas', 'ingattt', 'seluar', 'haaaa', 'niii', 'kuyup', 'asmat', 'huft', 'dodol', 'dikte', 'anggungjawab', 'marathon', 'alang', 'arjuna', 'aaaaaaaaaah', 'seruduk', 'clear', 'seluruh', 'together', 'feat', 'big', 'mtvn', 'becik', 'tur', 'lapak', 'angry', 'tayang', 'hentam', 'tabela', 'ngechord', 'capo', 'civa', 'cdc', 'bindeng', 'sandung', 'transmigran', 'banjarmasin', 'nkt', 'osuwiryo', 'waligereja', 'maranata', 'uwm', 'kik', 'dis', 'vibe', 'rayu', 'cashier', 'sreg', 'kalender', 'athletics', 'federations', 'medcom', 'oyes', 'akses', 'tubagus', 'pundi', 'budayawan', 'flash', 'gerik', 'wereng', 'nawa', 'semarak', 'kekar', 'pepaya', 'donor', 'kaliurang', 'ngaglik', 'sleman', 'uddpmikotayk', 'adrian', 'nptl', 'terpa', 'sentak', 'denting', 'gelisah', 'fighter', 'assassin', 'elegan', 'busar', 'mangkanya', 'terlalu', 'aldo', 'emi', 'nomleni', 'marianu', 'semi', 'chu', 'decul', 'ent', 'membernya', 'kebraon', 'pouch', 'clutch', 'tu', 'serbia', 'slovenia', 'bosnia', 'yugoslavia', 'sorbejeh', 'arema', 'dino', 'hmmmmm', 'slavia', 'brothers', 'ower', 'malay', 'odoks', 'mia', 'audina', 'cimahi', 'perawan', 'indih', 'sempro', 'boneknya', 'laaah', 'gonggong', 'eye', 'beholder', 'lesung', 'kalut', 'dinda', 'anyaannya', 'mp', 'intelektualitasnya', 'satria', 'kasiter', 'manunggal', 'tuap', 'serui', 'checkout', 'jebi', 'aids', 'elmo', 'jayawijaya', 'anjinggg', 'sweater', 'mansoura', 'pepatah', 'ulam', 'campaka', 'koin', 'giral', 'kaku', 'orak', 'niaga', 'katering', 'tempah', 'vegeterian', 'menu', 'lus', 'rakyatmaujokowi', 'segera', 'kerak', 'fildan', 'uhandijalanan', 'sulung', 'embara', 'tegar', 'khairul', 'jamain', 'falsafah', 'booth', 'pbakl', 'apr', 'yudisial', 'joshua', 'simbolis', 'mangsa', 'sangir', 'persegi', 'handle', 'hambur', 'sweeping', 'sudrajat', 'syaikhu', 'miband', 'mira', 'pbg', 'purwokerto', 'chadli', 'mala', 'dembele', 'wooyyy', 'showtime', 'belas', 'syafruddin', 'prawinegara', 'njinggg', 'internal', 'mengkhutbahkan', 'gorontalo', 'kuriahh', 'district', 'fungsionaris', 'headline', 'ang', 'akinlah', 'gmezpoylsy', 'persetan', 'alau', 'gerbong', 'digitasi', 'rektifikasi', 'layouting', 'mapper', 'arcgis', 'autocad', 'im', 'produce', 'perform', 'darimanapun', 'aba', 'feminisme', 'rasialisme', 'mulan', 'frozen', 'remake', 'disney', 'seriawan', 'petaka', 'added', 'eeeeeee', 'dad', 'barometer', 'dedah', 'cluka', 'ccacat', 'sendok', 'garpu', 'squad', 'ayas', 'liput', 'sctv', 'diplomat', 'tuai', 'somad', 'starbucks', 'mad', 'entar', 'ironis', 'pai', 'taming', 'besanding', 'kagungan', 'tebakgambarim', 'ooredoo', 'nominal', 'jamah', 'phoebe', 'ilya', 'munawar', 'mimik', 'scamming', 'creed', 'evil', 'gurun', 'nelson', 'mandela', 'npe', 'animisme', 'dinamisme', 'jahiliyah', 'kudis', 'apak', 'barah', 'kuih', 'drive', 'siapppp', 'balau', 'empurna', 'insensitive', 'tlembuk', 'sinergitas', 'mensiv', 'uhuwww', 'brojol', 'panutan', 'gubya', 'mwaaaa', 'wayang', 'dorna', 'bujang', 'oyak', 'terka', 'injek', 'tegalrejo', 'magelang', 'dds', 'usmani', 'sekongkol', 'kemal', 'attaturk', 'boyfriend', 'rempel', 'prasmanan', 'nelo', 'shua', 'nbe', 'engkar', 'sekam', 'binasa', 'pets', 'longstream', 'niche', 'affiliate', 'amazon', 'pakan', 'kuwung', 'robot', 'transformer', 'komputer', 'spi', 'budug', 'aglomerasi', 'rural', 'baikin', 'awardee', 'undur', 'driyono', 'kaline', 'wadaauuuw', 'kebal', 'jejangan', 'cdaripada', 'lezat', 'choji', 'akimichi', 'ketatanegaraan', 'kolusi', 'nepotisme', 'muttaqien', 'ngehype', 'kuar', 'korelasi', 'tito', 'desk', 'konsultasi', 'bonjol', 'sosiologi', 'kondom', 'empunya', 'realbo', 'primata', 'assalamualaykum', 'identifikasi', 'tats', 'jp', 'reader', 'pollin', 'trh', 'cuat', 'nebeng', 'paloh', 'bewok', 'suyanto', 'kur', 'graha', 'padi', 'varietas', 'gabah', 'monika', 'sosialisme', 'implementasi', 'panja', 'highlight', 'source', 'inkonsistensi', 'cmaju', 'fanny', 'antara', 'nrp', 'gilasih', 'benzena', 'cengkeram', 'ngecamp', 'greget', 'mod', 'banned', 'sampa', 'kolong', 'ubernur', 'geb', 'beber', 'rogoh', 'menca', 'buh', 'woiiii', 'banc', 'inses', 'levai', 'lebai', 'ongin', 'behaviour', 'ngobroltempo', 'adid', 'aih', 'adegan', 'yhho', 'qwxs', 'lesu', 'siram', 'dandan', 'eruntung', 'bastian', 'cisol', 'hadehhh', 'endut', 'bensin', 'saban', 'iphone', 'klimaks', 'horeeee', 'paman', 'gadget', 'eeee', 'shopeenya', 'lisan', 'maritim', 'sahut', 'pesek', 'siapa', 'seringai', 'etnosentrisme', 'platipus', 'gerimis', 'ron', 'syafiq', 'riza', 'bachtiar', 'nasir', 'zulkarnain', 'parpol', 'ww', 'seer', 'rien', 'aelien', 'stmensive', 'viv', 'jokowilagi', 'ruam', 'popok', 'jedot', 'bisul', 'eksim', 'gamat', 'spray', 'mg', 'zikir', 'ekstasi', 'cetus', 'brow', 'konfrontasi', 'masjumi', 'audrey', 'muhasabah', 'jap', 'kancah', 'siregar', 'rps', 'lambe', 'asih', 'renovasi', 'ttman', 'yudas', 'ghirah', 'umban', 'gome', 'tablig', 'halm', 'glamor', 'mual', 'inisial', 'machiaveli', 'softe', 'ibilang', 'persepsi', 'panji', 'duhhh', 'residivis', 'tonjok', 'luuu', 'corong', 'njaaaaaaaaaancuuuuuuuuuuk', 'tebak', 'pej', 'gung', 'gunggg', 'berlusconi', 'komentator', 'petik', 'pari', 'purworejo', 'sutojayan', 'telor', 'bangsawan', 'psikologis', 'mbsb', 'ijma', 'qiyas', 'mnyakiti', 'jenazah', 'osang', 'saset', 'seduh', 'terna', 'freezer', 'tab', 'contain', 'many', 'shower', 'once', 'bude', 'salihah', 'pubg', 'workout', 'doooong', 'mardani', 'ivan', 'boboin', 'elf', 'ckakap', 'ketat', 'deteksi', 'katekismus', 'bait', 'destruktif', 'muuuaaak', 'lio', 'evakuasi', 'hikdun', 'enter', 'more', 'option', 'amplas', 'gante', 'means', 'everyone', 'has', 'own', 'taste', 'otk', 'kerumun', 'proteksi', 'sedak', 'kebumen', 'mbikoz', 'empuran', 'dit', 'bim', 'chaca', 'adit', 'maincraft', 'jani', 'rohidin', 'mersyah', 'rektorat', 'madep', 'mantep', 'manetep', 'rendra', 'juya', 'ernah', 'ijik', 'tam', 'workshop', 'poles', 'johan', 'emang', 'individual', 'usus', 'luwar', 'sbutan', 'wanda', 'medical', 'check', 'nerf', 'potret', 'masyaikh', 'sonora', 'nd', 'entitas', 'pampang', 'silaturahim', 'wahyudi', 'remason', 'kultural', 'metodologi', 'historis', 'behavioristik', 'keropos', 'nol', 'pledis', 'switch', 'suggest', 'spp', 'kafe', 'susananya', 'punuk', 'aaaaaaah', 'hormon', 'manly', 'only', 'cbom', 'klien', 'sandy', 'ctolak', 'cnon', 'oeha', 'bdurrahman', 'oekarno', 'oko', 'ik', 'cit', 'bolos', 'remedial', 'naib', 'ppbm', 'kantoikan', 'taja', 'akta', 'rahsia', 'kanto', 'jombn', 'arren', 'manik', 'arion', 'irasional', 'irasionalitas', 'wooseok', 'militan', 'mintak', 'relative', 'tiroid', 'become', 'worse', 'really', 'account', 'nig', 'fanya', 'ckarisha', 'konto', 'moskow', 'protokoler', 'mengelibut', 'lelucon', 'ntl', 'nmantrraaaf', 'mahakam', 'east', 'attaka', 'wuornos', 'huhungannya', 'babat', 'tvone', 'streaming', 'connect', 'velodrome', 'asean', 'laugh', 'loud', 'almarhumah', 'proyeksi', 'jeruji', 'amnesti', 'grasi', 'diggy', 'inshaaallah', 'limas', 'jihun', 'sir', 'dfa', 'chingu', 'cecyl', 'akademi', 'jisun', 'rawamangun', 'tip', 'soh', 'jomundi', 'myundi', 'preloved', 'crop', 'esophageal', 'echocardiografi', 'peny', 'hinduisme', 'pancang', 'tiang', 'pedoman', 'koridor', 'parbud', 'nhen', 'umbuhnya', 'klinik', 'imorpride', 'woyyyy', 'bangsulll', 'anjirrrrr', 'gueeee', 'cukkkkk', 'syaitan', 'lebur', 'laiskodat', 'ampyuuunnn', 'cangkemmu', 'tapi', 'nauli', 'sunggal', 'breaking', 'riil', 'sadizzz', 'syar', 'kalung', 'nainggolan', 'keok', 'animo', 'stabilitas', 'transaksional', 'emergency', 'meh', 'sube', 'teisme', 'agnostik', 'etc', 'ikea', 'furniture', 'stan', 'ngakak', 'published', 'bum', 'plot', 'twist', 'disket', 'hendardi', 'idya', 'wanandi', 'surya', 'prasetya', 'soesatyo', 'buyback', 'puskesmas', 'achieve', 'freakin', 'goals', 'menghadang', 'burittt', 'kidnap', 'coffee', 'bean', 'hazelnut', 'whip', 'cream', 'lanja', 'kontras', 'ditii', 'gemblung', 'tarich', 'tjokroaminoto', 'fauzan', 'bengap', 'aham', 'adaaa', 'diversity', 'break', 'albe', 'einstein', 'rumpun', 'izrail', 'ice', 'jujunganmu', 'inggu', 'lago', 'tackle', 'injured', 'cidera', 'vavang', 'resign', 'hinggap', 'smp', 'sma', 'chiforchi', 'scarlett', 'johansson', 'rub', 'tug', 'dante', 'gill', 'foya', 'timbal', 'korsel', 'buya', 'eson', 'hayati', 'track', 'record', 'begundal', 'bongkrek', 'emerintahan', 'skor', 'sosroka', 'pelemkerep', 'mahyong', 'jepara', 'lonjak', 'iv', 'ekgy', 'suh', 'kagu', 'kalo', 'rakaat', 'sampan', 'ghost', 'fleet', 'mcmoran', 'psikolog', 'loey', 'peranjat', 'soign', 'paris', 'italia', 'picture', 'below', 'kukang', 'lasso', 'foll', 'tenpat', 'ujuh', 'pangrango', 'mok', 'gegana', 'music', 'congklak', 'carpoolge', 'undi', 'jantina', 'bless', 'dw', 'searching', 'bothnewyear', 'kepedean', 'atuhlah', 'sep', 'yoongi', 'gusi', 'penamp', 'drummer', 'soraya', 'zahra', 'galakin', 'usang', 'gongseng', 'pigijo', 'jelajah', 'baginda', 'fulus', 'fh', 'raket', 'kevin', 'brawijaya', 'geografis', 'belang', 'identified', 'ajsjsjsjaja', 'alkhairaat', 'hetifah', 'tenggarong', 'balikpapan', 'bontang', 'rau', 'mugkin', 'foreigner', 'peti', 'bh', 'tarikh', 'federal', 'boost', 'tranung', 'bangsaaat', 'waluyo', 'kendala', 'rinso', 'kelayaban', 'insaf', 'korek', 'laun', 'aksen', 'aten', 'awel', 'marduk', 'ishma', 'hanan', 'subprime', 'gage', 'yasuko', 'produktivitas', 'sintas', 'kanker', 'bonek', 'ckafir', 'tipo', 'genit', 'imperialisme', 'aws', 'tampuk', 'konsistensi', 'institusi', 'yaaaelaaaaaa', 'lately', 'valid', 'intervensi', 'keponakan', 'fatih', 'cosplay', 'palangkaraya', 'zulkifli', 'nwedeeeh', 'brother', 'another', 'minded', 'friendly', 'cdipengaruhi', 'zombi', 'idur', 'pinggang', 'aut', 'mohabbatein', 'ngoaaahahaaaaa', 'ibul', 'tablo', 'muslimah', 'rainbow', 'etnik', 'saji', 'abut', 'cetek', 'kakap', 'katagori', 'peh', 'samad', 'valerie', 'chistie', 'memdampingi', 'sitir', 'indobet', 'japan', 'ayom', 'regardless', 'gosa', 'medals', 'mtvbrkpope', 'premios', 'sepemikiranya', 'np', 'flashback', 'masker', 'alpukat', 'santan', 'serasi', 'ajggggggggg', 'erik', 'gatur', 'tarum', 'antisipasi', 'pseudo', 'gold', 'fiat', 'ceng', 'papah', 'cbossku', 'sedap', 'sadah', 'bankrut', 'perestroika', 'cecep', 'gorbachev', 'oil', 'zeng', 'jian', 'mubalig', 'giring', 'buai', 'ainer', 'him', 'pame', 'tendensi', 'judgement', 'syura', 'tasyakur', 'proksi', 'bantal', 'uzubillahi', 'minasy', 'syaithanir', 'rajim', 'allahummaghfirli', 'zanbi', 'qalbi', 'ajirni', 'serak', 'lafal', 'ronaldhinho', 'balut', 'caza', 'ttm', 'cpemainnya', 'adipati', 'childish', 'ore', 'bangtan', 'infinity', 'stp', 'hnw', 'ronggeng', 'jumbo', 'institute', 'southeast', 'studies', 'loyalitas', 'liu', 'kiun', 'jie', 'vincentius', 'singkawang', 'diskon', 'xb', 'japanese', 'korean', 'langsat', 'candai', 'diploma', 'dpli', 'ismppi', 'unisza', 'sukacita', 'zainal', 'siauw', 'uthmaniyah', 'ata', 'urk', 'duku', 'nskg', 'mukrianto', 'freelance', 'thats', 'kenapaaa', 'jean', 'gagap', 'ngileeee', 'canggih', 'kit', 'knight', 'rider', 'starring', 'david', 'hasselhoff', 'anaconda', 'avia', 'mentionnya', 'apakabsss', 'kemlaten', 'isya', 'pilgubjat', 'ngtanpahoa', 'ami', 'kada', 'sallallahu', 'alaihi', 'wasallam', 'duk', 'elliptical', 'machine', 'trainer', 'diretweet', 'jafar', 'isuzu', 'magic', 'junros', 'qqqq', 'klub', 'errr', 'laba', 'didistrusikan', 'anah', 'rescue', 'li', 'junhui', 'eeeh', 'hoooy', 'hhhhh', 'nyalon', 'sukar', 'perlente', 'meleteh', 'jambu', 'mente', 'terasi', 'ntk', 'pasifik', 'luggage', 'digdaya', 'sell', 'mbue', 'ekspedisi', 'kapsul', 'khair', 'manifesto', 'geram', 'ungkit', 'dema', 'hidayatullah', 'unahe', 'kucluk', 'cepek', 'salty', 'england', 'hirau', 'okoh', 'menina', 'js', 'lieus', 'gema', 'popular', 'ilyas', 'eliyahu', 'hud', 'bablas', 'buu', 'shock', 'inner', 'left', 'cenut', 'ode', 'prepared', 'statement', 'param', 'puri', 'tse', 'laotze', 'siyaaaaap', 'imbal', 'star', 'wars', 'mercedes', 'bmw', 'ahjussi', 'durasi', 'nlee', 'ji', 'eun', 'weeaboo', 'krim', 'mutih', 'korbanphksepihakfreepo', 'piyama', 'puki', 'arbitrase', 'taekkkkkk', 'sinis', 'ma', 'biduan', 'horizontal', 'kejap', 'gantipresidenbaru', 'yamaken', 'ikemen', 'savant', 'wagirin', 'arman', 'dul', 'indopos', 'silikon', 'ubaid', 'sdq', 'kyin', 'aiparno', 'wiro', 'wamena', 'agens', 'luk', 'pematangsiantar', 'hongdae', 'gidle', 'olak', 'cipularang', 'biarpun', 'kamprettt', 'shot', 'crottttt', 'marie', 'elka', 'pangestu', 'susanti', 'irwan', 'sido', 'adz', 'tn', 'rahadian', 'happen', 'ksatria', 'novri', 'idul', 'fitri', 'hadoiii', 'akhirat', 'puak', 'betul', 'teknisi', 'jawat', 'hishammuddin', 'zahid', 'kassim', 'kj', 'dedi', 'mulyadi', 'galuh', 'pms', 'afi', 'hinayah', 'sanggah', 'arumi', 'bachsin', 'mahasantri', 'loyalis', 'bedebah', 'kepruk', 'jangka', 'ardhog', 'mindun', 'kimcil', 'bugilte', 'pontianak', 'kodam', 'terik', 'seruak', 'terobos', 'indera', 'cngh', 'rambu', 'ckamu', 'drop', 'baskoro', 'lion', 'cbapak', 'diginesia', 'round', 'table', 'puspayoga', 'sindo', 'sindone', 'kencrot', 'kernet', 'bangsaaaaaaaatttt', 'sele', 'cihui', 'idora', 'eadlyn', 'panjaaangg', 'desc', 'malen', 'pegal', 'nde', 'dygta', 'jodi', 'titi', 'rekonsiliasi', 'bismillahirrahmanirrahim', 'sujud', 'panyaweuyan', 'eyeliner', 'asumsi', 'cshalat', 'tulalit', 'jambang', 'mantapppppp', 'eittsss', 'mansehra', 'hdh', 'antam', 'desau', 'dengkur', 'lolong', 'ndr', 'pendayagunaan', 'ekotrenganjaryasinno', 'sponsor', 'julio', 'sanjaya', 'kafin', 'ock', 'bock', 'biologis', 'djojohadikoesoemo', 'akwa', 'indehoi', 'goblokkkk', 'geologi', 'tembaga', 'kintil', 'ulung', 'eaakkk', 'paten', 'florida', 'denuklirisasi', 'indonesian', 'sanseke', 'gimanaaaa', 'allegedly', 'groot', 'kol', 'budu', 'kangkung', 'vitamin', 'nfreepo', 'lecek', 'nyonya', 'cililitan', 'jaehyun', 'pawai', 'asperger', 'dibudakcintakan', 'sosiologis', 'paganisme', 'feodal', 'kurun', 'dinar', 'enterpreneur', 'ketiak', 'cobaaak', 'arisha', 'statistik', 'gantitelor', 'pdt', 'daler', 'pahal', 'tshi', 'juk', 'gmnin', 'tii', 'parisudha', 'halilintar', 'nisa', 'sawentar', 'untukjatim', 'medioker', 'amis', 'koes', 'mirdad', 'abri', 'anises', 'segeulgie', 'ekalipun', 'crumpon', 'ddan', 'terumbu', 'limut', 'besma', 'ncuihhh', 'muazin', 'fw', 'tenteram', 'taktik', 'breath', 'living', 'renta', 'crotan', 'tan', 'sulaiman', 'mahbub', 'telekom', 'dealer', 'science', 'jiplak', 'pusar', 'rochadi', 'liber', 'monogami', 'lut', 'bebetnya', 'babyyy', 'saut', 'grasberg', 'punk', 'msnakdnskdnskdndjfn', 'fauziyah', 'guanlin', 'wish', 'hope', 'zimbabwe', 'aria', 'itik', 'elor', 'rami', 'ranjem', 'gembus', 'fermentasi', 'oncom', 'katotoloyo', 'monumen', 'viktor', 'tup', 'garment', 'otomotif', 'karawang', 'purwaka', 'ukar', 'bapuk', 'studio', 'manajer', 'ontong', 'goeun', 'minho', 'kelasss', 'jauuuh', 'dongoook', 'elu', 'surah', 'subcribe', 'channel', 'muanas', 'husnuzan', 'hhhmmm', 'noureddine', 'boutayeb', 'rabat', 'burj', 'khalifa', 'ckepada', 'petai', 'ngedunguin', 'panu', 'parfum', 'choice', 'directioners', 'trio', 'wiwo', 'amun', 'tjahjo', 'nus', 'mean', 'porsi', 'borjuis', 'raditya', 'dika', 'bwg', 'josssssssslah', 'caitlyn', 'jenner', 'hingga', 'road', 'robert', 'doni', 'adren', 'peno', 'sandar', 'cmas', 'julur', 'metropolis', 'tadwin', 'omelin', 'plagiat', 'rest', 'move', 'kasak', 'kusuk', 'bencana', 'timnasnya', 'coreng', 'barbie', 'kaban', 'tjolomadoe', 'karanganyar', 'totol', 'pancur', 'dlingo', 'tayub', 'sendang', 'sumur', 'pepunden', 'dhimmi', 'nurdin', 'lunta', 'ohhhhh', 'tapir', 'eikichi', 'afwan', 'santer', 'pulung', 'ehari', 'jawara', 'alamat', 'crow', 'lekno', 'kuwe', 'alibi', 'teki', 'chef', 'joss', 'mizan', 'menandatangani', 'reben', 'openg', 'slamet', 'simbiosis', 'risalah', 'mbngk', 'diakomodir', 'rita', 'kontraktor', 'slot', 'raphael', 'maitimo', 'buni', 'yani', 'nv', 'vicuw', 'sweet', 'sempil', 'ns', 'kocek', 'tekad', 'wkkkkkk', 'lockscreen', 'sanad', 'slewah', 'spill', 'naung', 'sami', 'waatona', 'igau', 'hiiiii', 'gituloh', 'fenomena', 'kep', 'bebet', 'benr', 'tungging', 'sw', 'uym', 'syuhada', 'rat', 'bashri', 'dzim', 'markotop', 'tirmidzi', 'suguh', 'kesandung', 'ove', 'outgoing', 'puhliiiis', 'berha', 'gendeng', 'disgraceful', 'selipar', 'kolaka', 'avatarnya', 'laser', 'slide', 'yaaaap', 'bagas', 'grindr', 'lembu', 'glusar', 'glusur', 'rayap', 'auti', 'ekspektasi', 'seprei', 'create', 'gresik', 'serangga', 'salep', 'dustakaaan', 'lambung', 'keprabon', 'emeritus', 'bene', 'ctdk', 'menja', 'gerry', 'keben', 'greg', 'graffin', 'folk', 'country', 'millpo', 'evolutionary', 'biologist', 'ganjil', 'kris', 'baring', 'benyek', 'harpy', 'dirgahayu', 'keanyataannya', 'supel', 'tib', 'kupon', 'abak', 'ddd', 'nothing', 'class', 'wonderful', 'tinggkahnya', 'lompat', 'beneran', 'leonard', 'tampubolon', 'readyforindustry', 'fmb', 'koki', 'pesisir', 'pepes', 'tandem', 'kerupuk', 'delicious', 'sufi', 'mistik', 'negative', 'moody', 'bullyable', 'penci', 'asbab', 'wurud', 'ro', 'awm', 'ls', 'rawasari', 'bagja', 'enipu', 'gelincir', 'taklid', 'budiono', 'terahir', 'kelumit', 'rubung', 'beling', 'sarkas', 'indentik', 'kapital', 'ketiban', 'cikeas', 'aaaakuuu', 'layu', 'oooo', 'freak', 'senator', 'cendikiawan', 'tingggi', 'blukkk', 'misterius', 'drag', 'cecilia', 'canolly', 'harakah', 'banna', 'baiat', 'mursyid', 'qardhawi', 'fool', 'kalyaaann', 'ngopilaaaaaaah', 'boomerang', 'konstruktif', 'bayyah', 'phone', 'rudal', 'letter', 'agreement', 'midar', 'sha', 'circle', 'delulu', 'gibah', 'ipro', 'lag', 'obral', 'doniiii', 'jipepet', 'segambreng', 'caileh', 'amer', 'ashpun', 'shallallahu', 'etangga', 'bfjgfdg', 'jun', 'sbk', 'biangkerok', 'esai', 'impunitas', 'ketuk', 'advocat', 'lafcadio', 'alright', 'dig', 'charini', 'ctak', 'cancel', 'dirtbag', 'hasanahkanggojabar', 'bersikukuh', 'kot', 'syukaaa', 'elur', 'tony', 'frustrasi', 'sekretaris', 'cmari', 'gumpal', 'kup', 'terenyuh', 'jaewon', 'hanbin', 'raesung', 'adsekar', 'alhamdullilah', 'insfrastruktur', 'boys', 'perfect', 'they', 'jukir', 'tambakrejo', 'simoke', 'pariaman', 'kristal', 'jiho', 'ohooo', 'mook', 'advance', 'edvina', 'bangkok', 'hiatus', 'khalik', 'nzzzeeezzzzsssttt', 'babap', 'bap', 'rh', 'insulting', 'bintaro', 'piaggio', 'safety', 'dengki', 'toa', 'blingsatan', 'seungmin', 'abaqus', 'mandul', 'pena', 'rruarrr', 'clo', 'ilmiah', 'infra', 'hani', 'mencla', 'mencle', 'diketawain', 'akurrr', 'rancaekek', 'ckristen', 'ckhatolik', 'skandal', 'dkp', 'ontol', 'girls', 'adon', 'kemudi', 'eksklusivitas', 'pakaiannnya', 'hiperbola', 'trouble', 'moratorium', 'palang', 'soemantri', 'hea', 'massal', 'maunggg', 'wengi', 'cendrawasih', 'wkkkk', 'ck', 'kolaborator', 'ilusi', 'director', 'emisi', 'lead', 'anshari', 'sarumpaet', 'rusuk', 'does', 'used', 'barzagli', 'beng', 'asus', 'azhari', 'repost', 'ugis', 'kibum', 'lugas', 'obilitas', 'danke', 'khitan', 'nauzubillah', 'spm', 'bm', 'add', 'math', 'pka', 'pku', 'lk', 'meriam', 'sabu', 'selonong', 'scene', 'keramat', 'mijn', 'terawang', 'mmmm', 'sounds', 'tours', 'kanjeng', 'bmm', 'kencur', 'keju', 'student', 'kabo', 'membe', 'eco', 'subject', 'mawaslahdirisebelumbe', 'binaraga', 'dompet', 'kentir', 'performancenya', 'woooooii', 'catet', 'micnya', 'ernya', 'definition', 'cuma', 'mlongo', 'septi', 'henry', 'fn', 'branding', 'konsumerisme', 'kaveling', 'durjana', 'anjak', 'ccu', 'cultural', 'understanding', 'lunatsarsky', 'csingkirkan', 'date', 'sulli', 'rio', 'angelus', 'sylviana', 'cunnnn', 'fuhhh', 'rintik', 'cukur', 'burka', 'viii', 'jazuli', 'juwaini', 'stalked', 'stalk', 'lembah', 'humanisme', 'mengg', 'dahhh', 'hamster', 'shooky', 'buram', 'thabrani', 'prabowoforpresiden', 'awkarin', 'syafaat', 'bonggg', 'amma', 'imran', 'doktorandes', 'sudjatmoko', 'musykerwilnujateng', 'musykerwilpwnujateng', 'keling', 'kalinga', 'mahawangsa', 'kedah', 'annals', 'abt', 'vamsam', 'great', 'indian', 'buddhist', 'conve', 'ed', 'adolf', 'eichmann', 'arsitek', 'benih', 'ikultura', 'changi', 'diporakporandakan', 'rekening', 'browsing', 'timor', 'leste', 'tutut', 'dick', 'neomu', 'golput', 'uma', 'nanggroe', 'kana', 'mae', 'teel', 'zain', 'smith', 'gunjing', 'fasik', 'isaac', 'cicak', 'pantang', 'writer', 'bongok', 'encek', 'tjan', 'silalahi', 'monitor', 'hamburger', 'sastrawan', 'mosuo', 'tibet', 'poliandri', 'suam', 'aquathlon', 'canang', 'tidung', 'arung', 'ring', 'lembek', 'bari', 'syiwa', 'tisu', 'kelap', 'fabel', 'teteh', 'pratama', 'cisauk', 'kempisin', 'idealisme', 'nawawi', 'baghawi', 'kara', 'pds', 'dono', 'nasiiib', 'gergaji', 'ltte', 'liberalisasi', 'tiger', 'elam', 'ahmadi', 'dodo', 'sofiya', 'guest', 'discussing', 'twinsgoal', 'halte', 'anggrek', 'parman', 'podomoro', 'tasking', 'buntu', 'lecturer', 'ape', 'lancau', 'impa', 'anwar', 'rating', 'ncbi', 'transparan', 'lalai', 'simbah', 'struktural', 'aktris', 'antah', 'polusi', 'rehabilitasi', 'dus', 'anulir', 'dengung', 'gek', 'dikon', 'atraksi', 'lancung', 'seko', 'jolodong', 'lauk', 'muram', 'dyg', 'private', 'finance', 'initiative', 'barak', 'engajak', 'jehovah', 'cemar', 'denise', 'leith', 'istigfar', 'ettt', 'ngelonte', 'kades', 'udeeeh', 'gangang', 'babel', 'fatah', 'liat', 'triathlon', 'colour', 'yooo', 'mifthakul', 'jannah', 'tgbzainulmajdi', 'tgbforindonesia', 'nlp', 'critical', 'sleeve', 'bontot', 'smpi', 'seoul', 'morgan', 'quraisy', 'tabuk', 'khaibar', 'hunain', 'thaif', 'utur', 'menentramkan', 'zein', 'sin', 'crazy', 'mongondow', 'drajat', 'responsible', 'syed', 'musharraf', 'azhar', 'hamdi', 'pratyaya', 'rajkumar', 'likok', 'parmeswar', 'basumatary', 'nilanjan', 'redam', 'diare', 'rel', 'nmmm', 'merger', 'asuuuuuuuuuuuuu', 'kuras', 'diagram', 'walrasian', 'overheating', 'bengal', 'ngobelin', 'cekik', 'semangaattt', 'kelilip', 'memberitahu', 'upon', 'antusias', 'antum', 'regweda', 'catur', 'sruti', 'restart', 'deli', 'stadium', 'tokcer', 'kotbah', 'generik', 'gincu', 'del', 'shinta', 'unduk', 'kilas', 'semangka', 'ronde', 'ciputat', 'bendi', 'bakau', 'tiap', 'politician', 'academy', 'praperadilan', 'susila', 'ever', 'piring', 'merkuri', 'pori', 'isma', 'ishaq', 'qub', 'konservasi', 'leuser', 'ngamprah', 'jaaaaaaancuuuuuuuk', 'lips', 'tengkulak', 'mukminin', 'zuhud', 'pabean', 'depp', 'aburizal', 'bakrie', 'thgolkar', 'figur', 'caca', 'atomg', 'kepo', 'pakwe', 'pb', 'recruitment', 'anjirittt', 'siaaaaallllllll', 'benciiiiiiiiiiiiiiiiiiiii', 'jahaaaaaaaaaaatttttttt', 'khulafaur', 'kubang', 'evangelis', 'finis', 'thinker', 'islamis', 'dicalonpresidenkan', 'diberangusss', 'mudarat', 'djuju', 'purwantoro', 'tah', 'merinding', 'dimsum', 'penyok', 'vqh', 'valak', 'suparji', 'tetamu', 'sensitivitas', 'dadar', 'generation', 'bengkal', 'arena', 'lucky', 'rica', 'benteng', 'lopor', 'wassalammualaykum', 'trotoar', 'tgbpresiden', 'mansyur', 'binsar', 'insidental', 'provokatif', 'lajur', 'intelektualitas', 'sumpek', 'kej', 'wondo', 'joni', 'cctv', 'algaka', 'manga', 'wota', 'dgk', 'hanbok', 'ngelih', 'opresif', 'idulfitri', 'klip', 'bogel', 'tohok', 'neopki', 'auliya', 'kekeh', 'wkkk', 'rajawali', 'huawei', 'haqqul', 'tumben', 'nooopst', 'biu', 'tameng', 'oflio', 'invetasi', 'septic', 'patrick', 'bulai', 'jahil', 'wedus', 'fbukan', 'kompeten', 'denominasi', 'gpib', 'annya', 'lukas', 'tiarap', 'doktoranda', 'booming', 'tuak', 'chaser', 'growl', 'guy', 'bear', 'fitness', 'gayyogyaka', 'bapaaaak', 'limah', 'hday', 'natang', 'alaaaa', 'inat', 'eeyewwww', 'efisien', 'pend', 'bumerang', 'segani', 'magrib', 'uuunncchh', 'kekok', 'umbi', 'jolok', 'tulalittttt', 'efesus', 'tombol', 'onih', 'rock', 'mmsp', 'kangsar', 'oki', 'kemang', 'naluri', 'komedian', 'digakbolotin', 'tektoknya', 'sundal', 'chess', 'competition', 'ecc', 'ekononmi', 'tanjungpura', 'wiranti', 'andinia', 'tino', 'isipasi', 'jumput', 'anjr', 'dayezsah', 'yogia', 'macau', 'racik', 'inbo', 'aya', 'kuku', 'kil', 'saudagar', 'detikspo', 'lazio', 'damar', 'ponsel', 'luwu', 'thorig', 'husler', 'simpurusiang', 'malili', 'alot', 'komponen', 'tengara', 'dekomposisi', 'molekular', 'atomik', 'easy', 'talk', 'bercocot', 'fist', 'persa', 'cambuk', 'batuk', 'nadir', 'kadung', 'sampaoli', 'higuain', 'mubazir', 'gak', 'tontong', 'calling', 'tenant', 'paramabudaya', 'telkom', 'acuh', 'sanata', 'nes', 'compile', 'assignment', 'penalti', 'maksudnyaaa', 'nature', 'republic', 'akademisi', 'pot', 'tirus', 'tembem', 'hadeeeh', 'tatar', 'siluman', 'tunggul', 'mentari', 'aseeqqqq', 'halina', 'frustasi', 'mangga', 'sirup', 'barium', 'radium', 'ceri', 'puber', 'permadani', 'kampreter', 'ikelnya', 'vegan', 'urban', 'farming', 'balance', 'everything', 'hill', 'fira', 'ungsi', 'paradigma', 'precious', 'sherlock', 'holmes', 'detektif', 'woozi', 'mingyu', 'angkara', 'piyu', 'street', 'penak', 'remisi', 'tukul', 'sei', 'rescued', 'sea', 'ekspat', 'migas', 'karcis', 'wisatawan', 'gacha', 'dantori', 'rasuah', 'lbgt', 'mungkar', 'samawi', 'purbalingga', 'aip', 'comparing', 'matre', 'fukonserawle', 'nurut', 'munaspil', 'pernah', 'per', 'jotef', 'ekaristi', 'nuansa', 'luap', 'konservatif', 'burhanuddin', 'helmy', 'mbokne', 'grace', 'dongokkkk', 'randa', 'jigeum', 'wehhh', 'kinda', 'paviliun', 'melambang', 'widya', 'delegasi', 'kwsp', 'puret', 'light', 'community', 'endah', 'kenistaaan', 'joy', 'kentang', 'bantat', 'pencar', 'menyan', 'notifikasi', 'resi', 'makase', 'fren', 'ylap', 'ggg', 'depresi', 'suicide', 'facepalm', 'course', 'stalker', 'waktu', 'flasback', 'ngegoblokin', 'fun', 'jendela', 'capuchin', 'wibowo', 'vera', 'nhtt', 'libas', 'mate', 'nutrisari', 'jeruk', 'keringetan', 'nitrogliserin', 'ketrampilan', 'orok', 'jimmy', 'takdir', 'toku', 'teten', 'masduki', 'diaz', 'hendro', 'priyono', 'komandan', 'eyyy', 'jaz', 'ran', 'fou', 'wnty', 'hivi', 'sowan', 'lepak', 'mandor', 'uti', 'buncit', 'csepe', 'chiya', 'remet', 'helai', 'nte', 'melempem', 'kendari', 'usu', 'clubbing', 'gombal', 'cer', 'jeblok', 'ngardus', 'graphic', 'appearance', 'noted', 'bona', 'unhi', 'bersetting', 'hulk', 'kelip', 'lapis', 'ngantukkk', 'resan', 'didinya', 'attend', 'acau', 'blanko', 'pandora', 'peperangan', 'jutawan', 'nrekan', 'kuwait', 'emirat', 'qatar', 'operator', 'engineer', 'semua', 'cangkeman', 'indoma', 'tt', 'waaaaaw', 'menghimpit', 'pekat', 'debu', 'sueeeee', 'ogaaaah', 'rebreathing', 'mask', 'apussssssssssssss', 'pokemon', 'instropeksi', 'mawas', 'mijoo', 'ebih', 'solvabilitas', 'eko', 'semen', 'kompedium', 'nusaha', 'mis', 'bbm', 'indu', 'semringah', 'baperki', 'produktif', 'mengakuisi', 'hektar', 'julia', 'perez', 'pinta', 'system', 'iaiu', 'mazmur', 'amos', 'ihat', 'ngelive', 'pipit', 'emanuel', 'porras', 'ampat', 'gantipresid', 'bahak', 'kencan', 'teteeeppp', 'rpjmn', 'kinclong', 'onani', 'tidore', 'cpengetahuan', 'tepar', 'konektivitas', 'isolir', 'sender', 'nafisah', 'mercon', 'faedah', 'boro', 'gobloooooooo', 'aloclair', 'tid', 'conan', 'meta', 'sumiyati', 'notice', 'achhh', 'jaemin', 'ladys', 'adhkslapwje', 'modem', 'ardil', 'dodi', 'boyband', 'westlife', 'hur', 'getek', 'anjeeeeng', 'anget', 'aaamiinn', 'lantai', 'piano', 'lata', 'bio', 'anggung', 'aktual', 'perikemanusiaan', 'papres', 'dasn', 'ci', 'merdu', 'bt', 'hwfwwih', 'wihwowhwi', 'tunisia', 'mekakukannya', 'utututut', 'sarden', 'dunga', 'buseeet', 'nuzuuuk', 'demoooo', 'furi', 'galon', 'leila', 'chudori', 'eksil', 'hallyu', 'traveler', 'kedi', 'og', 'sangar', 'selebtwit', 'singa', 'cuil', 'acting', 'bagong', 'nmula', 'divya', 'loudspeaker', 'cirit', 'bankir', 'rentenir', 'siiii', 'samuel', 'tumanggor', 'muliati', 'teddy', 'lindra', 'valuta', 'kedungcangkring', 'bionya', 'did', 'komit', 'rebuplika', 'icing', 'comingsoon', 'obrak', 'abrik', 'lit', 'nazarudin', 'kolombia', 'raudhatul', 'kutub', 'whats', 'app', 'pinoy', 'talal', 'areng', 'eriaklah', 'permak', 'manai', 'sophiaan', 'death', 'note', 'tokyo', 'ghoul', 'nanatsu', 'taizai', 'buttler', 'overlord', 'romlah', 'radi', 'siri', 'melotot', 'slawi', 'dian', 'gone', 'nyong', 'digawe', 'nisan', 'piatu', 'depak', 'syams', 'dedemit', 'sarangeul', 'praktisi', 'hyang', 'widhi', 'ulat', 'siiichhh', 'nyerem', 'habiisssss', 'jasirah', 'official', 'dai', 'banking', 'nadi', 'ann', 'fatanah', 'menyahlahkan', 'royal', 'hall', 'rilischa', 'selonjor', 'sanksi', 'jengkang', 'lumut', 'wasuuu', 'angel', 'cekal', 'najjar', 'qurayza', 'manusiawi', 'piston', 'magis', 'islamiyah', 'hardcase', 'bingai', 'manah', 'jalema', 'aksesoris', 'babit', 'kelab', 'rotary', 'kerumit', 'kismis', 'mos', 'jisung', 'ejawantah', 'sogo', 'madam', 'hilmi', 'kurung', 'yyynng', 'lendir', 'keruh', 'caplok', 'alhasil', 'luwih', 'cicil', 'dbodohi', 'corgidan', 'ooohhhhh', 'anyaanmu', 'nmon', 'getah', 'angsur', 'stand', 'rembuk', 'seklh', 'creationis', 'stmenfess', 'kelambu', 'picis', 'jambret', 'invisible', 'gugup', 'gantisistem', 'katedral', 'fairy', 'tros', 'gyu', 'tapak', 'jejal', 'asak', 'assikalaibineng', 'kamasutranya', 'sengklek', 'suntuk', 'hausid', 'sukurin', 'keci', 'kaaaaau', 'mamah', 'serapat', 'told', 'nogt', 'ruben', 'wajan', 'pencitraanmeika', 'tania', 'feronikel', 'taha', 'ela', 'syoppinknya', 'bibi', 'cekeu', 'perkamen', 'egini', 'assalam', 'karut', 'omojy', 'elak', 'sugik', 'bitung', 'tumaluntung', 'minahasa', 'indonesiabangkit', 'jim', 'keduluan', 'traktor', 'semprot', 'genset', 'madisa', 'siput', 'true', 'kyuhyun', 'manset', 'jihoon', 'ummar', 'harold', 'freligh', 'asyura', 'akikah', 'ittiba', 'sarung', 'independent', 'fuyyyyyoooo', 'mindfuck', 'byar', 'pet', 'woooui', 'ambrol', 'kadaluarsa', 'senjang', 'dihadang', 'matthew', 'soeharsono', 'dasa', 'tualang', 'zidan', 'creative', 'cy', 'vi', 'hentakan', 'apik', 'biyat', 'nyawang', 'jancuker', 'diintrogasi', 'gawai', 'keika', 'menyutujui', 'keteter', 'militeristik', 'naudzubillahimindzalik', 'kredibilitas', 'maskapai', 'papan', 'aruhkan', 'airlines', 'inden', 'jangkung', 'pentium', 'coel', 'bengong', 'bergedel', 'enaaaak', 'maaaf', 'salur', 'perintilan', 'nkbenkz', 'choong', 'nth', 'ngooaaahahaaa', 'telpon', 'polarisasi', 'fanatisme', 'kr', 'tasbih', 'tungku', 'ameng', 'inu', 'meleset', 'incar', 'permata', 'srigunting', 'memelas', 'zzzzzzzz', 'het', 'npt', 'eng', 'jurnalistik', 'netfli', 'eason', 'gondol', 'buntut', 'unicorn', 'acang', 'mandang', 'bellina', 'egoisme', 'siklus', 'allan', 'nairn', 'imana', 'wandy', 'pahit', 'bancak', 'saripati', 'koboi', 'holistik', 'mersing', 'salahuddin', 'firasat', 'hoki', 'robusta', 'gimanapun', 'sering', 'having', 'ukan', 'priski', 'karyawati', 'bekuk', 'serampang', 'corat', 'rencat', 'ass', 'gigolo', 'begokkkkkk', 'mesummm', 'amatttttt', 'wuduk', 'bazl', 'majhud', 'church', 'prin', 'subut', 'ganesha', 'depot', 'genang', 'bulaaaannn', 'sako', 'persibday', 'bwsdn', 'gubraaaaak', 'format', 'ringsek', 'lua', 'milton', 'ktdg', 'hold', 'runyam', 'allegation', 'qadiani', 'wesss', 'digi', 'asyir', 'tebu', 'acaner', 'pullulan', 'usss', 'kocar', 'kacir', 'mbali', 'sajahhhhh', 'burger', 'luber', 'eksploitasi', 'faiz', 'nardhi', 'priyo', 'firdaus', 'melestarikn', 'robek', 'royalti', 'ngebegoin', 'noh', 'asjbnjadng', 'oka', 'agitatif', 'gelepar', 'feeder', 'tetek', 'remas', 'ongseng', 'melintir', 'rip', 'dar', 'variasi', 'tajuk', 'ash', 'railink', 'timpuk', 'tenar', 'tege', 'maftukhin', 'perum', 'permai', 'overpass', 'business', 'zindiq', 'mema', 'cai', 'mli', 'american', 'uka', 'defensif', 'senapan', 'elevant', 'junjugannya', 'rongsok', 'begituuu', 'metal', 'akustik', 'bella', 'dnanya', 'nirina', 'bpjs', 'mumet', 'diaspora', 'longkang', 'sontot', 'mesofil', 'monoton', 'melas', 'lempit', 'rebu', 'personil', 'provost', 'gentiaras', 'toel', 'anjiiiing', 'cengk', 'sudoku', 'keruan', 'antang', 'selusup', 'semat', 'saman', 'sasirangan', 'barong', 'ochu', 'tek', 'eet', 'gerogot', 'syifa', 'kmk', 'spektakuler', 'nanti', 'syam', 'dihhh', 'personal', 'sounding', 'contact', 'person', 'syawal', 'suro', 'kawi', 'ndro', 'pelepasa', 'proklamasi', 'sintetis', 'bromo', 'tengger', 'meru', 'pantek', 'jembat', 'pejal', 'lakon', 'afc', 'gembala', 'cikar', 'justifikasi', 'nf', 'charm', 'chaaaaarrrmmmm', 'booked', 'anyway', 'mandangkan', 'ketidakadilan', 'ric', 'rab', 'kedanim', 'leaves', 'scar', 'heal', 'relas', 'terapi', 'tkl', 'halau', 'umpat', 'eran', 'poni', 'celok', 'guided', 'gendo', 'layout', 'tomo', 'cya', 'pulahan', 'hb', 'erd', 'gosok', 'kaab', 'amunisi', 'hinata', 'sontak', 'hyu', 'sunan', 'pusaka', 'liku', 'kelontang', 'lantung', 'soegija', 'sasaeng', 'opening', 'lebuk', 'bai', 'dating', 'butah', 'beran', 'hamdalah', 'shoot', 'vihara', 'lantun', 'fasisme', 'ngejb', 'kesiapsiagaan', 'noraaa', 'kloning', 'packing', 'sssst', 'ribuuut', 'mutual', 'keris', 'linknya', 'edannnn', 'marcus', 'mietzner', 'spore', 'erat', 'kasebul', 'johny', 'kadut', 'kunyah', 'actress', 'mingmukedaisi', 'chani', 'jelus', 'wuu', 'pocanan', 'gimmick', 'baha', 'lippo', 'tikung', 'krs', 'syirik', 'nusa', 'sholah', 'setarbak', 'dol', 'server', 'heavy', 'around', 'worn', 'mantaaapppp', 'rindujabarjuaranomor', 'pilgubjabar', 'fadel', 'woojin', 'youth', 'pannage', 'blekok', 'cere', 'ble', 'keywords', 'eon', 'familier', 'sopa', 'dance', 'few', 'eformasi', 'instabilitas', 'lajang', 'benyamin', 'sueb', 'ngedumel', 'rap', 'sidomulyo', 'aek', 'kuo', 'labura', 'iwa', 'bosch', 'voc', 'oshinya', 'jingle', 'iori', 'merem', 'kedip', 'inap', 'oce', 'ag', 'dengau', 'mandarin', 'tekak', 'overe', 'sed', 'barack', 'hussein', 'obama', 'ukraina', 'hanafi', 'hifzil', 'piramid', 'taawuz', 'asyahaab', 'cepu', 'flow', 'berewok', 'endus', 'cedera', 'kelulus', 'barryaje', 'mode', 'trailer', 'komodo', 'nhs', 'kyulkyung', 'visualisasi', 'sks', 'rasah', 'nyangkem', 'buduk', 'enyah', 'aksinaga', 'hideyoshi', 'nobunaga', 'ieyashu', 'paradiso', 'himpitan', 'gitu', 'sal', 'wall', 'diplomasi', 'radha', 'dat', 'makamya', 'sissy', 'lepeh', 'yf', 'mayjen', 'lynde', 'sitepu', 'jogging', 'hempas', 'zionisme', 'mengadudombakan', 'gegabah', 'foreign', 'inflow', 'uuuu', 'syarikat', 'kompangan', 'nakut', 'karni', 'batubara', 'anting', 'cnajis', 'iru', 'nyes', 'barzan', 'praktikum', 'syamsir', 'cukup', 'kala', 'chamil', 'ege', 'dsh', 'ketuban', 'kordinir', 'rewatch', 'shinobi', 'naruto', 'aaa', 'cengang', 'cpc', 'zedong', 'shaoqi', 'kubus', 'proco', 'elektoral', 'bukannn', 'confidential', 'avenger', 'solve', 'katebelece', 'berhala', 'hidu', 'kish', 'demooooooo', 'nyinyiiiiiir', 'tamen', 'dasamuka', 'gentong', 'syair', 'ath', 'urdin', 'kauuu', 'loket', 'tcash', 'unfriend', 'bikini', 'watson', 'calit', 'susehhh', 'huuuuuuuu', 'mukshin', 'lahap', 'junhoe', 'miliarder', 'redbone', 'siroj', 'doktoral', 'ems', 'kucar', 'ranjang', 'gantikacung', 'segitunya', 'pil', 'pcc', 'enas', 'konde', 'komparasi', 'kidung', 'iswi', 'kyung', 'iyaaaaa', 'prabowori', 'bodyshaming', 'positioning', 'baygon', 'udung', 'tawau', 'hole', 'monoteis', 'bekah', 'template', 'malesnya', 'panti', 'nyenyak', 'csaya', 'seraya', 'merula', 'spontan', 'tongkat', 'rapunzel', 'siaga', 'pasek', 'advokasi', 'sohor', 'suho', 'representasi', 'mantu', 'temenannn', 'cbelum', 'goni', 'bebel', 'rapuh', 'vinna', 'eyeshadow', 'tienteuus', 'mursidah', 'towewew', 'kamfrettt', 'patrialis', 'kare', 'tumis', 'guyub', 'paras', 'suadi', 'arabia', 'dasaaaar', 'waraqah', 'naufal', 'nestorian', 'yahweh', 'hamun', 'jong', 'amik', 'charge', 'ahudi', 'wonho', 'langgang', 'lintang', 'pukang', 'sengak', 'kakus', 'berfollower', 'digit', 'kenari', 'dokumentasi', 'sattar', 'edhi', 'armada', 'ambulans', 'peace', 'oratornnya', 'militansi', 'mengkudu', 'jahe', 'delima', 'hunting', 'latepost', 'bengek', 'citarum', 'santet', 'koen', 'selet', 'batasanya', 'muamalah', 'mutmainah', 'ira', 'fil', 'begadang', 'gogobli', 'apotek', 'pasok', 'trimedya', 'sts', 'mentol', 'telaga', 'sangkal', 'senopati', 'oped', 'peruk', 'athirah', 'meneernya', 'hadeuuuh', 'lantak', 'pangandaran', 'elegi', 'pigura', 'renata', 'makbul', 'khaleel', 'pelita', 'ampera', 'any', 'bismillaah', 'lubuk', 'fannya', 'sabaaaaaaaaaarrr', 'aahhh', 'klima', 'ekspansi', 'waduuuh', 'madara', 'edo', 'tensei', 'tilang', 'sb', 'youngji', 'natalia', 'pigai', 'badriah', 'rembet', 'luah', 'ngabalin', 'runtut', 'diksi', 'pinrang', 'handmaiden', 'forest', 'simfoni', 'berframing', 'taiiiii', 'oiii', 'polonia', 'dibarus', 'masehi', 'barus', 'lekuk', 'pere', 'encitraan', 'tempek', 'taeeekkk', 'nakhir', 'cekok', 'tr', 'survival', 'kesusu', 'pasangat', 'nude', 'montok', 'semok', 'holy', 'empire', 'prasarana', 'bunglon', 'giant', 'future', 'fight', 'kits', 'allooowwww', 'asrama', 'gatra', 'eram', 'soe', 'vibrator', 'papo', 'usap', 'hermeneutika', 'wedang', 'bajigur', 'hegemoni', 'antitesis', 'put', 'der', 'tatang', 'diskus', 'shanks', 'kru', 'luffy', 'gomu', 'ngawang', 'likeable', 'urang', 'hatur', 'janten', 'sinambung', 'edisi', 'serat', 'panekan', 'milangasri', 'tiponya', 'chuw', 'busway', 'sanca', 'records', 'soundtrack', 'rangers', 'sianida', 'bauk', 'terdegedrasinya', 'perempiuan', 'rey', 'ngej', 'nla', 'paradoks', 'waria', 'oblong', 'semp', 'kaidah', 'dongoooo', 'nnegara', 'aaah', 'gustiiii', 'tadbir', 'firaun', 'csayaaaaang', 'cby', 'cudah', 'csebatang', 'kebuda', 'jet', 'tabur', 'coco', 'tanned', 'blaster', 'kelimpungan', 'ctiap', 'sumbawa', 'naskah', 'frefoo', 'romor', 'window', 'player', 'def', 'menyu', 'skimming', 'bobol', 'barom', 'transnasional', 'cbaiklah', 'bohay', 'doggy', 'gaaaasss', 'page', 'imunisasi', 'jeezzzz', 'mejelekkan', 'bashar', 'assad', 'anyaanya', 'madrasah', 'dubai', 'kopor', 'ketidakberdayaannya', 'autoriti', 'mila', 'armidya', 'kiwil', 'lutfi', 'afifih', 'kribo', 'jimat', 'sepet', 'obok', 'narseto', 'undipkrundidap', 'inci', 'teraweh', 'ican', 'haduhhh', 'nuhan', 'sakau', 'oleo', 'uwel', 'omel', 'kuntinya', 'ocha', 'gegas', 'milly', 'migrasi', 'kawak', 'deddy', 'sutomo', 'simpuh', 'luat', 'pocong', 'belumtaus', 'hyun', 'cikupa', 'kurap', 'friedrich', 'silaban', 'gulat', 'france', 'imperialis', 'moerdani', 'lapo', 'mantappppppp', 'masih', 'istighfar', 'pillow', 'ndusel', 'alaikum', 'itel', 'kebrangkatanya', 'nugu', 'outfit', 'eiffel', 'amora', 'mollien', 'molen', 'aunty', 'dasi', 'ay', 'bol', 'adohhh', 'foundation', 'ngupiii', 'genpi', 'kempen', 'denkuzul', 'ngacooo', 'nikki', 'haley', 'sekat', 'qaeda', 'mandangnya', 'korg', 'saviour', 'ponakan', 'untun', 'kirain', 'kekanak', 'shore', 'dichat', 'write', 'ahad', 'pw', 'meike', 'sssttt', 'terusssssss', 'dinosaurus', 'pletok', 'asm', 'bulgaria', 'sudrun', 'kentaki', 'fried', 'chicken', 'beltrame', 'sinyalir', 'itself', 'markus', 'instead', 'here', 'canon', 'nteriak', 'mahzab', 'auk', 'ruzhanul', 'ulum', 'savoy', 'geprek', 'jahanammmmm', 'kooo', 'ditwitter', 'son', 'gong', 'invite', 'chatting', 'tankap', 'kir', 'bsm', 'instusi', 'kpnpa', 'ssttt', 'utsman', 'memframing', 'leyeh', 'mawoooot', 'dihabisin', 'lazismu', 'delivering', 'happiness', 'tutur', 'lencana', 'sandiwara', 'dgar', 'katekisasi', 'ilmuwan', 'beringas', 'reksa', 'study', 'nyeri', 'anakjaka', 'aasikasik', 'periodontik', 'sotoy', 'masonluk', 'wallahu', 'membudidayakan', 'aziz', 'substantif', 'berjejaring', 'cilok', 'kotbur', 'stagnan', 'otonomi', 'honor', 'knet', 'worst', 'better', 'them', 'fatal', 'ashabiyyah', 'kurs', 'har', 'kabehhhh', 'latta', 'cabar', 'khat', 'oper', 'kecup', 'kecubung', 'jokowitakutlengser', 'nic', 'tinwedd', 'begoin', 'juga', 'palestine', 'march', 'massacre', 'under', 'attack', 'casu', 'ckntl', 'cbgst', 'tenggat', 'nhoalaaah', 'ijen', 'quiet', 'kentean', 'lob', 'kairoseki', 'paing', 'panggang', 'yakuza', 'sepoy', 'ngelus', 'beos', 'semena', 'mena', 'ngebucinin', 'ngebet', 'buy', 'sektoral', 'aiming', 'tampines', 'rovers', 'muhaimin', 'ahkan', 'dev', 'jungyeon', 'malaria', 'pudar', 'haya', 'herlambang', 'simpatik', 'alaaaah', 'kuas', 'imutan', 'jejeritan', 'marni', 'spt', 'petromaks', 'beresss', 'kelici', 'idjo', 'lagiiiiiiii', 'gegarotan', 'sengakak', 'ngakaknya', 'kenap', 'debora', 'materai', 'busquets', 'busi', 'nanahaon', 'hakikat', 'benga', 'eleven', 'posesif', 'marlina', 'sekala', 'niskala', 'ernest', 'jokowikunjungan', 'eksepsi', 'pattimura', 'ukim', 'analogi', 'mona', 'campus', 'gemasian', 'sopoi', 'lok', 'wajik', 'siaaap', 'ngentotannya', 'ddont', 'forget', 'permisif', 'versus', 'lebanon', 'aly', 'wafa', 'dot', 'com', 'empang', 'netra', 'grahita', 'daksa', 'abissss', 'menyetreaming', 'suliddddd', 'ambi', 'levanta', 'buntel', 'khasiat', 'pencil', 'nabire', 'subhan', 'gantipres', 'spin', 'oppenheimer', 'rachel', 'rosanita', 'ayamor', 'ampai', 'teplak', 'tauhid', 'bangbang', 'pungsi', 'oranye', 'luntur', 'impoten', 'harm', 'waliyul', 'majdub', 'kasyaf', 'karamah', 'cihhh', 'sangarrrr', 'boyolali', 'gabutnya', 'bonar', 'mekar', 'muji', 'hizbullah', 'rambay', 'jeli', 'frontal', 'ngeeooahahahaaaaaaa', 'kbps', 'dhyana', 'dalung', 'jungshook', 'nyaamp', 'khe', 'disagregasi', 'bruto', 'caplang', 'firma', 'hanggo', 'sarkasme', 'sitompul', 'bench', 'selektif', 'koloni', 'arsitektur', 'hizbut', 'tahrir', 'beruang', 'pakkkk', 'nostalgia', 'tal', 'gia']\n"
     ]
    }
   ],
   "source": [
    "corpus = df['Tweet'].values\n",
    "word_list = [word for tweet in corpus for word in tweet.split(' ')]\n",
    "word_count = Counter(word_list)\n",
    "least_common_word_list = [word for word, freq in word_count.items() if freq < 6]\n",
    "print(least_common_word_list)\n",
    "\n",
    "def remove_least_occurence_word(text):\n",
    "    text = ' '.join([word for word in text.split(' ') if word.lower() not in least_common_word_list])\n",
    "    return text\n",
    "\n",
    "df['Tweet'] = df['Tweet'].apply(remove_least_occurence_word)"
   ]
  },
  {
   "cell_type": "code",
   "execution_count": 181,
   "metadata": {},
   "outputs": [
    {
     "data": {
      "text/plain": [
       "                                                                                                                                       53\n",
       "warga badui selesai ingat tradisi seba pendopo perintah kabupaten lebak lanjut be emu gubernur banten wahidin halim sabtu sebabaduy    16\n",
       "tomohon pusat ajar agama kristen katolik khusus doa meditasi bukit kasih suci indah tenang tomohon international flower festival       12\n",
       "tai                                                                                                                                     9\n",
       "cacat                                                                                                                                   9\n",
       "                                                                                                                                       ..\n",
       "tolol anjing                                                                                                                            1\n",
       "marah kak tar ubah monyet                                                                                                               1\n",
       "berat hati gue in nih kunyuk uniform resource locator                                                                                   1\n",
       "ahok bus gratis warga daerah khusus ibukota hidup enak                                                                                  1\n",
       "situ foto ya kutil onta                                                                                                                 1\n",
       "Name: Tweet, Length: 12564, dtype: int64"
      ]
     },
     "execution_count": 181,
     "metadata": {},
     "output_type": "execute_result"
    }
   ],
   "source": [
    "df['Tweet'].value_counts()"
   ]
  },
  {
   "cell_type": "code",
   "execution_count": 182,
   "metadata": {},
   "outputs": [],
   "source": [
    "df = df[df['Tweet'] != '']"
   ]
  },
  {
   "cell_type": "code",
   "execution_count": 183,
   "metadata": {},
   "outputs": [
    {
     "data": {
      "text/plain": [
       "array([['cowok usaha perhati gue lantas remeh perhati gue kasih khusus cowok bego',\n",
       "        1],\n",
       "       ['telat tau edan sarap gue gaul', 0],\n",
       "       ['kadang pikir percaya tuhan jatuh kali kali kadang tuhan tinggal orang tua rencana pisah kakak pilih kristen anak ter',\n",
       "        0],\n",
       "       ...,\n",
       "       ['hati hati bisu bosan duh aa', 0],\n",
       "       ['bom real mudah bom kubur ledak revolusi jiwa', 0],\n",
       "       ['situ foto ya kutil onta', 1]], dtype=object)"
      ]
     },
     "execution_count": 183,
     "metadata": {},
     "output_type": "execute_result"
    }
   ],
   "source": [
    "df[['Tweet', 'HS']].values"
   ]
  },
  {
   "cell_type": "code",
   "execution_count": 184,
   "metadata": {},
   "outputs": [
    {
     "name": "stdout",
     "output_type": "stream",
     "text": [
      "4499                               ayo lengser kasih ampun\n",
      "12390    hati organisasi paham larang bumi pancasila bubar\n",
      "10046                                 ayo lengser sih joko\n",
      "553                           maju gubernur sengsara rawan\n",
      "7947                               cina angkat kaki istana\n",
      "                               ...                        \n",
      "3124     rezim sipil lihat pimpin rezim sok rakyat sung...\n",
      "3125     orang biasa jilat malu hormat susilo bambang y...\n",
      "8601     pilih anis sandi pilih sih nista agama pecah n...\n",
      "164      berita saracen akan tim prabowo anies sandi me...\n",
      "8688                                                 mulut\n",
      "Name: Tweet, Length: 1111, dtype: object\n"
     ]
    }
   ],
   "source": [
    "train, test = train_test_split(df[df['HS'] == 1], test_size=0.2, random_state=42)\n",
    "\n",
    "X_train = train.Tweet\n",
    "X_test = test.Tweet\n",
    "print(X_test)"
   ]
  },
  {
   "cell_type": "code",
   "execution_count": 185,
   "metadata": {},
   "outputs": [
    {
     "name": "stdout",
     "output_type": "stream",
     "text": [
      "                                                   Tweet  Label\n",
      "4499                             ayo lengser kasih ampun      1\n",
      "12390  hati organisasi paham larang bumi pancasila bubar      0\n",
      "10046                               ayo lengser sih joko      1\n",
      "553                         maju gubernur sengsara rawan      1\n",
      "7947                             cina angkat kaki istana      0\n",
      "...                                                  ...    ...\n",
      "3124   rezim sipil lihat pimpin rezim sok rakyat sung...      1\n",
      "3125   orang biasa jilat malu hormat susilo bambang y...      1\n",
      "8601   pilih anis sandi pilih sih nista agama pecah n...      1\n",
      "164    berita saracen akan tim prabowo anies sandi me...      0\n",
      "8688                                               mulut      1\n",
      "\n",
      "[1111 rows x 2 columns]\n",
      "Prediction of HS_Individual accuracy: 0.7335733573357336\n"
     ]
    },
    {
     "name": "stderr",
     "output_type": "stream",
     "text": [
      "c:\\Anaconda\\lib\\site-packages\\sklearn\\linear_model\\_logistic.py:458: ConvergenceWarning: lbfgs failed to converge (status=1):\n",
      "STOP: TOTAL NO. of ITERATIONS REACHED LIMIT.\n",
      "\n",
      "Increase the number of iterations (max_iter) or scale the data as shown in:\n",
      "    https://scikit-learn.org/stable/modules/preprocessing.html\n",
      "Please also refer to the documentation for alternative solver options:\n",
      "    https://scikit-learn.org/stable/modules/linear_model.html#logistic-regression\n",
      "  n_iter_i = _check_optimize_result(\n",
      "c:\\Anaconda\\lib\\site-packages\\sklearn\\linear_model\\_logistic.py:458: ConvergenceWarning: lbfgs failed to converge (status=1):\n",
      "STOP: TOTAL NO. of ITERATIONS REACHED LIMIT.\n",
      "\n",
      "Increase the number of iterations (max_iter) or scale the data as shown in:\n",
      "    https://scikit-learn.org/stable/modules/preprocessing.html\n",
      "Please also refer to the documentation for alternative solver options:\n",
      "    https://scikit-learn.org/stable/modules/linear_model.html#logistic-regression\n",
      "  n_iter_i = _check_optimize_result(\n",
      "c:\\Anaconda\\lib\\site-packages\\sklearn\\linear_model\\_logistic.py:458: ConvergenceWarning: lbfgs failed to converge (status=1):\n",
      "STOP: TOTAL NO. of ITERATIONS REACHED LIMIT.\n",
      "\n",
      "Increase the number of iterations (max_iter) or scale the data as shown in:\n",
      "    https://scikit-learn.org/stable/modules/preprocessing.html\n",
      "Please also refer to the documentation for alternative solver options:\n",
      "    https://scikit-learn.org/stable/modules/linear_model.html#logistic-regression\n",
      "  n_iter_i = _check_optimize_result(\n"
     ]
    },
    {
     "name": "stdout",
     "output_type": "stream",
     "text": [
      "                                                   Tweet  Label\n",
      "4499                             ayo lengser kasih ampun      0\n",
      "12390  hati organisasi paham larang bumi pancasila bubar      1\n",
      "10046                               ayo lengser sih joko      0\n",
      "553                         maju gubernur sengsara rawan      0\n",
      "7947                             cina angkat kaki istana      1\n",
      "...                                                  ...    ...\n",
      "3124   rezim sipil lihat pimpin rezim sok rakyat sung...      0\n",
      "3125   orang biasa jilat malu hormat susilo bambang y...      0\n",
      "8601   pilih anis sandi pilih sih nista agama pecah n...      0\n",
      "164    berita saracen akan tim prabowo anies sandi me...      1\n",
      "8688                                               mulut      0\n",
      "\n",
      "[1111 rows x 2 columns]\n",
      "Prediction of HS_Group accuracy: 0.7335733573357336\n",
      "                                                   Tweet  Label\n",
      "4499                             ayo lengser kasih ampun      0\n",
      "12390  hati organisasi paham larang bumi pancasila bubar      0\n",
      "10046                               ayo lengser sih joko      0\n",
      "553                         maju gubernur sengsara rawan      0\n",
      "7947                             cina angkat kaki istana      0\n",
      "...                                                  ...    ...\n",
      "3124   rezim sipil lihat pimpin rezim sok rakyat sung...      1\n",
      "3125   orang biasa jilat malu hormat susilo bambang y...      0\n",
      "8601   pilih anis sandi pilih sih nista agama pecah n...      0\n",
      "164    berita saracen akan tim prabowo anies sandi me...      0\n",
      "8688                                               mulut      0\n",
      "\n",
      "[1111 rows x 2 columns]\n",
      "Prediction of HS_Religion accuracy: 0.9153915391539154\n",
      "                                                   Tweet  Label\n",
      "4499                             ayo lengser kasih ampun      0\n",
      "12390  hati organisasi paham larang bumi pancasila bubar      0\n",
      "10046                               ayo lengser sih joko      0\n",
      "553                         maju gubernur sengsara rawan      0\n",
      "7947                             cina angkat kaki istana      1\n",
      "...                                                  ...    ...\n",
      "3124   rezim sipil lihat pimpin rezim sok rakyat sung...      0\n",
      "3125   orang biasa jilat malu hormat susilo bambang y...      0\n",
      "8601   pilih anis sandi pilih sih nista agama pecah n...      0\n",
      "164    berita saracen akan tim prabowo anies sandi me...      0\n",
      "8688                                               mulut      0\n",
      "\n",
      "[1111 rows x 2 columns]\n",
      "Prediction of HS_Race accuracy: 0.954995499549955\n",
      "                                                   Tweet  Label\n",
      "4499                             ayo lengser kasih ampun      0\n",
      "12390  hati organisasi paham larang bumi pancasila bubar      0\n",
      "10046                               ayo lengser sih joko      0\n",
      "553                         maju gubernur sengsara rawan      0\n",
      "7947                             cina angkat kaki istana      0\n",
      "...                                                  ...    ...\n",
      "3124   rezim sipil lihat pimpin rezim sok rakyat sung...      0\n",
      "3125   orang biasa jilat malu hormat susilo bambang y...      0\n",
      "8601   pilih anis sandi pilih sih nista agama pecah n...      0\n",
      "164    berita saracen akan tim prabowo anies sandi me...      0\n",
      "8688                                               mulut      0\n",
      "\n",
      "[1111 rows x 2 columns]\n",
      "Prediction of HS_Gender accuracy: 0.9738973897389739\n"
     ]
    },
    {
     "name": "stderr",
     "output_type": "stream",
     "text": [
      "c:\\Anaconda\\lib\\site-packages\\sklearn\\linear_model\\_logistic.py:458: ConvergenceWarning: lbfgs failed to converge (status=1):\n",
      "STOP: TOTAL NO. of ITERATIONS REACHED LIMIT.\n",
      "\n",
      "Increase the number of iterations (max_iter) or scale the data as shown in:\n",
      "    https://scikit-learn.org/stable/modules/preprocessing.html\n",
      "Please also refer to the documentation for alternative solver options:\n",
      "    https://scikit-learn.org/stable/modules/linear_model.html#logistic-regression\n",
      "  n_iter_i = _check_optimize_result(\n",
      "c:\\Anaconda\\lib\\site-packages\\sklearn\\linear_model\\_logistic.py:458: ConvergenceWarning: lbfgs failed to converge (status=1):\n",
      "STOP: TOTAL NO. of ITERATIONS REACHED LIMIT.\n",
      "\n",
      "Increase the number of iterations (max_iter) or scale the data as shown in:\n",
      "    https://scikit-learn.org/stable/modules/preprocessing.html\n",
      "Please also refer to the documentation for alternative solver options:\n",
      "    https://scikit-learn.org/stable/modules/linear_model.html#logistic-regression\n",
      "  n_iter_i = _check_optimize_result(\n"
     ]
    }
   ],
   "source": [
    "clf = LogisticRegression(n_jobs=1, C=1e5)\n",
    "# clf = RandomForestClassifier()\n",
    "# clf = SGDClassifier()\n",
    "\n",
    "labels = ['HS_Individual', 'HS_Group', 'HS_Religion', 'HS_Race', 'HS_Gender']\n",
    "for label in labels:\n",
    "    pipe = Pipeline([\n",
    "        ('vect', TfidfVectorizer()),\n",
    "        ('tf', TfidfTransformer()),\n",
    "        ('clf', clf)\n",
    "    ])\n",
    "\n",
    "    pipe.fit(X_train, train[label])\n",
    "    y_pred = pipe.predict(X_test)\n",
    "    pred_df = pd.DataFrame({'Tweet': X_test, 'Label': y_pred})\n",
    "    print(pred_df)\n",
    "\n",
    "    print('Prediction of {} accuracy: {}'.format(label, accuracy_score(test[label], y_pred)))"
   ]
  },
  {
   "cell_type": "code",
   "execution_count": 186,
   "metadata": {},
   "outputs": [
    {
     "name": "stdout",
     "output_type": "stream",
     "text": [
      "['nphnukl', 'miduk', 'dptaslou', 'ctl', 'januard', 'pouchnya', 'liter', 'nopefcpi', 'oizprhg', 'wdaas', 'whaaa', 'kereeennn', 'banting', 'reply', 'charles', 'tidore', 'qfza', 'shmk', 'kicau', 'andang', 'auuh', 'cxq', 'zqvq', 'hivgadw', 'kytqyn', 'bervibes', 'gjbohg', 'vgc', 'syuliiittt', 'rbm', 'iyb', 'cekat', 'riweuhnya', 'rloap', 'anakbai', 'lntutdv', 'tttappiii', 'curha', 'uwaknya', 'ttfvhbn', 'jyov', 'yqbdc', 'swbu', 'arievrahman', 'sociogeeks', 'wish', 'khyqjg', 'yip', 'hto', 'ntusiha', 'cm', 'kabisanya', 'yzdf', 'wcy', 'fhlfwtpiki', 'uwgjy', 'aopfzzj', 'maritim', 'gfgkvnvit', 'pelihara', 'auk', 'qfpkbz', 'pingpong', 'dvktrdp', 'oeyc', 'rgeg', 'zmdnsbu', 'lemaaahhh', 'biawak', 'zosokufhek', 'linkmu', 'unz', 'blob', 'enembe', 'tum', 'kooperatif', 'apadaya', 'ciquita', 'ofuzovasq', 'konyaku', 'nutrijel', 'fhjtq', 'rinci', 'azyf', 'mjwga', 'oliviacath', 'teko', 'lubang', 'wnyckblnq', 'jelantik', 'doessense', 'pipa', 'deras', 'ilustrasi', 'oyeennn', 'aufaag', 'tslzg', 'aufag', 'kyut', 'nick', 'penggal', 'ajoseb', 'dxa', 'sem', 'vjidr', 'johandaeng', 'lwywaue', 'celah', 'srikaya', 'howqw', 'qscl', 'sangaarrrr', 'disuguhin', 'pij', 'zbofzv', 'tandan', 'sekte', 'cangcut', 'rekor', 'dipa', 'fiswjf', 'ryr', 'gjrak', 'eqj', 'klcvfavwsd', 'kays', 'ddpvarjeff', 'els', 'nsujfqjj', 'mkmgizk', 'nung', 'bylvkdjbbr', 'nljopwgz', 'impossible', 'hamba', 'beothw', 'kob', 'rachmat', 'sido', 'oro', 'ii', 'kompleks', 'nataru', 'qdhonawkbb', 'sragen', 'luuurrr', 'mlkae', 'weee', 'banggar', 'jecervs', 'beban', 'tebak', 'suguh', 'eldwywkvkd', 'fnjzzfrps', 'gecwtcsy', 'enggal', 'rawuh', 'rohing', 'kulo', 'raga', 'nlfpr', 'qel', 'larissa', 'berengsek', 'ngelesnya', 'tre', 'jmqr', 'dapetinnya', 'silah', 'wewuz', 'bangkee', 'supir', 'bnylhbq', 'abung', 'tampolan', 'zmbadwys', 'guaktigl', 'merdekasari', 'kulon', 'kmjdoip', 'gwzvzcuffj', 'cieee', 'wzzrcjttah', 'ysnvntgbr', 'wahid', 'federasi', 'bincang', 'linu', 'pbj', 'jelaga', 'bansos', 'ngenyek', 'skhrorsfyr', 'twitku', 'penalti', 'olgwq', 'dbd', 'bocilnya', 'galang', 'dip', 'tipis', 'sampir', 'saudari', 'maka', 'waycnc', 'rzyg', 'vgrpinsflv', 'ykwnq', 'eiow', 'dlp', 'kelarrr', 'lswakqmghz', 'aiytqgnsq', 'kontrol', 'ngacaa', 'moral', 'dipenjarkan', 'ohbsb', 'nos', 'sad', 'rn', 'kakek', 'pbltlrn', 'angeys', 'ktzmcchk', 'najwa', 'sqsogbu', 'hdclb', 'majic', 'nder', 'langseng', 'bohlam', 'philips', 'setrika', 'gvuhpz', 'daahhh', 'zo', 'rritgoplrb', 'yojyjp', 'yuhuuuu', 'cheescakein', 'kipas', 'lampu', 'kamar', 'pengeeennn', 'squash', 'jeyuuukkkk', 'krejku', 'caliweura', 'gegabah', 'uqbde', 'boolzrhi', 'bjrfkjig', 'demokratis', 'ysd', 'raw', 'uczezmta', 'mcalorr', 'klik', 'bait', 'nprp', 'bangpae', 'butuhdolar', 'adalahreza', 'uoe', 'zjgfzn', 'pordylr', 'ozzfcc', 'cpq', 'nbqdu', 'yml', 'usilin', 'dxw', 'shio', 'nonik', 'malmingan', 'mikirrr', 'tkvml', 'halumuuuu', 'sela', 'menep', 'uaujn', 'rengek', 'awv', 'oebh', 'osglsbyj', 'persib', 'maung', 'iku', 'nvo', 'egq', 'york', 'jiayou', 'zhy', 'bkqf', 'ayb', 'apu', 'owwyetcykm', 'naspad', 'flmbrenz', 'imb', 'fengshung', 'qzyr', 'rir', 'tkrwpjl', 'gendang', 'sslb', 'cllayhtnrq', 'agas', 'luwu', 'qfs', 'mjwk', 'akh', 'sampan', 'agbbl', 'nlt', 'toyuquwphs', 'tual', 'ggrgcs', 'seig', 'zzg', 'mlcg', 'pte', 'dyjcjlroc', 'snwm', 'bdu', 'dhcjnnesay', 'yefqqjpm', 'ozll', 'speedboat', 'pengap', 'induksi', 'thpsj', 'bjnh', 'frhss', 'ocpfysive', 'ntwnvwox', 'qhv', 'wgkay', 'uavuu', 'emmr', 'katagadisitu', 'katekumen', 'kuli', 'teruuusss', 'uizrlj', 'ppmevhsdt', 'gerombol', 'tiiyykp', 'haleluya', 'uprk', 'jamah', 'toal', 'toel', 'egl', 'tkr', 'czuy', 'nenen', 'csqzwa', 'iei', 'ngomel', 'dikomenku', 'lunar', 'ngomelin', 'cuek', 'bentaarrr', 'baim', 'ketar', 'jyhjepg', 'mantuuu', 'ezeuvf', 'kayuh', 'veqkshm', 'nekat', 'pedestarian', 'embat', 'ira', 'bambu', 'jfhavwg', 'telusurnusanta', 'mic', 'cal', 'isteli', 'ngeless', 'bossque', 'ylnyvocwo', 'jacklynchoppers', 'jtip', 'cintaaahhh', 'presto', 'yrd', 'hgt', 'mim', 'kz', 'zlkgh', 'kjt', 'ekozpj', 'ncg', 'zhpym', 'ofzddjtgb', 'subsudi', 'bpkh', 'ilo', 'kn', 'rskr', 'hjqohjhlj', 'haj', 'enwhplsl', 'gigih', 'ykv', 'oyfhqlmmkd', 'face', 'maria', 'pvfyfprnnn', 'tikuwm', 'slp', 'cholil', 'obv', 'hajar', 'aswad', 'deuh', 'banyuwangi', 'oroyieuirl', 'wasting', 'fljq', 'cfc', 'tpungijqro', 'pgysplttoe', 'washing', 'qtja', 'nazvf', 'dzzzlaytcr', 'andigus', 'wovlizg', 'mbu', 'sunshine', 'ahwbnbwiy', 'hdjeq', 'qhj', 'dkjtwdy', 'tukangrosok', 'azo', 'lacur', 'nike', 'tantrumnya', 'bleehhhh', 'mulus', 'gerinjulnya', 'healing', 'ybua', 'qrp', 'uaccuhl', 'swmzwccx', 'diberentiin', 'perugas', 'nopol', 'spion', 'knalpot', 'disamperin', 'lookk', 'phk', 'vlbh', 'sopfgrpfl', 'oleng', 'kemaruk', 'uwcf', 'verenasusilowa', 'nuzciz', 'ihjt', 'yzhlg', 'birokrasi', 'vlplyavuxk', 'rajapeanutbuter', 'bob', 'ngeyelnya', 'ngemengnya', 'bentak', 'devisa', 'turis', 'liur', 'bakteri', 'kl', 'numpahin', 'gzvgn', 'duga', 'jzicp', 'dpbs', 'igtmbqves', 'sindir', 'gsoqwpdl', 'mimika', 'obbh', 'tjwiwy', 'tvc', 'misterius', 'pwlyb', 'lowf', 'bawanggg', 'antusiasme', 'tanimbar', 'mvl', 'ckyt', 'pnizdoprqb', 'linkw', 'periuk', 'konnlancw', 'oul', 'abklb', 'cqu', 'pgqeu', 'uzvu', 'huq', 'danqetdleb', 'ljkwqtlgc', 'freepo', 'mgq', 'fsm', 'jmfrj', 'yhoae', 'rqonmg', 'pabu', 'grlb', 'anam', 'palawija', 'zhat', 'twinsnya', 'cengkeh', 'lele', 'emo', 'abrek', 'kekadrun', 'ketapel', 'pelanting', 'slepetannya', 'sadayana', 'kandas', 'robot', 'ramen', 'bolak', 'gwgjk', 'nyess', 'brongkosh', 'gundu', 'hqkgvss', 'nitaaa', 'hadisang', 'talenta', 'qwlbrm', 'spw', 'jang', 'rek', 'taeun', 'ambeh', 'leuwih', 'ngadorakakeun', 'hotjkguvgy', 'cicaheum', 'ketlingsut', 'zefv', 'kzmzm', 'nuvt', 'hjwo', 'gnogc', 'uya', 'kuya', 'dugl', 'nubhu', 'tofa', 'lemon', 'dibotakin', 'qztbmqonbm', 'rinjani', 'rin', 'hnhqep', 'mrx', 'didoain', 'closing', 'hhok', 'vmg', 'dimaselagie', 'seasean', 'trjx', 'dpkhf', 'sentani', 'fcg', 'bedzweii', 'iqbaale', 'seasik', 'antaranews', 'avantie', 'leleh', 'pck', 'parfum', 'hendak', 'dalih', 'anjur', 'miskin', 'igpkc', 'qhlnl', 'byii', 'lhbrfuti', 'bq', 'nanyanya', 'kepret', 'vnyzmjhn', 'lateks', 'fqne', 'bmvtk', 'edote', 'fpqhfcrdz', 'mvociay', 'nyimaaakkk', 'gatelnya', 'ayamm', 'keriput', 'dahi', 'tingkir', 'seni', 'omaieph', 'foam', 'bukaaannn', 'informasiin', 'vtfmpudwtt', 'ichi', 'ocvyoerz', 'rggntt', 'rhnjd', 'uwox', 'zvna', 'qqhycbw', 'wozffc', 'ecjr', 'vmunt', 'bengkel', 'legal', 'aktz', 'idmhvr', 'seiji', 'san', 'qizzkfsl', 'bajing', 'seks', 'efeh', 'vqyb', 'ifu', 'ngemper', 'boyong', 'cash', 'armada', 'qlah', 'ehvlx', 'manggung', 'tnuojl', 'foqu', 'rqmwr', 'qknd', 'ntibueitw', 'rbstnul', 'gv', 'asrama', 'cwoc', 'zrhun', 'luwes', 'lima', 'saud', 'forbo', 'ueyz', 'suamiknya', 'ldtuen', 'ssh', 'sasar', 'slo', 'ashiaappp', 'nyqqi', 'fsk', 'leixe', 'vwftb', 'duyung', 'ilmuwan', 'lkk', 'btd', 'mpzkuew', 'pvmwtp', 'tlz', 'ckdwy', 'kopisusi', 'sgqus', 'zmz', 'rnc', 'bwz', 'kloter', 'hulyjpgvb', 'gapswts', 'tmtcstvy', 'sab', 'jvps', 'akphikjktb', 'nqcv', 'esophageal', 'echocardiografi', 'jahilin', 'zaqncas', 'kmfpa', 'hmnqc', 'fogging', 'lumazas', 'zlmieiqumg', 'ngududnya', 'enakeun', 'ivejgee', 'verra', 'xb', 'cpkhq', 'ebw', 'hpbmlyukpk', 'milihnya', 'sl', 'srz', 'wwhuqrf', 'cheto', 'rspicou', 'zscmqdjl', 'masjidil', 'lzy', 'ducc', 'piyeeee', 'jaman', 'rpdaogyh', 'glider', 'gfykaqk', 'wandy', 'lpwruajq', 'gfrybw', 'nobarnya', 'goodiebagnya', 'gip', 'uwoihbtc', 'kmwpksiufb', 'supados', 'obmfwkrx', 'daszs', 'jsspjqxt', 'wnfcez', 'anjung', 'vge', 'boycnk', 'aytubeqqkl', 'jnclmnhmfg', 'pmpjt', 'hwri', 'reuphoria', 'hyyrose', 'planetneorul', 'chanyeol', 'tsakhi', 'tunggudingin', 'mesecch', 'nabawinabiil', 'icipanttt', 'rindang', 'deposito', 'fhlz', 'abon', 'peran', 'asia', 'phallus', 'penis', 'vagina', 'imfqqf', 'yacpi', 'waekuwyvih', 'rosse', 'bmek', 'cloh', 'pix', 'yoq', 'lurwumbtq', 'buem', 'keropeng', 'ndro', 'ganjil', 'mendiang', 'fptnjg', 'yrwbw', 'widyasaput', 'put', 'ddp', 'leseh', 'erina', 'gudono', 'selvie', 'buttvievni', 'gerbang', 'wuvdh', 'zfe', 'rzuo', 'effect', 'ofqeqfnr', 'kalyana', 'broka', 'iqzjpnqat', 'jswzyhtnkg', 'kzzogrbjl', 'rebu', 'rfubqfv', 'upn', 'czghcsae', 'kqsy', 'biadab', 'kliyengan', 'setan', 'pasca', 'rudapaksa', 'lhre', 'tjjud', 'iwanaki', 'peseek', 'poldajateng', 'pcrpjlqwc', 'babak', 'bur', 'asbak', 'suh', 'tampak', 'tqzui', 'ezfl', 'diu', 'iij', 'tawins', 'syahirularif', 'tika', 'iamfikar', 'arieph', 'kampungsini', 'baraarang', 'inapriyanti', 'sebuahrelasi', 'jesicarahmadina', 'wahidzuhairi', 'intanayuarimbi', 'lly', 'lika', 'levi', 'liebe', 'ismailbhakti', 'rapbn', 'zno', 'vax', 'lkuimzlv', 'zpeubsv', 'ofwdbcqu', 'yuukkk', 'pap', 'kol', 'vqcoym', 'idhanukman', 'menhan', 'gorikhoich', 'ppy', 'volleyball', 'tmppnxo', 'fwmcplsujo', 'bhpb', 'hjbl', 'iru', 'eka', 'pacalannn', 'clfz', 'xr', 'bundo', 'kanduang', 'mocbn', 'krmakiuc', 'uvm', 'lembah', 'manah', 'uhztj', 'rdj', 'dlk', 'manglingi', 'rendam', 'uiefsf', 'ina', 'zakkyandy', 'belitung', 'rdt', 'rawis', 'cnwbsjv', 'fojbdky', 'pqjp', 'tqwc', 'evaivx', 'nofrrppuml', 'adrglgz', 'nfpoe', 'bvqfcl', 'vdr', 'uefcmgqbve', 'dffmjzqa', 'jw', 'vntw', 'hod', 'ktfnvdzpi', 'tdhnsdwosf', 'sk', 'manaaa', 'mahkota', 'mbgopo', 'hgm', 'hqwnbkhhd', 'zwadp', 'wiy', 'halumu', 'gfofgrbqf', 'zks', 'zk', 'kalung', 'stabilitas', 'perlahan', 'daefjia', 'umbuhan', 'qssp', 'qskfeim', 'elbe', 'flat', 'bbjbaqzv', 'hqphgnq', 'pwlve', 'thk', 'haduuuhhh', 'mpop', 'elindashe', 'babang', 'bengkayang', 'mzw', 'dkumkl', 'tqmmdhk', 'ngangenin', 'lampau', 'kgvjuv', 'pukau', 'terpana', 'cmtsniocu', 'kaya', 'halau', 'dna', 'dywczkuqqj', 'asim', 'pentil', 'paksi', 'siahbjto', 'urcfc', 'fnlb', 'kkjlh', 'perkara', 'ngabibita', 'hyuqi', 'vh', 'ccgtgu', 'tiq', 'tiasa', 'yuni', 'shara', 'ubowdy', 'drop', 'obx', 'shock', 'spnyxb', 'benuaandin', 'tambang', 'iccldo', 'borgol', 'masinis', 'pose', 'xh', 'eoc', 'kmz', 'bengak', 'ngebully', 'klepto', 'arogansi', 'jwff', 'ehyp', 'qdubm', 'dvbd', 'cetak', 'ulhrdholqz', 'uhflvcgsjd', 'kabut', 'asap', 'splbo', 'azko', 'mutung', 'gsmsbvpz', 'hotmannya', 'lungsur', 'cadang', 'fsy', 'hvh', 'mention', 'jpwy', 'oedx', 'mvqnluiuad', 'hpringgondani', 'olb', 'siticeriaselalu', 'oiyw', 'idcb', 'nanjak', 'hutan', 'rzne', 'hotman', 'paris', 'hutapea', 'oiqbtzbp', 'uqihco', 'tednampqa', 'edwardsuhadi', 'lusqjdf', 'tionghoa', 'nwr', 'pyshpc', 'prasasti', 'cikapundung', 'maribaya', 'tahura', 'kfzj', 'femd', 'omzaodoggv', 'kemenkeuri', 'jjyhm', 'multitalenta', 'ubdbzf', 'garda', 'azsqpgyhhp', 'bgl', 'referensi', 'bloinnya', 'vvkqmfvrjw', 'songsong', 'pupb', 'cpy', 'emba', 'barbuk', 'ngembaliin', 'kembaliin', 'ngutil', 'rkv', 'tatkala', 'hplcpk', 'zxv', 'kunker', 'bonceng', 'dplyl', 'msqom', 'dm', 'kleptomania', 'emsjcksoze', 'favouritemu', 'biediv', 'ttfmchse', 'cezkdv', 'nbddnzhzr', 'kubu', 'ukar', 'ngebuka', 'great', 'oujfo', 'loct', 'tin', 'wlz', 'jcwg', 'seraya', 'izzulrizl', 'elektabilitas', 'sanksi', 'jhrqdytro', 'ppjtorfrzm', 'misbah', 'vobds', 'phr', 'ewnitt', 'nyu', 'erima', 'qcbs', 'padu', 'pgoajo', 'opngg', 'glgp', 'twaf', 'doe', 'mii', 'sndf', 'yuv', 'jltggz', 'knt', 'hmocbhtyu', 'mewzao', 'ambisius', 'carin', 'fbs', 'lumbung', 'rusun', 'seminari', 'sorong', 'kgu', 'hloepv', 'joshua', 'ncdysltbpj', 'gqqcvnde', 'konferensi', 'pers', 'udel', 'bade', 'maghrib', 'dirawu', 'kelong', 'keh', 'htpcfms', 'yhrh', 'ylhjs', 'resireborn', 'miko', 'sacha', 'bintil', 'akar', 'rhizobium', 'subur', 'zdid', 'bharada', 'ypdg', 'ggwja', 'madzgnsrkf', 'jshplyrmk', 'kamicintapolri', 'atih', 'rdo', 'etlj', 'xi', 'konsumsi', 'publik', 'hutcspq', 'keri', 'wafat', 'pistol', 'geprak', 'marufsirojudin', 'apotik', 'nffqvodfa', 'vaksinasi', 'lyajtsfhoz', 'qzvc', 'vugdpnclfs', 'ctm', 'alergi', 'luar', 'caladine', 'cair', 'zia', 'csg', 'sancha', 'amazon', 'liha', 'cok', 'income', 'bgkw', 'sancainchi', 'mudji', 'bodre', 'knzcbvmejg', 'retweet', 'sumpit', 'avtur', 'jangkau', 'kbyr', 'jijik', 'ketiban', 'astznhhwmg', 'hibrida', 'zg', 'czitn', 'deteksi', 'ocmz', 'bzgfc', 'hnkgc', 'fjmt', 'fqdqpcw', 'vvk', 'fwqik', 'loeo', 'indi', 'aizkp', 'leuipkym', 'vljv', 'allahu', 'akbar', 'mamy', 'fqizsfsyqm', 'lcde', 'tbkes', 'wbuk', 'bx', 'eliezer', 'jgy', 'vdaob', 'tema', 'uewwjtc', 'disoliderin', 'dehcdclcr', 'tfvsjkpglo', 'temennn', 'hujat', 'izssnv', 'svj', 'dharmasraya', 'yayanknya', 'gaassss', 'ienywv', 'fodnfzo', 'nebak', 'buu', 'hina', 'alkitab', 'itcbysmnhq', 'instansi', 'bsktzdsx', 'rofiq', 'olkut', 'ynct', 'emut', 'bongkeng', 'oap', 'ssl', 'riljizfrxi', 'jibdx', 'gotbbq', 'gidvmlyorl', 'tangis', 'ypd', 'seling', 'njgjhrql', 'serapah', 'dwngs', 'vital', 'sejuk', 'cmwm', 'hening', 'dalang', 'aqj', 'seremonial', 'terjun', 'maya', 'dgknwrc', 'marwah', 'ugo', 'integritas', 'bzkcjke', 'piyopikave', 'purbo', 'piyopikavet', 'omkodoq', 'rambat', 'bipang', 'kecoa', 'dekil', 'buduk', 'detected', 'rujuk', 'christofel', 'hirbeoqs', 'hcgngo', 'vvluknpwvz', 'bangkang', 'mfi', 'dmk', 'neqkkslwy', 'salai', 'chokee', 'morafia', 'lentera', 'maszeeh', 'israrshams', 'antoniusdidi', 'jangkrykboss', 'andyleo', 'ungucciiaaa', 'effeloco', 'phoeni', 'arisfaiz', 'chrizmaann', 'cbf', 'vao', 'formal', 'muh', 'kanjengraden', 'kanjengradeen', 'shakadirga', 'tvaucjb', 'apat', 'greget', 'ybfcwylieg', 'hrwcgjqw', 'bibit', 'bebet', 'bobot', 'ebqzljuj', 'cohgt', 'ody', 'nh', 'serasi', 'yqeehie', 'bkghn', 'vevjdwz', 'qvd', 'ytfy', 'sinyal', 'yop', 'afpsrpp', 'vespa', 'pzhicqp', 'uhuk', 'agtpiuucxe', 'baswaras', 'vumss', 'hhce', 'klwi', 'modaskj', 'defffend', 'kaku', 'wvqktqr', 'curiga', 'aafmuo', 'barusegu', 'seruuuu', 'dav', 'hhur', 'delap', 'kshamkefcn', 'ruwet', 'ambulans', 'aleluia', 'kmylwhrff', 'toniheru', 'ranggavega', 'ekakunjeri', 'svw', 'przs', 'nlto', 'jaihlom', 'vmj', 'ggtlv', 'nicy', 'ngiluuu', 'puk', 'cwmfe', 'jadiinn', 'jadiiinnn', 'budibongg', 'diijinin', 'pletaaakkk', 'shandal', 'ebcj', 'jpdbu', 'xg', 'ekm', 'bypn', 'acieeee', 'koalisi', 'riba', 'rc', 'ngehubungin', 'tiy', 'tzd', 'latah', 'ytie', 'yenras', 'nini', 'thowok', 'seniman', 'mgydkcrckv', 'modern', 'ml', 'ps', 'pwfqkwco', 'hqm', 'iwausd', 'entangkan', 'wn', 'psh', 'sanggul', 'bentur', 'wyimk', 'kecf', 'basah', 'wadawww', 'naro', 'svvbmz', 'odk', 'cjvyhp', 'konfirmasi', 'zco', 'gii', 'darurat', 'slebe', 'gr', 'rnqkck', 'otwvdt', 'usywm', 'ksnmw', 'natalia', 'qunfnjn', 'prasojo', 'qfe', 'zttmsy', 'weess', 'kawit', 'kwgzpzbw', 'ui', 'krcsf', 'jaweujiumz', 'ugs', 'esy', 'twdmnmf', 'dedekkk', 'ngereog', 'simanjuntakelly', 'zreckunttb', 'lintang', 'aipdrb', 'embun', 'fzvrwhes', 'unduh', 'pgq', 'cbvnb', 'ytph', 'akoko', 'maulana', 'tyfrimppni', 'wtwtgnpuma', 'gyopl', 'nffkssns', 'lgvf', 'bgfuati', 'eks', 'ewuiynivmh', 'iviano', 'zmupogny', 'lhjlv', 'yrcq', 'mecahin', 'vsqj', 'knfji', 'tw', 'ovhqbk', 'altdi', 'hvbpupiyib', 'sbmj', 'acr', 'kelingking', 'autan', 'uwoooo', 'ul', 'wzopyx', 'rkp', 'tumplak', 'punjen', 'dabbsfgv', 'dznss', 'indikasi', 'ktagh', 'ngedampingi', 'cgl', 'xw', 'cee', 'brm', 'tifa', 'prrijy', 'adenan', 'colokin', 'ute', 'smzd', 'lsc', 'rvu', 'wahaiii', 'bainai', 'wzgdwrkh', 'ohuo', 'keggf', 'resepsi', 'chijp', 'hlzvzlx', 'vpp', 'vpwajp', 'pusingin', 'eqjqp', 'tqq', 'juhol', 'lwkz', 'papanda', 'pkj', 'dcie', 'siaaappp', 'jgo', 'ajq', 'seruput', 'buuu', 'buwuuunggg', 'kmsqq', 'bapil', 'pilek', 'jrm', 'ghrkzj', 'gzj', 'usrzd', 'ujhgra', 'susiair', 'hesteknya', 'qzdr', 'bpviqn', 'filter', 'csr', 'cjd', 'fqp', 'ancientjava', 'jeehh', 'maming', 'kmzrpnj', 'weisss', 'bhp', 'bwyic', 'zhu', 'dave', 'jodo', 'xe', 'cieeee', 'tchpcb', 'trykpjgcdq', 'bingkis', 'jjwja', 'qiq', 'tldhzh', 'ekspresi', 'bonge', 'quyp', 'dibonusin', 'dvu', 'usuf', 'telennn', 'vpf', 'jelly', 'qfnt', 'lfs', 'vibes', 'blcscurf', 'abspknv', 'rpzncvy', 'sbinesabine', 'diazhesrondeo', 'people', 'lambe', 'cyzdn', 'kembangtujurupa', 'pendekaroug', 'squi', 'wardbae', 'omeng', 'freakchuu', 'akuncurhatangua', 'ims', 'pian', 'maddboyys', 'srimaul', 'pledis', 'boos', 'ibnvarabi', 'editor', 'kidrrow', 'fps', 'upah', 'minimum', 'regional', 'seblak', 'wvhsoetzwj', 'eqons', 'jeje', 'sekat', 'kbd', 'cadas', 'tfe', 'naruhito', 'otr', 'mwh', 'gjpe', 'nahdlatul', 'week', 'tykgohq', 'japan', 'eeeg', 'iil', 'tbsx', 'nlp', 'gvf', 'grh', 'nhhhq', 'bison', 'fhe', 'zvs', 'sjvhruz', 'zcpyahgwiz', 'capital', 'international', 'airpo', 'uzddmkzz', 'heurey', 'ceunah', 'bullying', 'kybb', 'bot', 'jgcteu', 'lengkeng', 'etujrecqde', 'citayam', 'kreativitas', 'gen', 'dh', 'eale', 'celamitan', 'tph', 'khj', 'heri', 'remeh', 'kulak', 'nakes', 'edqmxi', 'ngerjakannya', 'ocig', 'usoz', 'hbvya', 'rw', 'diucapin', 'suhv', 'tltos', 'harya', 'rycvg', 'yonhka', 'lppg', 'znfot', 'kinanthi', 'gnbehjra', 'gaung', 'kwukmda', 'nysflwkaac', 'zptbj', 'miris', 'jrwyllpu', 'jdws', 'aubnnpr', 'swprpuqeis', 'salut', 'cerebral', 'palsy', 'niniksito', 'anastasia', 'hcpvhoutnf', 'wtymwrg', 'lampias', 'beton', 'jeuqias', 'wweww', 'zfcvrfbt', 'terkocakkk', 'teguk', 'edhzmo', 'mhwtzo', 'fw', 'hyachqd', 'qgdjqcd', 'mlbm', 'umd', 'qevhc', 'ulog', 'kaitueb', 'rrsjkgufal', 'jtqz', 'aplapw', 'jjiodamhx', 'gey', 'nlccm', 'qoudipsmbk', 'gmfnpuleoz', 'bershio', 'hatersnya', 'vyww', 'eplya', 'grand', 'launching', 'tfqs', 'clvye', 'quk', 'lghrqk', 'izzi', 'skiz', 'dikonvo', 'pinang', 'dohy', 'etdah', 'vcg', 'jijgn', 'siahh', 'muslimin', 'pzzne', 'embrio', 'nil', 'bajo', 'paradise', 'mewiw', 'selebrasi', 'hura', 'mbmloh', 'vor', 'beuuhhh', 'izpc', 'mlehoypun', 'omlhsr', 'mbulll', 'rambo', 'jahil', 'honfp', 'hqluoh', 'sgmnya', 'laktosa', 'kahiyank', 'ipj', 'displaynya', 'benda', 'idbcv', 'uge', 'uauyn', 'gfklamh', 'trouble', 'japremnya', 'utvsnijay', 'tiang', 'lerdytk', 'poci', 'imut', 'ashpbf', 'japrem', 'atm', 'legit', 'cntbe', 'imfapway', 'merak', 'obr', 'tbulrd', 'tcdadk', 'rrj', 'ypa', 'kb', 'bestie', 'fniuia', 'scl', 'jepit', 'cip', 'icip', 'bajawa', 'uawzzwm', 'ebhcabbusz', 'qznyjmetv', 'dina', 'lzuszeoe', 'jynrv', 'notifmu', 'mhrvjdcuu', 'vwt', 'lhlbyh', 'zwqqsyyq', 'ewyld', 'jantung', 'menit', 'wbzf', 'pmbr', 'buayaa', 'ltbvkcj', 'hywdkiorwn', 'rinca', 'tffcnavorv', 'setkabgoid', 'olqzwkjqbz', 'yours', 'empa', 'keringat', 'ironman', 'bocaaahhh', 'ugtohem', 'daobiqilpo', 'kuak', 'botol', 'nzhkbzspnt', 'raninggalek', 'nogososroasli', 'berewok', 'sarang', 'alamat', 'sedawt', 'pphkvo', 'stopplandemit', 'kbt', 'gsw', 'masihmagangnih', 'blekok', 'wpfk', 'hvjnnuu', 'ebt', 'ikyguz', 'nguping', 'bl', 'ipat', 'hmczalndz', 'iig', 'loc', 'muli', 'slooowwwlyyyyy', 'cbms', 'jsb', 'osquhwptyu', 'beuhhh', 'deddy', 'gusmao', 'rgk', 'bogor', 'dedi', 'ajengan', 'dglpcy', 'benalu', 'lgw', 'hywvyi', 'bmafdjtwrh', 'tahta', 'boh', 'dunv', 'lkjmhqzecw', 'yad', 'iecpm', 'onar', 'keruan', 'gbgiblsvao', 'paparazi', 'rjsyi', 'bz', 'qonyvy', 'gzyjkbmif', 'yeniricardo', 'luntur', 'fns', 'ltynho', 'bpkb', 'menulaaaarrr', 'qzvis', 'disney', 'jju', 'jrja', 'mulaik', 'brjkebqwm', 'ynpfhc', 'novcowdbpw', 'rhcyhilv', 'ttkr', 'qyjitwd', 'yheee', 'nsyp', 'vblvuea', 'waenya', 'ckpleuy', 'lerqqdd', 'zep', 'mezza', 'mancung', 'ngubah', 'lite', 'onomobil', 'tomcat', 'gshkgh', 'sogok', 'asudahlah', 'hcptcu', 'fatwa', 'fly', 'kapuk', 'gasibu', 'silverqueen', 'erpoc', 'wfuocyu', 'diss', 'cydwei', 'qfcn', 'kristenphobia', 'twitternya', 'tglmsfa', 'cenil', 'umbut', 'ramosma', 'senjatanuklir', 'mere', 'kyodwpre', 'lanangjagad', 'nuansabening', 'preettt', 'emz', 'eofzrlzu', 'gifnya', 'dpvvulcsku', 'qqtytpref', 'lyhrs', 'byvt', 'egb', 'shield', 'bra', 'yetkdx', 'flsn', 'zsnwa', 'tambal', 'ati', 'vnj', 'muc', 'which', 'girls', 'tawur', 'nbnw', 'muuf', 'visi', 'fykcvv', 'ray', 'komunikasi', 'sendiri', 'dmgcyz', 'fvp', 'karisma', 'fjc', 'kgbgms', 'dondong', 'duku', 'maskr', 'rebond', 'piagam', 'dogyoei', 'harmonis', 'fsrzdfz', 'transparan', 'kepulici', 'yoxm', 'respons', 'kikfmk', 'rlz', 'milyar', 'rekomendasi', 'upjku', 'ideal', 'bcjfsn', 'ulur', 'tindih', 'elvira', 'qewzsw', 'tpoagvb', 'banjiiirrrr', 'fjfuwswkxs', 'mzvoyo', 'fajjwpgv', 'sykavc', 'zxo', 'vauqtvs', 'abegeh', 'kjhwmqdy', 'cguydw', 'aabpurwjfx', 'dmmq', 'edgtm', 'aps', 'arapaima', 'gigas', 'predator', 'lokal', 'hanyut', 'woohhh', 'galaaakkkk', 'hocoruhcga', 'papi', 'iri', 'wawas', 'ufs', 'ngerangkul', 'kawula', 'nwd', 'qogm', 'pointbroo', 'kueee', 'rooney', 'qhdunurftj', 'sange', 'pelit', 'obc', 'lfe', 'aum', 'izpu', 'ugti', 'eprzc', 'ogjvdcle', 'jsi', 'ycrkeu', 'chiu', 'yunita', 'yunani', 'plesetin', 'yunikah', 'ramelah', 'bzy', 'yunari', 'pphsp', 'ure', 'steve', 'comot', 'lot', 'rzeh', 'jovankavanke', 'sangkut', 'konflik', 'kepiting', 'napitupulu', 'ipn', 'mfnu', 'ganezha', 'udeng', 'obh', 'hgaq', 'mvbs', 'apr', 'bechi', 'mqgig', 'isp', 'hyai', 'uvgkkdrqil', 'loflywtqz', 'anaerob', 'racik', 'barista', 'czrouryqxr', 'cauuz', 'ycsrcokv', 'jaw', 'tpdfgunmmz', 'ejte', 'wycjjj', 'kbo', 'glde', 'njfywqvw', 'bpn', 'glk', 'kwhlkj', 'zwk', 'otyo', 'enterinya', 'windyo', 'kimono', 'ceoqkl', 'mfkf', 'cemani', 'kapas', 'bajigur', 'mvjorf', 'mgo', 'wrwn', 'fghurkc', 'compang', 'resesi', 'qakddrh', 'suqb', 'nreyu', 'esg', 'lsb', 'dpju', 'cediiihhh', 'cv', 'wooinrd', 'ecegfsriuv', 'pesimis', 'suram', 'icipffhuh', 'fag', 'gqwjwsu', 'aanbmrqcqy', 'goek', 'rphn', 'ekzgc', 'formulir', 'kjmcofbf', 'duli', 'ftakb', 'rsd', 'reiow', 'hbgghzuchj', 'mi', 'gpmulj', 'deritamuuu', 'amaaannn', 'ykdatimpcy', 'rsaptiandari', 'ouotpdceot', 'istighfar', 'kusir', 'swara', 'spatu', 'guzvw', 'pvyi', 'hizbuttembakau', 'likyoko', 'apri', 'njawab', 'linting', 'jewjsami', 'keg', 'pzbc', 'rssog', 'ctsmii', 'ozneyqq', 'efsilue', 'meler', 'umbelan', 'pqtr', 'mmu', 'loveofspeechz', 'status', 'janda', 'khoirunnisa', 'meleeerrrr', 'umbel', 'jmdjnlsj', 'per', 'eew', 'zgv', 'qnwg', 'baku', 'koit', 'rrkomdjqhd', 'sastro', 'yjapjbvfhs', 'hiiii', 'iziovcv', 'gubris', 'sandung', 'mumpuni', 'zulhas', 'emis', 'evyqazywfx', 'dtsho', 'kjp', 'nvbpduv', 'neni', 'lfuyt', 'shena', 'lnzdlc', 'uam', 'dzldjl', 'melempem', 'siwzed', 'unv', 'luhut', 'dep', 'ladnm', 'pynl', 'sqpo', 'ihu', 'kwx', 'srilanka', 'lebur', 'beri', 'yvovcr', 'csttu', 'vohii', 'umju', 'hatta', 'wwypobtc', 'gtnai', 'keran', 'mjby', 'rjf', 'ngombor', 'ngebor', 'sumur', 'song', 'vina', 'rhjpybe', 'kiikh', 'jl', 'iwwmw', 'telegram', 'sayyasatpol', 'diblur', 'nanijat', 'sayat', 'gergaji', 'mnto', 'wyyqucumnu', 'kyfwdlbgjo', 'daddy', 'soeryawad', 'ketemlenmu', 'kupisusi', 'kornhurri', 'tebas', 'ngurangin', 'ngamookkk', 'sledingan', 'mrf', 'lkrzeg', 'zfv', 'wantahgdn', 'uflrifhckq', 'ziii', 'sgccs', 'rekiblik', 'fgrmboc', 'fld', 'hrf', 'ndeprok', 'umk', 'soh', 'juj', 'joseph', 'nvafst', 'upilitilia', 'efol', 'lakibaikelu', 'sajakpatahati', 'humorjontampan', 'iqs', 'mrhp', 'loveniey', 'khofifah', 'respon', 'dardak', 'boz', 'wgdu', 'rzongizcir', 'ppbg', 'eu', 'rztid', 'mczd', 'qooigey', 'yjsounfnph', 'odading', 'tomat', 'vhtyro', 'nimkfj', 'scorpio', 'farkut', 'qxt', 'enh', 'fhyosn', 'maryanti', 'zsyul', 'iacb', 'flkx', 'licvqvq', 'ghiwhu', 'dbhcdtajax', 'cindai', 'siti', 'nurhaliza', 'riurizkiutomo', 'ummm', 'bilih', 'namina', 'dipotongna', 'saatos', 'sateuacanna', 'disebatna', 'sato', 'sareng', 'urangna', 'keneh', 'hapunten', 'samudaya', 'kalepatan', 'yubkjjqlvm', 'bhzrle', 'afu', 'qbbiek', 'qwduhoprdv', 'pmmqz', 'widodo', 'konghucu', 'zjvn', 'dafz', 'seksual', 'situwaras', 'situasu', 'qchrmj', 'jntvfhocok', 'apes', 'lezat', 'rubah', 'stmrpsz', 'pedofil', 'pgjwnyr', 'thinklah', 'buukkk', 'injek', 'blejekinnn', 'qwjhhdvm', 'matt', 'aniespun', 'helai', 'eymsssyh', 'kantung', 'diglek', 'buih', 'soda', 'lzybsy', 'bof', 'musyawarah', 'mufakat', 'dnr', 'vaeba', 'allahumma', 'innal', 'hamda', 'mulk', 'habibthink', 'otisram', 'gemak', 'lfjbhuak', 'kolak', 'sumsum', 'phjatwudl', 'afrika', 'pur', 'zhjny', 'vili', 'zlel', 'kangende', 'umardhan', 'petanirumah', 'bojo', 'nqo', 'buayaubanan', 'bakarsmith', 'sayid', 'machmoed', 'uki', 'ngandelin', 'soo', 'sejatim', 'nganjurin', 'nyerahin', 'muji', 'ibm', 'giur', 'qejdhpmfxa', 'disatuselkan', 'jombang', 'pikun', 'str', 'monas', 'jwowt', 'nqm', 'ufjwtwwscx', 'lamang', 'tape', 'manohara', 'kaagclqlrr', 'males', 'ukzmk', 'iar', 'pegelll', 'qlohfdnt', 'bdt', 'ouo', 'rjit', 'nmppy', 'stp', 'gsovkj', 'jtebvyjmkp', 'qgdqe', 'iamrainfalls', 'leni', 'diituuyy', 'azaleabetony', 'pkq', 'sedikiiit', 'qwjndoigzv', 'jpwkj', 'hamp', 'tonga', 'hendibur', 'satire', 'dllzzdusg', 'fcwnytwr', 'wswttlutuy', 'hgte', 'pftee', 'neehhh', 'uizsa', 'lukasomanalu', 'stunting', 'menghimbau', 'ayanimel', 'qmaq', 'kero', 'dgvivcm', 'ready', 'ngewe', 'lkcmi', 'oncy', 'ptwl', 'jhahstwozy', 'rnypz', 'iwanfals', 'rqyc', 'vynubzfuc', 'pjwh', 'sp', 'yoneal', 'syurgahhh', 'pelampung', 'zlgthbhfn', 'landing', 'togahq', 'drlqgb', 'uwuwuuu', 'imisldjm', 'perata', 'sspopo', 'ujang', 'ekol', 'nffbt', 'keliru', 'lgr', 'ogk', 'nkuofl', 'ketipeng', 'ekalah', 'dqz', 'amboiii', 'zjjjhmvkwl', 'ngelobby', 'antisipasi', 'manasik', 'lengan', 'dicabutin', 'kemoceng', 'segani', 'baskoro', 'jlmsnodqki', 'tysru', 'alpym', 'areh', 'rahman', 'pemberitahuan', 'mepet', 'ffbg', 'ddh', 'hkuzkkcl', 'edgwuepcx', 'vkmhqrmj', 'rwhzyl', 'ptqir', 'sewi', 'zbqanjx', 'prastowo', 'ndara', 'tato', 'yos', 'mkfe', 'ibga', 'dibantuin', 'hfndctz', 'mwhfiv', 'wicaksono', 'uqifzmeu', 'urip', 'qjltw', 'cdcrfmrhks', 'iczck', 'znpv', 'qgy', 'susaaannn', 'zjmbp', 'drmj', 'kuncir', 'bisik', 'mgnt', 'lpm', 'tfa', 'rzynhpwws', 'mjts', 'owq', 'sapiiiii', 'vzchmb', 'makasiiihhh', 'geer', 'gejwez', 'kca', 'landa', 'larut', 'mimpi', 'mark', 'twain', 'vsoa', 'wns', 'nipe', 'ngeplak', 'sedikiiiitt', 'fmc', 'alun', 'sokaraja', 'tempe', 'wcvgnug', 'holly', 'tygkeuuf', 'jembut', 'kelupas', 'iv', 'spbogkw', 'sabiiiii', 'qkhyd', 'piu', 'piuuuu', 'obrk', 'buyut', 'ngeyellll', 'kmhg', 'jycwi', 'muk', 'tan', 'nrscw', 'fct', 'ciuahvie', 'syamchaniago', 'shamming', 'syam', 'bulat', 'kteuz', 'vaj', 'itg', 'myqjd', 'geg', 'rqst', 'kenokvfwhx', 'maspiyuaja', 'udjqfuo', 'tmou', 'check', 'kompas', 'kacau', 'nzmhz', 'zwjz', 'devi', 'omuauyyg', 'dn', 'wopr', 'ojb', 'protestan', 'zophrspg', 'kibr', 'yitfbgcq', 'gdrivqclws', 'yzmeo', 'xy', 'litbang', 'rjultdse', 'gwuodj', 'lciqcbqcnt', 'lmp', 'skincare', 'lulur', 'buluuuu', 'gadisresidu', 'pangkat', 'yvuugqku', 'ebbk', 'simbok', 'nguri', 'ezyyyvyg', 'biji', 'bqe', 'lmt', 'sqka', 'majikan', 'gatelll', 'eksplore', 'peyuuuuttt', 'lzvw', 'zipfg', 'owx', 'czx', 'telat', 'mamynya', 'odt', 'arifnuriz', 'dnaw', 'ixz', 'ceciliasuwanda', 'nnpep', 'cpmaiaynov', 'ttnsfearo', 'ngaso', 'fjosyffpzv', 'cimahi', 'coret', 'djeviznhgj', 'jcgcqu', 'iiyny', 'ncjlzx', 'jahe', 'angetan', 'cincau', 'gnsnyzrivl', 'cita', 'sztwe', 'rpub', 'rds', 'njitak', 'kesel', 'kelindes', 'psggwyivfi', 'elqnphtnjn', 'keshoot', 'eueaus', 'bxw', 'vqfjot', 'embung', 'gedebage', 'ttvngz', 'dlsyqslqxw', 'ulpubi', 'liuu', 'fcv', 'tkn', 'gpitoc', 'stbfjebkaa', 'laptop', 'hot', 'chnniauukf', 'dedikasi', 'cpz', 'tb', 'vjlbj', 'wagu', 'bjss', 'itcy', 'dapetnya', 'vmq', 'gjnd', 'ybzu', 'kurnadid', 'vvtkjzgf', 'bmojf', 'rzjn', 'pyop', 'mav', 'tjahyo', 'hdoamcq', 'cetmltraje', 'bentompul', 'yt', 'skbrcw', 'dqdjovgans', 'ohmnmqx', 'rkt', 'ristiano', 'ronaldo', 'adrp', 'curi', 'ifkmp', 'huv', 'agwtowrdx', 'kppzuogojz', 'diplomasi', 'mekar', 'dianggep', 'dboyv', 'qpnl', 'kiyut', 'ganteeeenggg', 'rgqa', 'nzdhm', 'menkeu', 'standing', 'applaus', 'dld', 'fru', 'yoen', 'kayyzshu', 'npingitz', 'wanderluster', 'thet', 'ntrys', 'rickykardjono', 'azisdadun', 'dennydsp', 'ezarjunioregain', 'wkumt', 'nyeemaakkk', 'ant', 'buayawati', 'zkrb', 'hmz', 'ntzzmxb', 'menlunya', 'pkgnun', 'tatang', 'kandrkhz', 'byjgvpedzb', 'kupyw', 'sftrmsu', 'ynzpboa', 'bknk', 'szjzfl', 'cmk', 'zfqzlv', 'jojtr', 'qas', 'vupqfk', 'iukp', 'rdyqo', 'konser', 'metal', 'udlpsdjyku', 'tumpak', 'zkf', 'revisi', 'ihodqvcco', 'jealousy', 'queen', 'uzj', 'aif', 'qdt', 'hwv', 'hermans', 'avaku', 'pita', 'rok', 'mivdpn', 'teraphy', 'wanjirrr', 'polandia', 'terjemahin', 'locations', 'wwueuqwwpj', 'donald', 'ngamookk', 'goodiebag', 'warm', 'hoh', 'cptz', 'krakatau', 'erupsi', 'kwc', 'rjpbwo', 'bidadaripemalu', 'qnytqv', 'melati', 'aeldg', 'vbfm', 'tt', 'breln', 'kyiv', 'gzjb', 'juliantoder', 'fcuhkphpao', 'kbvwg', 'ilqvul', 'emang', 'nukucu', 'layandyes', 'pentoltetelan', 'jidregen', 'kucinggbelangg', 'juragankolor', 'farizindallah', 'opjb', 'kyfvzkuhdj', 'rafws', 'dihbs', 'hcwk', 'vbmc', 'fhdis', 'kisi', 'struktural', 'hibah', 'bermedsos', 'qodjlqta', 'asut', 'egews', 'takk', 'rbuf', 'rqh', 'hosinyiej', 'ngirii', 'nganan', 'dathjz', 'gerbong', 'yyeuv', 'vvyihtabmn', 'ennscsr', 'iwp', 'uqrc', 'qmpsh', 'eufkdwqayc', 'oow', 'anitccnjjk', 'ibclvisf', 'arem', 'rrrd', 'zuas', 'rdpg', 'aadshwbbsy', 'rdnk', 'glh', 'soyw', 'rddqv', 'upvqyaw', 'uflewuqijy', 'ufn', 'ubpa', 'piy', 'bnpjeb', 'bodong', 'buseettt', 'kagettt', 'jin', 'tomang', 'kgueikjrwu', 'sinkron', 'aohtzmwhyk', 'syqcyh', 'punggung', 'rsgmvsrbl', 'gubsu', 'atensi', 'hindun', 'hswpeiky', 'nyobakah', 'scvfvo', 'hzrsu', 'yozd', 'tujvd', 'tipe', 'mummynya', 'taud', 'rzbwm', 'tdaaq', 'buncah', 'zig', 'led', 'vatel', 'dipost', 'ngehoa', 'ygfzw', 'czpd', 'dbkw', 'ystv', 'nbp', 'yaelah', 'zwdzpektqt', 'zagurgrueo', 'wfaj', 'mwbs', 'hgn', 'layu', 'kran', 'ngamok', 'scz', 'tv', 'tangkaproysuryo', 'zpeyzycwun', 'betadine', 'tensoplas', 'emoh', 'uly', 'zke', 'wmywbi', 'closed', 'taeklubudos', 'lwfgpey', 'vivits', 'iwwnr', 'ribetnya', 'ifw', 'getuk', 'trio', 'uakw', 'lps', 'fjeynz', 'tx', 'antoudewo', 'squidward', 'jycvi', 'jituu', 'ngoleh', 'mimiweeka', 'aiman', 'mimi', 'gwvfgzcsuw', 'zyr', 'oedsuo', 'zigpyy', 'zgs', 'kwb', 'jujrhjbby', 'mmzjx', 'rkkxe', 'voqj', 'uchgfag', 'joozl', 'qoj', 'emkoe', 'bbr', 'munich', 'bavaria', 'wtxv', 'kzbeafhowc', 'kensekar', 'easuprovj', 'stylish', 'kly', 'jovi', 'zqjk', 'nukerin', 'ehzydimvx', 'lsibh', 'zuji', 'jyizhbokd', 'vuhso', 'lhdl', 'gdai', 'fae', 'zzq', 'psorulvujy', 'vclzo', 'lch', 'aowuyo', 'kikyyy', 'wvdfjpuea', 'vwwsk', 'uynst', 'putin', 'hhavw', 'ditut', 'apiu', 'cutie', 'mswqcdir', 'anna', 'annasantoz', 'shintaaraa', 'pantek', 'hym', 'bwv', 'ynwoo', 'kpp', 'oqmmvcwdqm', 'langgeng', 'dfw', 'rapunzel', 'eqzvnfqkqv', 'jzc', 'nbg', 'bapa', 'kvcywhmd', 'usik', 'cakar', 'hantam', 'disaksiin', 'pesanggrahan', 'dktz', 'wf', 'evaluasi', 'evakuasi', 'timika', 'ideologi', 'mynamelittle', 'lepuh', 'hhr', 'kenitu', 'duren', 'ngetwitnya', 'apfoi', 'hduldcqscy', 'pjp', 'simpangmenoleh', 'gjzjdgqp', 'lily', 'lovely', 'eukj', 'pmx', 'samber', 'sabeeerrrr', 'gusdurian', 'ultra', 'milk', 'variant', 'mezsmqwdd', 'angga', 'mipbikczug', 'jack', 'politis', 'vgfgmb', 'nomcmi', 'rdx', 'wko', 'wcgfdw', 'patobranco', 'syukak', 'ngakuuuuu', 'nlkrklwlgz', 'wmu', 'oqugdo', 'utxd', 'rjl', 'diw', 'abal', 'tavrhii', 'mansur', 'otoniqbo', 'ervrakk', 'ramein', 'restonya', 'ruben', 'onsu', 'dijulidin', 'ngevape', 'djarot', 'ngelepasnya', 'ngelepas', 'ritsleting', 'related', 'bqgtn', 'rwxu', 'batak', 'ty', 'jaahhh', 'hans', 'sddo', 'rfmhw', 'surprise', 'abg', 'qlkaug', 'store', 'nntpch', 'oalahhh', 'tgmkyhtgaw', 'szeu', 'cmfp', 'mamba', 'golput', 'krim', 'uilzdglrd', 'arydihati', 'gqlk', 'joke', 'yfct', 'dosl', 'gwqz', 'msl', 'yof', 'ufrafy', 'uvhd', 'enw', 'juou', 'pakpahanpolma', 'malika', 'kuhyqczqmk', 'verboden', 'hansip', 'balado', 'ihik', 'drhavm', 'acnewbie', 'anugerah', 'iteq', 'aijo', 'qvn', 'htdm', 'gepeng', 'lok', 'kejut', 'tumpeng', 'megawati', 'rakernas', 'lenteng', 'eawawzmqz', 'ukdfatdgye', 'iumcmgng', 'ojak', 'gualuf', 'poknd', 'jan', 'jzpk', 'vdhkq', 'udhy', 'nkbsd', 'zyuyeztsnj', 'qvj', 'csj', 'eda', 'qouq', 'geng', 'divideoin', 'tohok', 'yawavqkh', 'iedk', 'cwett', 'desa', 'deon', 'sreg', 'wgq', 'gusi', 'wdgnru', 'majuin', 'melehoy', 'eed', 'ltimor', 'rohani', 'clrwo', 'mcdwr', 'agjtkuwqj', 'vvwpmom', 'kesrimpet', 'finznvu', 'gpcg', 'pocong', 'kooty', 'ugetyks', 'nggihhh', 'few', 'dharmapala', 'lkgkinjvxi', 'changcuters', 'tonddipa', 'madebal', 'maghribnya', 'made', 'bigulnya', 'saklawase', 'tcmkctg', 'octania', 'jhuqylgpgl', 'angkuutttt', 'hace', 'fhiclwy', 'aedzwpsr', 'syadiah', 'dekatin', 'sdkdpjkuha', 'acaa', 'bfvjjeue', 'cemberut', 'hasto', 'kisruh', 'ngusilin', 'bkjvjf', 'adjiesanputro', 'keluarrr', 'pochongmeo', 'guzbnfw', 'nimbrung', 'keringetan', 'katun', 'engkau', 'fgs', 'smok', 'jsfni', 'dpb', 'desah', 'wkjzyali', 'lebakbulus', 'jaksel', 'pnjodrq', 'zqgaftwtiu', 'hqrycq', 'wghrgokb', 'zpp', 'hqb', 'wtjf', 'lcay', 'nuafvw', 'nct', 'ibk', 'fajd', 'genit', 'kgasm', 'official', 'nnhflcumlb', 'prfdfyozpb', 'ljeb', 'muhwwaskd', 'eumumrfu', 'legen', 'nira', 'berangan', 'hore', 'sihotang', 'moeka', 'jobnya', 'ratus', 'deepblackcoffee', 'iuj', 'analisamu', 'broken', 'hea', 'yando', 'piama', 'smile', 'twentyfirstof', 'dearmybearbunny', 'gasal', 'cli', 'vti', 'tjahjanto', 'zulkifli', 'what', 'fuck', 'sadm', 'taurh', 'purwo', 'bjzbhgoeyv', 'lobkavczvq', 'igeutwx', 'tombol', 'maharani', 'mrqrwen', 'vewseddjwe', 'untokmrulp', 'wji', 'ugsthi', 'flranel', 'geb', 'kakang', 'nb', 'kkzk', 'cenytha', 'cjlm', 'ardvnjdiwq', 'fgip', 'yoyi', 'cymmd', 'hzzfhqhak', 'pkk', 'wz', 'gbgnnzomlv', 'ouhbettqi', 'dznbrrydsx', 'rywbg', 'blok', 'aliptn', 'waprespun', 'wio', 'rypl', 'qsqgpvgosd', 'usdls', 'sgory', 'sujfeg', 'allahummagfirlahu', 'warhamhu', 'afihi', 'fuanhu', 'vdccc', 'blr', 'aifocwbqns', 'greysia', 'polii', 'raket', 'terimakasihgreysiapolii', 'oyjro', 'ulet', 'mansonacone', 'qlkwftlr', 'nyoss', 'lkdwfdijp', 'ham', 'masa', 'restaurant', 'jmusgq', 'ngawetkan', 'lokan', 'belut', 'nlksz', 'kjf', 'sdk', 'hairdryer', 'dimandiin', 'uockdqjabw', 'ognyveubkz', 'gmailcom', 'blauw', 'sebutsajakucing', 'vmn', 'kfeied', 'cfnjom', 'hdu', 'twitkustik', 'watados', 'anniversary', 'maut', 'kvwmgulknr', 'kari', 'anta', 'pinguin', 'bnysezkwj', 'awet', 'paru', 'rbn', 'yetqqk', 'yakiiiinnn', 'zqggl', 'dddv', 'hhrs', 'getp', 'jmy', 'rdsn', 'resto', 'mgg', 'ottuqb', 'evajd', 'togel', 'hap', 'permisiiii', 'vegan', 'gvy', 'cpty', 'mahonihalason', 'embuh', 'sonimsi', 'trmmftcsmz', 'wyyqfne', 'gvdi', 'gl', 'rsejb', 'rlm', 'pangeran', 'selimut', 'bantal', 'lflqp', 'kenneth', 'izrs', 'prs', 'celengan', 'dzcfpjt', 'dpo', 'twity', 'abhh', 'afq', 'food', 'yir', 'yqy', 'kkokhva', 'selip', 'dialek', 'logat', 'hiol', 'zjp', 'sincong', 'plz', 'rif', 'syh', 'soju', 'ojpu', 'jiran', 'cfcum', 'godv', 'diviralkan', 'edan', 'iff', 'viralkan', 'wajvf', 'vagv', 'gcj', 'ziwr', 'andre', 'lee', 'bcczh', 'siomay', 'bakpao', 'vdekijq', 'bympapi', 'hfis', 'vyhumrh', 'fpqzmbpokv', 'edo', 'vitamin', 'bed', 'rest', 'eowgo', 'paq', 'vhf', 'wyz', 'gulai', 'kalio', 'pdmerrvfhq', 'tjapoeng', 'aqum', 'prptl', 'tusuk', 'edtgztmcl', 'butir', 'penghianat', 'pyt', 'ax', 'grey', 'kenzi', 'cwdmi', 'contact', 'person', 'hihi', 'lyewbsgwha', 'yql', 'byd', 'elqbp', 'ausv', 'tlm', 'vibesnya', 'nqnl', 'dod', 'ndy', 'iiw', 'tubl', 'lyh', 'izubls', 'fam', 'stf', 'vvjcvi', 'afagfmtzns', 'kaiby', 'rdvyyo', 'zbp', 'amiir', 'qrg', 'aczj', 'zotdqvfi', 'jvvqingope', 'pey', 'neobna', 'elllll', 'dionysossh', 'grgrvyan', 'lonte', 'clgwh', 'mhecsad', 'dilobby', 'lobi', 'ukctbpf', 'venomest', 'iomrjlhr', 'tuanku', 'sdut', 'mobilitas', 'fmfvgew', 'komachiyama', 'pmjiwoz', 'harammm', 'ljyzjact', 'vorqr', 'zjchgnzjkz', 'ohdavn', 'kbdyt', 'komenin', 'jpwnetfjee', 'dagel', 'hasz', 'beloon', 'loreng', 'ipfhfkl', 'sembahyang', 'mikiiirrrr', 'ladjpisosw', 'widvc', 'lempok', 'alinea', 'sepi', 'copras', 'wury', 'bodynya', 'rhf', 'gpdjaiwphw', 'swastiastu', 'nyanggra', 'rahina', 'galungan', 'lan', 'kuningan', 'bknqkgq', 'ghfw', 'iav', 'jyqkrgtufn', 'ctmshf', 'dlz', 'hqof', 'hantu', 'aniaya', 'qodo', 'ore', 'ilak', 'inihawee', 'politeknik', 'aej', 'crueck', 'struhry', 'cndtbsavnd', 'mengepoi', 'jawafess', 'emilmarioo', 'ampo', 'uhcuzwuzb', 'nus', 'dunut', 'dahulu', 'hzfw', 'pudjiastuti', 'inhlovaop', 'ctte', 'etfrhwe', 'yicpcejmyo', 'ycvjli', 'kenclengan', 'waluyoiskandar', 'ngagumin', 'cenderamata', 'mamin', 'royal', 'suite', 'fuk', 'yajk', 'farm', 'ville', 'lesty', 'kejora', 'coli', 'avajdrs', 'jilat', 'install', 'pulsa', 'dangdut', 'iklanin', 'shoopee', 'sgrv', 'prdi', 'lalap', 'ndul', 'spiiillll', 'nnuqcf', 'jhx', 'ann', 'dkui', 'hdn', 'iy', 'odvuk', 'wtrb', 'odb', 'cepu', 'sandy', 'beken', 'ralat', 'ic', 'isddyurlwo', 'interpol', 'terbit', 'omfn', 'eqrienoanv', 'disubscribe', 'gayzujoci', 'yqhvwokkld', 'duta', 'felqvwbq', 'retiakrdlf', 'ueyfodw', 'copy', 'hanum', 'kuliah', 'duycztpzr', 'vcbmqc', 'usm', 'ncsg', 'vlzbg', 'wpctoirggv', 'orudagwytq', 'teguh', 'korjakbdg', 'yyrvr', 'fjjgnzpglx', 'aimray', 'ladang', 'iwi', 'dze', 'kvi', 'pmhsp', 'imhmtwx', 'dvctwqm', 'imhq', 'xt', 'ejflzh', 'lqunv', 'ryu', 'bicdvosb', 'prancis', 'sjzigfnhli', 'ttgyb', 'idqq', 'ccfcueoszx', 'tpoioa', 'mvo', 'kingmaker', 'lluarfnaz', 'thh', 'zzrulm', 'ie', 'jjzzphublr', 'dyacnuqbmr', 'bfipmlvgxr', 'rob', 'tagih', 'pluto', 'asteroid', 'planet', 'csiuld', 'fsjzj', 'cgk', 'fvowhec', 'rzyek', 'eefcvhpfue', 'btfocfw', 'biro', 'ahi', 'dba', 'wam', 'bjbj', 'bjbjnya', 'dwiokta', 'dzmcw', 'llyj', 'rrphvvkm', 'jdumot', 'hza', 'toilet', 'sandiaga', 'uno', 'sbhi', 'bk', 'empunya', 'yfs', 'vlf', 'hooraayyyy', 'vkyfrspjl', 'ismariki', 'dibionya', 'mukjizat', 'bgyccklgcc', 'yuz', 'jlozy', 'ryfunovkpo', 'qfn', 'zdcp', 'dgkjaus', 'susur', 'nejq', 'ubqvb', 'maujadiaku', 'lkvuaez', 'kc', 'erymel', 'cara', 'ze', 'fkw', 'gzobiydpj', 'azan', 'mewekkk', 'prhktaun', 'cvr', 'stoas', 'koordinasi', 'ihai', 'gedek', 'lqs', 'cae', 'vvlfrm', 'dysk', 'sar', 'wnlghh', 'qgh', 'peoyuhr', 'hjlbyn', 'jko', 'bonsai', 'sukulen', 'utkpaluv', 'heehh', 'mdd', 'ucmfmpjla', 'ioj', 'aukuc', 'sperma', 'fighting', 'rblytcsr', 'risoles', 'kedudukin', 'ata', 'heryidris', 'hboeviba', 'mamah', 'subhanahu', 'taala', 'atalia', 'nangeeessss', 'gtjrbdbqxa', 'catur', 'lrzykiuskp', 'pmtd', 'zkkzs', 'gahul', 'katon', 'bagaskara', 'bifimpgrfy', 'cmjso', 'mbloo', 'pep', 'ibcoqdobbe', 'uwkzz', 'igt', 'mkhe', 'oohqf', 'psbrckkudk', 'pororo', 'spesialis', 'ptqqr', 'senior', 'tokoh', 'ntt', 'situasi', 'fnzhojnpvv', 'ayyeee', 'kocok', 'uduk', 'nfmrny', 'fjzb', 'rzid', 'znvtzef', 'akak', 'kasep', 'bageur', 'oyuomnuuxj', 'bvnssscx', 'kuantitas', 'pnr', 'fiaiul', 'iumpthuo', 'zbw', 'capw', 'uhnzyg', 'yfr', 'lbn', 'gfq', 'vne', 'lsl', 'badai', 'yepp', 'kelek', 'tojeb', 'serep', 'hsziqqovnb', 'teknologi', 'elpa', 'bavfn', 'dqntgj', 'lizzy', 'lama', 'ehari', 'trakteeerrr', 'bauk', 'suap', 'fnsjmtft', 'dahsyat', 'ellrghw', 'cacingaaannn', 'zthe', 'ujoenfih', 'yipeee', 'hdnb', 'tiaso', 'jimbo', 'eqw', 'ftzon', 'nkjbirj', 'wthlihqdho', 'zdvqbjnvjz', 'sofa', 'switzerland', 'gazgz', 'boring', 'msqd', 'hqfi', 'mhhisl', 'kerucut', 'fbp', 'ndien', 'wjc', 'ukh', 'jjftnrd', 'oufygy', 'qtgsiur', 'ril', 'hijrah', 'ketwitter', 'goodrekening', 'karate', 'czlfayqal', 'qnetf', 'kentir', 'hsrfoorlei', 'katering', 'dinasti', 'epecbzspc', 'lffkfepre', 'liwet', 'ikon', 'vlluq', 'zqcit', 'rctf', 'anniiieeessss', 'dibuwanggg', 'hqmr', 'ro', 'mv', 'zqkr', 'olive', 'kepeyut', 'peyut', 'njiwofzncy', 'ej', 'pmoe', 'hqbvgqs', 'gaaasss', 'oalaaahhhh', 'tengkorak', 'ambruk', 'wfjy', 'hwb', 'ykt', 'grsql', 'oritmnkn', 'pinset', 'urrangawak', 'jonruahginting', 'lordcondet', 'disuspend', 'kokam', 'asekkk', 'pvynyg', 'tqp', 'hdegv', 'jnghtn', 'atta', 'ngehek', 'trotoar', 'wjpdnp', 'ciatt', 'aoo', 'tantang', 'sdt', 'aare', 'iaylahrkga', 'kuinalexu', 'befz', 'zupz', 'tauladan', 'fkhonavsby', 'ceg', 'qu', 'sxu', 'fghehzz', 'pedoman', 'buyaa', 'ispjt', 'fahll', 'zdcszgjy', 'vqdaob', 'jariah', 'bimlug', 'fjdec', 'olee', 'oleeeee', 'oleeeeeeeeeee', 'yeimcvk', 'hn', 'kunyah', 'pvjfy', 'nyeleweng', 'sampean', 'galah', 'gancu', 'gitukah', 'rapuh', 'dahan', 'rvv', 'kaba', 'imlo', 'wiihh', 'melinjo', 'gakusahdiet', 'vice', 'markisa', 'qwusuoan', 'smvapus', 'neenggg', 'jebol', 'ttjzan', 'ndr', 'kadalion', 'tqefrsg', 'rcya', 'gemoyyyyy', 'manyar', 'ciatylt', 'prbzee', 'nycrfizbfz', 'kttm', 'elo', 'siapa', 'bnptri', 'puyeng', 'kokonya', 'kupgowfoj', 'imajinasi', 'lennon', 'uysdfg', 'theofficialfmb', 'sandang', 'papan', 'qwp', 'gbla', 'dark', 'anger', 'ipzjno', 'qyc', 'mukbang', 'vasco', 'well', 'fungsi', 'utek', 'vidi', 'aldiano', 'skeqlgo', 'dimention', 'letoyy', 'hinyay', 'deanedfmfy', 'vyt', 'iyoooo', 'affairkah', 'bnnagus', 'teke', 'yeeekkhhh', 'njijiki', 'aset', 'oppa', 'korea', 'nmafcj', 'yusbc', 'yj', 'maklum', 'qh', 'dkx', 'ocd', 'rau', 'elz', 'dayatpiliang', 'monoton', 'gigiiiitttt', 'waaaaaaa', 'isep', 'choco', 'konsep', 'ajiiibbb', 'legend', 'ftfhs', 'bez', 'gesek', 'wjfmqhlzmf', 'oui', 'wrrvvd', 'mad', 'yiyxl', 'ejdmpyfznw', 'jomplang', 'palugada', 'sjqaee', 'amcm', 'hob', 'masok', 'kesave', 'stgp', 'boljug', 'haistn', 'uat', 'vda', 'mambi', 'kesusu', 'eqogveg', 'tgzd', 'wvfdhly', 'upati', 'antariksa', 'riuodgxl', 'crack', 'peer', 'ibe', 'ngecm', 'hendrik', 'kupiii', 'lakisolehah', 'lurahistana', 'sweetyoct', 'roob', 'ato', 'hokage', 'uiiw', 'feqn', 'pangkas', 'bulmatnya', 'lentik', 'uunoy', 'qemljte', 'quo', 'vadis', 'rhsgtpet', 'lihaaattt', 'lgrkpf', 'iuda', 'twsdsrbs', 'uyel', 'materi', 'rh', 'pljtuha', 'topik', 'cinehos', 'nadiem', 'pmp', 'kurikulum', 'lapak', 'ebaran', 'hnqacyn', 'baloqazn', 'fitz', 'kemigor', 'iqnckoemy', 'ngeramein', 'diplomatik', 'cfbke', 'mzx', 'harun', 'mzjai', 'upin', 'ipin', 'bcfrfpytoc', 'yusnsiiit', 'ivo', 'nilakreshna', 'pskl', 'nauo', 'heruimbriani', 'pleaselah', 'ulvzfwtnzs', 'instrospeksi', 'mem', 'ddtr', 'kesomad', 'inbzkq', 'mgu', 'qtjfk', 'tolerir', 'neraka', 'pceppjelxp', 'singaparna', 'fullbooked', 'tuyul', 'ancol', 'ktbfk', 'katak', 'tagk', 'wazje', 'dipipisin', 'lcdytuwcmm', 'fgl', 'kiwrlnfgb', 'bubarrr', 'yoyiifjlvz', 'adrun', 'govsingapore', 'leehsienloong', 'ketzfg', 'lim', 'bjgtmksmrn', 'santet', 'aaahhh', 'sdgf', 'jaminypd', 'hhn', 'jwyab', 'telkomindonesia', 'ybpi', 'eyg', 'minnie', 'ynwa', 'eskvco', 'zqn', 'pisau', 'breng', 'mtuisgph', 'jalanlurus', 'paan', 'sabaaarrr', 'oyennn', 'azbehddf', 'romantiiiissss', 'traktiiiirrrr', 'iiqw', 'harkitnas', 'harkitdri', 'fbihire', 'siagianbutet', 'oncjp', 'vgyjuqb', 'mdy', 'sobat', 'epld', 'flpjt', 'pzuspscge', 'kunyuk', 'pq', 'haikal', 'nanti', 'bwwnt', 'szjogqakmf', 'wc', 'sukrooooo', 'ooeee', 'ciaaaatttt', 'ghhs', 'vl', 'kumur', 'hkr', 'smth', 'cakra', 'blkstasiun', 'radenkiansayang', 'anooonyme', 'nyengsarain', 'vfn', 'vcboky', 'bani', 'dajjal', 'weeee', 'paspor', 'ysrbu', 'ex', 'ibnu', 'multazam', 'akhirat', 'duo', 'pandir', 'pariwisata', 'ncbnp', 'hsb', 'toleran', 'kelompok', 'intoleran', 'igjq', 'febvf', 'pulicinya', 'djixh', 'ssyeqvuo', 'yolmwww', 'selebriti', 'don', 'nn', 'unc', 'sereeemmm', 'eyjy', 'vzi', 'cuplik', 'release', 'esuowq', 'tnklcnpkiw', 'rwvw', 'enp', 'jerry', 'varshow', 'ent', 'detective', 'adventures', 'hpwwib', 'ebelum', 'adfsalhbsf', 'ryviubia', 'rezim', 'lh', 'avamu', 'dekaih', 'hotel', 'bhineka', 'tgtgyh', 'kbenaranhakiki', 'linkzcrosser', 'ezzesh', 'erlpuggc', 'hsa', 'nehl', 'theaaa', 'knis', 'biiq', 'dpbjprlflp', 'dayung', 'sammmaaaa', 'cjo', 'mhen', 'jyyoc', 'zznskc', 'thtzz', 'clmb', 'telusur', 'lorong', 'sketngzuz', 'tiup', 'mat', 'tomaaaaattt', 'somaaaadddd', 'urz', 'cekek', 'kintill', 'maaass', 'fpem', 'hnuynnb', 'mhthts', 'kaannn', 'tajiiirrr', 'dvb', 'wtgij', 'mo', 'wvvcc', 'tamat', 'dipusingin', 'qhrwzjwth', 'drunn', 'nastaknya', 'pgr', 'aysqhmao', 'ktjivijuv', 'jangkrik', 'miyabi', 'eeao', 'asurabaya', 'wyul', 'ngerikk', 'emoq', 'fn', 'czmwdbc', 'garanganwati', 'unjuk', 'poliandri', 'abvigl', 'mvhr', 'mbakyu', 'purnama', 'lampion', 'kawgmrh', 'terenyuh', 'dengan', 'obpuu', 'close', 'keponakan', 'lbduetd', 'ngedate', 'diabisin', 'plek', 'ketiplek', 'prosesi', 'dpgfn', 'hpws', 'auhkp', 'nopgi', 'rwr', 'itt', 'pdsi', 'yqtojyqj', 'ingkar', 'nurani', 'qnaqki', 'binqgitgzf', 'dimassage', 'laperlah', 'qinunmmnud', 'riddle', 'sammisoh', 'bebaasss', 'fight', 'kircon', 'hfo', 'ase', 'gyewqpa', 'fwv', 'srvue', 'fisnm', 'zuks', 'knnd', 'bleaching', 'siimamr', 'cakwe', 'kojeog', 'hsfl', 'uniihzpyxd', 'singgung', 'zrdl', 'dtdeukevfi', 'mayora', 'fmhmb', 'gtuq', 'mayoranya', 'vhleiqb', 'nomplok', 'gyewqpsb', 'oucuqt', 'sbt', 'investasi', 'bvifd', 'hueekkhhh', 'sepong', 'nularin', 'lfa', 'qad', 'lyg', 'ubt', 'teaa', 'hcndajvl', 'ahlulqohwah', 'kursus', 'hiyaaakkk', 'smts', 'olulq', 'cosplay', 'kaann', 'hrfni', 'stres', 'stressnya', 'usapin', 'tambarapoltak', 'flkjgqc', 'erik', 'convomf', 'diterusin', 'kecubung', 'serunipuspaalam', 'jgjqfgf', 'uiz', 'kcpvqsaagy', 'ahrgg', 'wlc', 'vera', 'vpggz', 'atraksi', 'sukhoi', 'cobra', 'iamkt', 'jumawa', 'selang', 'ocle', 'freddyarjuna', 'bygyj', 'fvifg', 'edun', 'fwpiae', 'otvpn', 'aibsdnwugj', 'markotop', 'addgruc', 'hbfpttomb', 'mecs', 'jta', 'jeng', 'jrengggg', 'tgazze', 'vlr', 'btsvvpzt', 'ljnn', 'yslos', 'wguz', 'qlco', 'ctskpb', 'jncm', 'qdif', 'grwvmis', 'banten', 'babel', 'sulbar', 'gorontalo', 'une', 'fkje', 'ak', 'kencana', 'ungu', 'oper', 'ale', 'pacal', 'karedokleunca', 'ezcs', 'ihzl', 'gaesss', 'qpkeyskpup', 'krypto', 'monopoli', 'cudg', 'qfiat', 'oshiii', 'kominfo', 'fyx', 'awilbozpzn', 'ngeseks', 'aduankonten', 'parno', 'smrs', 'dweml', 'tsubasa', 'suit', 'andriekaryadi', 'ketawaaaaa', 'gos', 'varietas', 'zjivun', 'hanjeli', 'ycezf', 'sempil', 'ajnt', 'wgd', 'hnzrkqi', 'dawcbdhc', 'paopkir', 'kakekhalal', 'ivmfm', 'nkkv', 'kitik', 'sbmptnfess', 'charge', 'basic', 'aiqi', 'buntoroch', 'klitiiihhh', 'ceraaahhh', 'tintin', 'pw', 'arkobumen', 'ihfc', 'hfdghj', 'dea', 'jwzeh', 'rchimonk', 'tetes', 'rkoiuv', 'zaskiaforever', 'amri', 'njbdijmzci', 'kaing', 'qsksqh', 'htb', 'racist', 'gmhmrii', 'guys', 'gkffuwjiv', 'sinting', 'setrip', 'fstkv', 'tips', 'nrurofmlj', 'nangkap', 'jerat', 'dimaem', 'assiaapp', 'mej', 'ikannn', 'idghmtu', 'hosana', 'balgrrq', 'jowoshitpos', 'hnwylp', 'agd', 'come', 'try', 'rrv', 'vloafy', 'edcaskh', 'fjo', 'matheusjimi', 'sektor', 'zsdsmlgs', 'quqlvzrkvu', 'uibjb', 'qasvly', 'gaaa', 'nojymiziju', 'siv', 'nline', 'druuunnn', 'ffnon', 'qvlq', 'bhklhqlkhu', 'zjgsmohin', 'sgb', 'gahomvugda', 'kqojiplk', 'tazj', 'rekomended', 'salaamitusalam', 'chz', 'lsgq', 'doooong', 'miskomunikasi', 'lbdjdnvb', 'cqn', 'wtpyhx', 'periiiihhhyanti', 'nqtj', 'diterjemahin', 'nmjwzdq', 'nyopetnya', 'mitos', 'hiaf', 'kostannya', 'goyenggnya', 'goyengg', 'ewang', 'rangkap', 'nyuwun', 'size', 'ketik', 'lhzzjh', 'tegak', 'spgduyty', 'gmzmvwwc', 'kostan', 'persis', 'qpa', 'asl', 'ygfsva', 'zmv', 'riang', 'sumbu', 'tbuzxh', 'tmp', 'cikutra', 'nongkrong', 'indekos', 'garuk', 'mfqs', 'gerah', 'cingur', 'gvijbcwic', 'resepsionis', 'petshop', 'care', 'gagak', 'rimang', 'tiansasongko', 'giy', 'ldgy', 'skvkatj', 'whoaaaaa', 'rahasiyakkkk', 'hckegdggaa', 'cviaciwsix', 'kilogram', 'dbzybpfjvf', 'ql', 'dznvq', 'virus', 'gmcwrrh', 'tywf', 'pewa', 'ninqwnbwvr', 'wooiii', 'fucek', 'kwfhi', 'sstqj', 'erye', 'ellykoro', 'bapakepaki', 'elprogresif', 'enduhdiya', 'nrs', 'nugrohoabc', 'siregar', 'elang', 'mahenzah', 'ebe', 'ganzo', 'eddhy', 'abby', 'urvmyqmncd', 'alieocom', 'soerya', 'huqd', 'kfdfi', 'cjsvey', 'mrpev', 'angelique', 'gjf', 'uvjskuw', 'dorokdok', 'maeman', 'iklodtif', 'crcgw', 'cqlepock', 'nbz', 'juwc', 'qysypiay', 'ppsigb', 'sugjd', 'dapur', 'hidang', 'jcibiydfuo', 'deebiarinaja', 'adrianiriche', 'vita', 'avp', 'chickenwin', 'indahbbd', 'bblessedchim', 'tehkitaaja', 'lebaranb', 'psyaiize', 'ahucyasjzg', 'sinden', 'tzz', 'qsdzni', 'qrjp', 'ypw', 'uhfmqurugc', 'pzseafvga', 'val', 'egri', 'temlennya', 'eyvgvt', 'dianafithras', 'boaqcfgkfe', 'bgfu', 'fpt', 'kerikil', 'iiisz', 'aye', 'oen', 'uicx', 'ihox', 'eled', 'ebcwjb', 'wpd', 'mpk', 'mowjjx', 'sisiwit', 'pdd', 'oqd', 'vldft', 'doazwzbg', 'ozpyb', 'oqia', 'uep', 'mudikkk', 'wscnhhs', 'fzlveeuopk', 'pjf', 'husnul', 'khotimah', 'erat', 'rheomwevhw', 'pinterest', 'mdx', 'bkngoid', 'djalil', 'sofyan', 'jzhzsnc', 'fzlzfn', 'dilemparin', 'iw', 'ocrenfheev', 'wzu', 'svlk', 'nohhh', 'bregas', 'iofclr', 'cgf', 'jgs', 'jb', 'afn', 'wfok', 'gaharrr', 'racing', 'qulvtvzqow', 'sopvy', 'evyhddvpj', 'mubarak', 'srlylazev', 'energen', 'oatmeal', 'oolvhs', 'jurnalis', 'liput', 'qsot', 'yeaakhhh', 'ibh', 'puyqowthjy', 'kolektor', 'cuannya', 'eas', 'kendel', 'jawanya', 'elbttb', 'antriiii', 'nananinu', 'sicewek', 'unsur', 'mokat', 'ptkqo', 'gtlqjk', 'ggql', 'cith', 'vtssq', 'vqll', 'bugcg', 'ujr', 'emuuz', 'pek', 'teuing', 'ademmm', 'gwy', 'uohw', 'ginbsazjgp', 'kalangliwoo', 'ephraym', 'georgevanmars', 'kgyhy', 'mahathir', 'fhthc', 'dehidrasi', 'tlytjtjq', 'lihatin', 'bmmr', 'fchfnkjrad', 'kebuli', 'forever', 'ydiutmgiq', 'mcp', 'qgqyi', 'papat', 'bid', 'ahkan', 'quq', 'vsuflj', 'ggo', 'djjzlleu', 'lihsj', 'zbvc', 'mustekeph', 'mgfslgz', 'wpqcbcaqiu', 'titi', 'fcyfhrfbxu', 'safety', 'ool', 'awpjk', 'ocgb', 'lcz', 'nys', 'pendividia', 'baliho', 'siga', 'enya', 'legislatif', 'modaro', 'vw', 'abe', 'udrriz', 'damba', 'ylrur', 'mz', 'ggfajl', 'mahaaalll', 'rzki', 'udaaahhh', 'staqj', 'caiiirrr', 'abztc', 'tnfwbfknl', 'diendorse', 'uatan', 'musk', 'tadsj', 'nyosor', 'pkzmmg', 'vfajqybzao', 'ajiiibbbb', 'cje', 'vjydcvt', 'ispvt', 'hyiv', 'twwkwg', 'jzy', 'peetanda', 'trsk', 'antuk', 'mosa', 'ibl', 'jpzvg', 'bryan', 'bithgadh', 'pzsrlxk', 'vhhfl', 'salon', 'adiiiinnnnnn', 'qedogqn', 'curly', 'ahpl', 'wsqqp', 'oqhtk', 'imbhc', 'lpucwvkmct', 'qol', 'jmjwz', 'nicznbkjb', 'hayromdzza', 'wadudu', 'ahun', 'ketek', 'jzt', 'kwigvs', 'pqcmmotois', 'hchfim', 'menindaklanjuti', 'jalesveva', 'jayamahe', 'ekd', 'aohy', 'ngelunjak', 'geplak', 'jgplcsdhjx', 'kzpain', 'juru', 'malabar', 'qml', 'sugih', 'harta', 'digjaya', 'ono', 'kepsek', 'vcnkjsadgh', 'pancar', 'mahasewanya', 'cfte', 'eetd', 'rljau', 'dbv', 'rphvmnpisg', 'godluc', 'aue', 'onsdbs', 'wvi', 'feyri', 'qze', 'wakilin', 'dorong', 'angkut', 'mogok', 'blghg', 'pk', 'dar', 'szy', 'qbrh', 'repotnasi', 'atg', 'ekt', 'cookies', 'lwd', 'wqy', 'lvubwt', 'ypylbv', 'kilgj', 'icrrznpijh', 'ipt', 'jevvo', 'power', 'laba', 'ibbfz', 'pkpq', 'vze', 'olek', 'kandang', 'sjfiza', 'maj', 'ciqgzc', 'rireevk', 'lcs', 'serviks', 'edselwza', 'kemenkesri', 'yza', 'uoqb', 'oor', 'itv', 'maliiiinggg', 'peyek', 'direktur', 'indrasari', 'wisnu', 'wardhana', 'cjm', 'kalzya', 'ofin', 'wldb', 'jdp', 'gyvc', 'collin', 'batigoal', 'zupjuu', 'nep', 'etnacwld', 'hbtmpbug', 'tayjqmvo', 'lirboyo', 'luber', 'mdcn', 'goodday', 'cappucino', 'pwv', 'ezne', 'jti', 'tvshy', 'coks', 'maf', 'batal', 'hgj', 'ntkbio', 'jgljwmkzxg', 'ntx', 'trauma', 'lllvr', 'bukaaaannn', 'lfjpi', 'sadis', 'ppiqtgcakm', 'personal', 'amunusantara', 'vjrc', 'tgu', 'popeye', 'onh', 'zvbz', 'keluh', 'sulobt', 'nfnetvhs', 'enggang', 'satwa', 'endemik', 'hnuer', 'dfhffnwru', 'kirana', 'rgt', 'syd', 'nitha', 'cngna', 'crwr', 'vshueuvp', 'bjy', 'ieuhik', 'fznjf', 'ghwsdmycsp', 'qir', 'fuq', 'hsia', 'sec', 'wduvgk', 'hgmffs', 'udeehhh', 'wcdqvy', 'vsj', 'muhsc', 'lcubmvw', 'hvokrkqgvs', 'piatu', 'autopsi', 'pingsan', 'visum', 'dila', 'ldu', 'jmtf', 'lprliloc', 'ncm', 'heaven', 'gspqcp', 'pqkmokb', 'ymp', 'hayati', 'ymwvsseovs', 'qokmhr', 'dddvqe', 'zdh', 'ztgqqm', 'uwi', 'dskwajz', 'hsdg', 'hldgvimgmz', 'bokep', 'kzydfgj', 'sof', 'mlnqcd', 'memang', 'kosbbyx', 'pale', 'mering', 'izluwag', 'yuhp', 'timba', 'knawg', 'nhdj', 'igw', 'zuiq', 'rmyej', 'szli', 'sda', 'jmhzfyz', 'ctputdr', 'umfjxq', 'havana', 'orssymogtj', 'resources', 'departement', 'vewltm', 'baj', 'pcrc', 'pgdjvvhoqj', 'wibawa', 'rusuh', 'hujygiuzxm', 'pfltc', 'hirjqvmnao', 'shz', 'whz', 'fvz', 'ixt', 'kijang', 'jjn', 'ecsryi', 'lff', 'ebmqt', 'mckn', 'skger', 'ampas', 'scrub', 'jogyaka', 'ugt', 'gup', 'kais', 'vhyvfb', 'telapak', 'lrr', 'ogt', 'huovowdie', 'tintawvu', 'bvmawjrwnc', 'nmtotcqcjc', 'gzfa', 'kxa', 'belanagarakita', 'lapang', 'gengsi', 'ngelamar', 'hiayev', 'sodong', 'evhb', 'lisa', 'buuukkk', 'balaassss', 'kmeq', 'lwj', 'investor', 'promosi', 'krnksqexw', 'mrv', 'kjwzpylfil', 'qdme', 'huhuy', 'hgjnlcgz', 'ytpmhnomn', 'soeryaroyce', 'urai', 'hoydavv', 'chpqpnwbch', 'kfbp', 'wndgyi', 'dgzi', 'ratap', 'enmt', 'owss', 'ebornhc', 'generas', 'srfh', 'keluar', 'qicpipca', 'ganas', 'olbc', 'eloooo', 'qzbfe', 'iua', 'meloww', 'judes', 'ajol', 'bmr', 'gay', 'korlap', 'krucuknya', 'semu', 'powf', 'ponakan', 'ijkpwtinv', 'dini', 'huwpqnk', 'rajuk', 'sekesel', 'awy', 'kitabersamajokowi', 'ajwliyostr', 'aougq', 'swjw', 'sgn', 'ehfc', 'lc', 'etrymip', 'yegzvqpm', 'biruscooter', 'pykmzh', 'nicko', 'vup', 'itpuyko', 'ras', 'qnu', 'nnjs', 'franks', 'ytjre', 'dinda', 'irene', 'wcpx', 'ajkj', 'rigzb', 'ngiyep', 'zhpzezeqeu', 'pepo', 'pmoblqsg', 'lga', 'ppfhunqmg', 'iia', 'vpth', 'cingak', 'celinguk', 'idg', 'cicak', 'boros', 'brqqsmyo', 'perak', 'ujqpmgp', 'szdefdr', 'zqga', 'zawjvctyo', 'falling', 'ngebet', 'jdkhllwsvx', 'vfpgenclc', 'toss', 'qme', 'slq', 'fqhpl', 'svv', 'sukuk', 'qwe', 'vyyafn', 'isffg', 'basket', 'brooklyn', 'nets', 'kyrie', 'irving', 'rbh', 'rrjz', 'genteng', 'mancur', 'honeynya', 'oranggg', 'cijzfmw', 'wongndesasugih', 'imaginasi', 'ehev', 'preketek', 'niko', 'grammarnya', 'becus', 'ingus', 'sdqekjlcwz', 'dithread', 'vknk', 'riyadh', 'luuurr', 'alfmanroe', 'idola', 'qan', 'marsudi', 'nqstr', 'mrp', 'cfkvyl', 'ngejelasin', 'cvy', 'dlctq', 'arief', 'ivvyel', 'pclu', 'uttk', 'tuuuhh', 'uli', 'hgehaw', 'ayemoems', 'libas', 'kletikan', 'zobveg', 'qywf', 'blo', 'selai', 'nenasnya', 'banyaaakk', 'nastarnya', 'tekun', 'tali', 'jfc', 'monde', 'goodtime', 'oreo', 'ueit', 'mvv', 'ylli', 'kokoh', 'oimsw', 'hfufimyffr', 'jjvlwvqmor', 'lysrgigjq', 'zhcbt', 'qkpd', 'ibicewkbxq', 'vitivy', 'vfq', 'aduw', 'ngl', 'orpajelspp', 'igedomzbue', 'biia', 'wbad', 'wgkds', 'isabella', 'dora', 'jhf', 'esdutkurvb', 'got', 'mamamnya', 'mpyfgdg', 'akdhg', 'ncls', 'iqflj', 'astagfirullah', 'ricek', 'ketidaknyamanan', 'mando', 'jangaaannn', 'daviddarmawan', 'htab', 'simsi', 'wiwitan', 'lmspvogm', 'khyba', 'cjl', 'djampi', 'jampi', 'fsgy', 'jvdhi', 'ndfr', 'zdaxy', 'kdscqwatm', 'qnqs', 'tampuk', 'maruf', 'dilipatgandakan', 'ldri', 'oz', 'mrqe', 'edbc', 'mkek', 'iz', 'huag', 'pcbkqoc', 'tak', 'cdmi', 'rose', 'lvtb', 'zlelt', 'dengki', 'hembus', 'maruk', 'gnao', 'bfehk', 'impi', 'ppupj', 'xp', 'dwqgrrpvjw', 'zui', 'suarim', 'itqaq', 'knk', 'udk', 'wqriiufb', 'tien', 'bohaynya', 'tefqtt', 'mpw', 'pither', 'zlybfmc', 'twzvmxv', 'psbff', 'jamblang', 'mks', 'onlyonesia', 'rztbt', 'ccay', 'izajm', 'wziz', 'jaemcityonz', 'jioenh', 'epqja', 'riinillc', 'caesar', 'zipponya', 'fjlolm', 'simpatisan', 'uni', 'bliamst', 'wdvnkwgln', 'loncatin', 'gjymghu', 'regenerasi', 'wlb', 'cfkzog', 'aspirasi', 'zwc', 'uvwwk', 'qkjfvewc', 'kwu', 'vyl', 'marsudirini', 'boommmm', 'cpccjd', 'bauuukkk', 'genus', 'dicerorhinus', 'suy', 'true', 'mikehalikadam', 'aryuma', 'afif', 'lmg', 'ualwaysbemyside', 'desakusurga', 'ardikuncoro', 'mmt', 'putiandamdewi', 'otonk', 'herdynaih', 'ngkongroses', 'rizkir', 'madani', 'yayuafiatin', 'ekarangkuti', 'raynoldsurbakti', 'waraslahnkri', 'lvrphljl', 'mamakuu', 'yurqao', 'octbvv', 'cpygm', 'tiwz', 'here', 'qdlhrorlcx', 'mhnrzehafg', 'fhlr', 'fckhp', 'asai', 'boku', 'fiyae', 'kidrun', 'sssttt', 'lebat', 'botk', 'jsqjw', 'blondo', 'endap', 'galendo', 'pendeta', 'jhchskfg', 'angbt', 'epjt', 'sdepcuczkl', 'keratin', 'sywl', 'rovc', 'course', 'gmhea', 'hgsbrs', 'dauphine', 'aqsaj', 'emaknya', 'mezpvrzi', 'fnpjzhmch', 'mamakuuu', 'world', 'rhino', 'kambas', 'andaru', 'populasi', 'sly', 'aga', 'pecel', 'reinkarnasi', 'evmsccio', 'gultom', 'nickname', 'lupus', 'kolega', 'iakjmhn', 'hvbcy', 'gdmhca', 'szc', 'bvjqm', 'qccb', 'jea', 'tepuk', 'wakanda', 'nyentil', 'sowan', 'mpnuybbtfu', 'kapitikan', 'senncoin', 'srstihwg', 'galaaaakkk', 'mcksg', 'kreweng', 'goyenggg', 'parut', 'nyil', 'kenyil', 'gurih', 'gkus', 'nomor', 'woeeee', 'lapeeer', 'gedeee', 'gabvyvycwb', 'uvsw', 'thmyr', 'agomrjsttf', 'vslvr', 'pedih', 'gygz', 'cahari', 'fjvoujirhd', 'idi', 'bobrok', 'yzlhom', 'ksw', 'bcahn', 'igit', 'langityang', 'roomans', 'marcel', 'mantari', 'dudiksusanto', 'pipietnaomy', 'nahro', 'supriselah', 'ycniny', 'jawat', 'vyzmy', 'teroris', 'yew', 'popon', 'bedah', 'pasien', 'tmg', 'rjlsom', 'wheiewt', 'hujung', 'trbrj', 'vmjpv', 'bol', 'kzwizq', 'ennh', 'dlizw', 'sedooott', 'merana', 'caq', 'hmfsz', 'kni', 'yiwd', 'redain', 'nzwa', 'wadsp', 'toosss', 'mtbtzot', 'arzfoy', 'iep', 'korek', 'wlkteez', 'shyhkk', 'dlsr', 'mtbq', 'fvfyvbvpf', 'kiwil', 'gviqzqpyzf', 'whiteee', 'darma', 'siwa', 'brahma', 'naqjhcqvs', 'lapaaarrrr', 'bpfxn', 'gjjr', 'ngcjf', 'uwvc', 'uargn', 'receh', 'jomblohhh', 'kzs', 'garut', 'cikuray', 'charlie', 'ipni', 'cbnis', 'dg', 'panggilin', 'arq', 'zjpcb', 'yerg', 'qdljiit', 'konenmu', 'eqemrh', 'said', 'our', 'grup', 'jjr', 'avkyl', 'oucv', 'gdmvk', 'shbzsmmc', 'ystadz', 'khalifah', 'jelee', 'vzppju', 'fcybb', 'ja', 'saji', 'kygqkyo', 'yihaaaa', 'zvmfaf', 'nyd', 'rawusl', 'bangzul', 'nali', 'yfvvvk', 'eld', 'ohv', 'isss', 'pinggang', 'btqwd', 'ngehibur', 'omnivora', 'qjfs', 'circle', 'badja', 'kontaminasi', 'aostcoyhdz', 'hdpqfna', 'swki', 'ngupiii', 'dun', 'kktmesr', 'diculung', 'vgzaekciw', 'rqkqlsrdty', 'qlknffwbkl', 'svfvmy', 'ngalem', 'lyqc', 'rismvrep', 'zkdyhljasq', 'naqbw', 'lnnc', 'qtpx', 'chandra', 'dvoqke', 'lsd', 'rjw', 'lzb', 'spgqyda', 'zsgpizp', 'yjjmg', 'qwh', 'yhvx', 'again', 'bldczvdy', 'lfr', 'andrea', 'hirata', 'nguasai', 'tapanuli', 'maukaaannn', 'obzuiq', 'marptrubo', 'negosiator', 'yz', 'nfaiw', 'epmfic', 'faqirah', 'rempeyek', 'df', 'oywgioq', 'jqapq', 'gegar', 'insiden', 'hfz', 'muw', 'fhnc', 'ogrbp', 'tataaanggg', 'salmantatang', 'hayooooo', 'ngumpetin', 'tzutrdj', 'auto', 'nyft', 'vndlq', 'kaaanggg', 'hzjltdcnwu', 'ayaaamm', 'ojiw', 'tanaka', 'yym', 'iswuem', 'citq', 'usqka', 'baahhh', 'country', 'kjfuzf', 'hula', 'coffelatte', 'sosis', 'rebung', 'leg', 'ylshimq', 'purnawirawan', 'kdwg', 'ikai', 'apaannn', 'betharia', 'sonata', 'dzmpsj', 'anjayyy', 'fhrd', 'szp', 'rqymcvljhf', 'indrawati', 'hnq', 'aosq', 'comblang', 'erot', 'smc', 'vzb', 'etvm', 'iavc', 'fhggzk', 'hbk', 'tgey', 'job', 'poa', 'belit', 'vjqhtgi', 'yqpicseoms', 'gfendywijaya', 'alternatif', 'lesu', 'ngebludak', 'ganpres', 'lycbs', 'toanya', 'pernah', 'sst', 'khzppne', 'keruh', 'qirpp', 'damu', 'amsvvbv', 'tsqwr', 'kanjengradn', 'indigo', 'ramal', 'tarot', 'fee', 'hswejsax', 'blejekin', 'acmywmtb', 'kkhbbjq', 'sepv', 'nptoe', 'ztiyqft', 'gribt', 'badu', 'kreoy', 'sosr', 'pieterpitojo', 'digit', 'profesi', 'bisikin', 'gfut', 'foos', 'briof', 'mfwuzjd', 'kyoo', 'dmmj', 'gbvng', 'kqn', 'auqcck', 'songak', 'tl', 'zj', 'ngeblokir', 'zarrazettira', 'fahira', 'idris', 'opma', 'stmzo', 'wjpr', 'eqnegbibre', 'drjzriwvpq', 'drjzriembi', 'eyang', 'aoaehkf', 'raden', 'wulandari', 'blc', 'rsyi', 'jvm', 'zcs', 'rosedah', 'aavqpu', 'riak', 'syirik', 'umcc', 'bnrfbawa', 'oopuhdbztc', 'qkwot', 'really', 'man', 'mvlmps', 'vtb', 'dbw', 'lwppk', 'roybqijdu', 'nyaksiin', 'srryiupl', 'mclpywfzqg', 'pajero', 'jroil', 'cpw', 'umvi', 'fvpfj', 'bpz', 'wldd', 'dewandaru', 'glepj', 'sjo', 'bop', 'mzrluj', 'qdfpgwqh', 'tqrekspvo', 'jamet', 'intrasekolah', 'tengik', 'cuihhh', 'byilzvbj', 'itmr', 'fhcjbgsobo', 'qcp', 'atwsujs', 'cczgfu', 'twx', 'upan', 'sampeu', 'katingal', 'alan', 'ratna', 'sarumpaet', 'mrzaycp', 'jonan', 'wop', 'cantum', 'aca', 'cos', 'kapur', 'qcu', 'ozvmtx', 'margaret', 'thatcher', 'mfvrqpx', 'drpc', 'oix', 'ussr', 'bdrnvs', 'oosogwd', 'senggang', 'beumkfvc', 'ayjlomc', 'jucp', 'llzlyes', 'uuoz', 'vmueo', 'fqvr', 'rowuhaue', 'buramkaaaannn', 'lgdz', 'burek', 'ngegoreng', 'ammf', 'grc', 'gkgtyi', 'invetaris', 'setneg', 'gutuom', 'kty', 'vccdi', 'mmokdhses', 'ciumin', 'oct', 'cuh', 'pv', 'uvre', 'fbnlalhi', 'ersatarema', 'herman', 'ngusap', 'paha', 'lain', 'pjnfv', 'nyusut', 'chhryjpqwj', 'kasur', 'tjrcouy', 'gitar', 'oudtgzw', 'dlpgnlfk', 'ghhzkuraou', 'lcsn', 'kdt', 'tinjau', 'cjagz', 'aoajpifkyv', 'cemceman', 'nyuburin', 'virgin', 'coconut', 'mukim', 'eo', 'zqqalfym', 'glm', 'sejhva', 'ururo', 'bnt', 'sedak', 'msszkt', 'udr', 'wiz', 'wmpqtiqyb', 'sdw', 'yzdfpd', 'od', 'lnvsyfcn', 'yovmpjesh', 'malemnya', 'zjoze', 'bow', 'teri', 'yogapras', 'lekma', 'bungadesa', 'bungkustukang', 'yqc', 'bennyharmanid', 'apaaaa', 'vzh', 'qust', 'loclwbz', 'rlaj', 'wigwq', 'simbolik', 'melambang', 'aotlbugy', 'jejeolmu', 'bakat', 'idealis', 'mentega', 'lumer', 'steril', 'sprhtaskmj', 'tedeng', 'aling', 'wtej', 'wkqndo', 'baheula', 'betawi', 'rupa', 'kayu', 'secang', 'bandrek', 'ruhmhqo', 'pletok', 'sekendi', 'balikpapan', 'kilometer', 'ycrsnr', 'mpiddz', 'kebo', 'haqlp', 'logo', 'ngurusnya', 'kas', 'lebaaarrr', 'nblwlqvxt', 'kaeeee', 'blunder', 'tpyy', 'nsb', 'ditwit', 'peka', 'qdgcydgpu', 'camer', 'dibagiin', 'cbecjoj', 'ngelapak', 'mbill', 'sdnj', 'ulmy', 'efkincw', 'berfollowers', 'lepaasss', 'varian', 'ceklek', 'kucurin', 'jadiiii', 'minyooooaaaakkkk', 'jiktqg', 'icy', 'engineer', 'kapling', 'sorga', 'kulmiap', 'bangajee', 'syiar', 'hindar', 'oduek', 'esx', 'tahnik', 'blebek', 'hiw', 'mkzcw', 'multi', 'tafsir', 'agamkupie', 'usak', 'setemlen', 'otbihydt', 'phncqeyun', 'ewnetfre', 'hmlsunauaq', 'panik', 'mcn', 'zjgaohi', 'rebut', 'zebra', 'lumping', 'tnfnli', 'asg', 'cpdhtrczbc', 'lpkfq', 'vrocjdaijz', 'hzjfva', 'kpnazu', 'gzg', 'kabooorrr', 'npvv', 'wdfpw', 'yayffp', 'morin', 'produksi', 'lawas', 'bvnw', 'ihsmfpm', 'retro', 'pitung', 'pakein', 'pmb', 'ave', 'igcg', 'emojinya', 'obszvuem', 'jet', 'mwmuockmvq', 'inspirasi', 'zdshb', 'master', 'breakfast', 'rus', 'jilid', 'azprw', 'wzg', 'poo', 'susantono', 'crdo', 'ebzb', 'ngadrun', 'grd', 'jzdvwv', 'rrakk', 'nmtp', 'gituuuu', 'fqibbwyto', 'yaiiii', 'sariawan', 'uorwteqqvi', 'cwlzwlv', 'zkjgcgn', 'dnu', 'gdvz', 'let', 'barak', 'butunpkajh', 'grcd', 'hjygyhocsd', 'nyjzygpslu', 'nany', 'sjr', 'bbiuq', 'ddnjkmi', 'fwdzlmk', 'bzvnox', 'uecmztlwnf', 'wanya', 'caaikqj', 'organization', 'development', 'aabmzu', 'rzd', 'siska', 'enr', 'nyenyak', 'covfczcsxs', 'yqnatcvevz', 'qudnvhcrxe', 'snbaullrxl', 'aceeehhh', 'zina', 'qbr', 'yitb', 'skincarean', 'wwtnfenzg', 'sgh', 'kmfdcyy', 'towaaa', 'nkjf', 'nampung', 'rirm', 'bisri', 'mawon', 'dcp', 'jhmng', 'nogmqhyux', 'aunslmhvo', 'ewrva', 'iwcs', 'und', 'kewdfh', 'jih', 'uacm', 'ocpk', 'ksrs', 'ydlgbnehzt', 'bak', 'ubquhhhka', 'jbiyab', 'eth', 'lloireyir', 'gz', 'glecser', 'gilang', 'teocddofuj', 'jyjzg', 'uls', 'ork', 'glqflytjj', 'alay', 'berisik', 'waq', 'jlg', 'ditwitmu', 'bwsyfwn', 'ebcu', 'sonsih', 'elok', 'kalang', 'ernivy', 'screenshoot', 'tentang', 'amandemen', 'ernest', 'swbfodyhew', 'tisvnjvzm', 'agdeuvew', 'gemetar', 'ahjjfnrvec', 'mknratbuvf', 'ranikancana', 'euk', 'jetl', 'viigdpopqk', 'fwyyegc', 'tgqrkrib', 'ndeeerrr', 'nojskhajz', 'opo', 'jurqpyo', 'damkar', 'kwwc', 'rvff', 'muhtcbrspx', 'abur', 'keec', 'mistik', 'wangsit', 'sulaiman', 'bin', 'daud', 'zjrqims', 'sentuh', 'fdggludro', 'btwbkin', 'vqjjrmy', 'tvof', 'vfsui', 'hawla', 'quwatta', 'bilah', 'sedot', 'pfbv', 'uqwgopnjc', 'kata', 'setop', 'eaaw', 'dursasana', 'angka', 'nfalq', 'semut', 'jvfuovtklg', 'radikul', 'hipti', 'jreengg', 'selektif', 'karyawannya', 'lhaaa', 'jhajhauwlu', 'ezysaow', 'crocodile', 'keper', 'rwb', 'lnip', 'fiqih', 'volume', 'trzn', 'cpig', 'ngelindungi', 'ldfiq', 'gusmen', 'tihqnjbbue', 'bliu', 'america', 'gkkejf', 'veqbiecp', 'uylalr', 'bjh', 'charisshaf', 'kghqhka', 'pakenya', 'vjksfo', 'rien', 'iomarco', 'wamphjyy', 'cimil', 'pangku', 'syedih', 'cimilnya', 'wiihhh', 'quqslc', 'vev', 'gunawan', 'simpatik', 'ofv', 'ncap', 'hmdqzvugvf', 'ituuuu', 'zaid', 'anuuuu', 'fwe', 'nyepi', 'maret', 'ambal', 'warsa', 'ngancemnya', 'nv', 'sggjeokjq', 'qzydiueyr', 'ntwsg', 'inmodr', 'bentarrr', 'kalimat', 'ompong', 'nhekrvvx', 'haris', 'ghuitjz', 'traktir', 'blender', 'cobeh', 'ozwbpvao', 'ugu', 'tnqb', 'fotografi', 'medali', 'tiongkok', 'pundak', 'ofvgdxh', 'uhoais', 'zhns', 'semayam', 'nadi', 'rmulgl', 'wmphh', 'uyvfcmmmpj', 'legenda', 'malin', 'kundang', 'dnfb', 'usir', 'flfuwf', 'hao', 'arhywc', 'dukun', 'lrbzd', 'yzdw', 'iapun', 'vbf', 'mezmr', 'dbll', 'dud', 'zainuddin', 'soni', 'disyarinda', 'fenomena', 'qrb', 'dct', 'nurabadibakso', 'motek', 'oikl', 'lmlj', 'tenikkwwinn', 'hnjrw', 'popok', 'nyonyo', 'mqlj', 'lonjak', 'operasional', 'aoli', 'ohj', 'kil', 'zvne', 'mjoe', 'hainpodrc', 'lci', 'jemur', 'meong', 'degbavuxr', 'barcode', 'cwtdusn', 'ost', 'ggnmetp', 'lx', 'ken', 'gmv', 'jcirna', 'abien', 'cn', 'evhgp', 'wleogltj', 'ygjl', 'zpgzd', 'eupe', 'ibggrjrzfw', 'tpwn', 'zrv', 'mszwtzey', 'wpgjwoosnq', 'kedelai', 'olnphfi', 'dijabanin', 'wwze', 'lmc', 'kbb', 'surantep', 'gwc', 'auntyuni', 'lnicpgy', 'soem', 'aswantgardapati', 'pusung', 'berang', 'tikus', 'siput', 'barna', 'tenggorok', 'jdzj', 'serigala', 'kakaktua', 'pinggul', 'kenari', 'kuping', 'paruh', 'cttqn', 'jagat', 'nejiidauyt', 'jambu', 'jamaika', 'vknnwlpwa', 'rvr', 'ycn', 'rnrjb', 'mzmel', 'sgfnhjcny', 'semrawood', 'uugwwa', 'wlw', 'yhvcmmujz', 'among', 'zenrs', 'rmz', 'ueps', 'wiwikherma', 'taufik', 'ypge', 'erkl', 'keliling', 'bangkot', 'nyoman', 'nua', 'nasionalisme', 'puja', 'iensao', 'hzn', 'kcmz', 'fde', 'vylcmqsh', 'ufk', 'ccn', 'kucluk', 'kvqwtrerz', 'rekening', 'qfggbvydfl', 'molen', 'ngaduk', 'qhnsrmstn', 'inspeksi', 'dadak', 'mbro', 'cdb', 'jfj', 'murni', 'pnn', 'neqywdbvw', 'rlgq', 'ecvbppsfeu', 'ehemnya', 'tiwul', 'gtfte', 'cekrek', 'wadons', 'siu', 'cyetfklkv', 'ssin', 'wiybziiwxn', 'airlines', 'ngurah', 'wisman', 'aqkpg', 'serambi', 'ustadznya', 'wooyyy', 'kombes', 'bun', 'wgbdn', 'solution', 'klzlfzzxj', 'hcpllsfb', 'hurycir', 'zhkewwb', 'triha', 'lvey', 'lwf', 'goaoznm', 'ulam', 'wcai', 'pms', 'pjljc', 'byucyd', 'byu', 'iwee', 'bvf', 'edukasi', 'ebas', 'auq', 'haaaa', 'gpaym', 'rgd', 'obia', 'gpnya', 'zbdbfvfg', 'ppo', 'sav', 'liem', 'grhu', 'cpfzc', 'bgyw', 'kopar', 'nokvywfug', 'pzeqoct', 'zcqczzlwp', 'nozitlsjx', 'antipati', 'kiue', 'dorce', 'ysdvqdw', 'flu', 'herd', 'imunitas', 'hrhkvg', 'uthweiopm', 'loop', 'loopnya', 'weqez', 'jswv', 'googoogagawaaah', 'gaboh', 'gesw', 'podo', 'nawasena', 'jsrwmq', 'pegdq', 'ziuvctmiys', 'natural', 'killer', 'wkhdrpm', 'dodol', 'gaiq', 'jhz', 'tumbang', 'ttsfck', 'shivh', 'kepompong', 'wvvahpyare', 'tessa', 'travel', 'magic', 'trewellu', 'ka', 'tissuenya', 'heqa', 'crhgs', 'neodanyza', 'lijppcpu', 'unesco', 'lknfsiq', 'sumbawa', 'whzm', 'fido', 'nunggunya', 'hapsun', 'degdegan', 'boc', 'ynwo', 'pfkbhbwc', 'terkadang', 'uijrbdlfb', 'atkc', 'rini', 'rvvtflkab', 'qitbocy', 'tfvzvd', 'czzk', 'jr', 'puppynya', 'uyrlzc', 'anyaannya', 'jzedw', 'vdahinilmp', 'kiwinnn', 'ohhh', 'know', 'snjy', 'gelora', 'enddb', 'hyn', 'birudedebuan', 'gusmusgusmu', 'curutonline', 'mandalikatest', 'crjqgvoso', 'ngevideoin', 'cp', 'wwoh', 'bbjv', 'bybybat', 'umrah', 'wyt', 'pvd', 'ijuhvh', 'mhl', 'yff', 'zlg', 'pdpj', 'dhrqr', 'wdupemd', 'iae', 'kki', 'cahszc', 'senoqhao', 'belaga', 'balut', 'ekstrem', 'filipina', 'vcluhmwfrp', 'ajeng', 'mucu', 'ozrig', 'gslf', 'bgpw', 'tamak', 'qmfs', 'lgbic', 'kp', 'msnamdopn', 'uytoic', 'urw', 'muas', 'yssecbncu', 'kentang', 'dctggw', 'lipsticknya', 'gyhr', 'waduk', 'komersial', 'bimbing', 'pictnya', 'gt', 'tmm', 'faktawadas', 'epwamrbwyi', 'andesit', 'muhoq', 'taliwang', 'plecing', 'dinieuzobi', 'tvmycgdj', 'trek', 'urun', 'rembuk', 'geber', 'wbr', 'tznfmmkcrd', 'uubgp', 'ivonehall', 'alhevdkbu', 'uswiy', 'svxf', 'bahu', 'jhcpowzrld', 'mszya', 'gdie', 'ulwdserriw', 'cabang', 'zpohbcs', 'vrridersacademy', 'mooneygroup', 'ducaticorse', 'ajbtujp', 'siaga', 'tqb', 'qorjki', 'ejow', 'emy', 'pwyerpf', 'sikapiwadasdenganwaras', 'div', 'hoedchytbo', 'dahlia', 'zpv', 'kmhv', 'cyyp', 'pasundan', 'sangkuriang', 'lelsidt', 'mediasi', 'ros', 'jsu', 'jember', 'aty', 'smkz', 'vvh', 'ugv', 'ranah', 'pure', 'qjnikyfd', 'qjdq', 'fyw', 'tun', 'tuang', 'mfgcgfrm', 'bule', 'kzhvkqwrr', 'billray', 'marcmarquez', 'energi', 'dpwbp', 'indieluvie', 'indie', 'pcibgsfhs', 'jud', 'zwwiorybdg', 'supel', 'hhhh', 'delta', 'nooh', 'dimusuhin', 'ehszbw', 'ier', 'uuc', 'hzjn', 'zkvcg', 'fog', 'bkmekew', 'anwar', 'tahy', 'yexy', 'rrw', 'ngerajuknya', 'fcc', 'lghe', 'xv', 'viwllqc', 'hlcqhvmoh', 'dydmdfgjez', 'bungfrankz', 'ylvgtmlgdo', 'nieelll', 'difb', 'ztpb', 'agsr', 'twz', 'combi', 'dimodif', 'dendam', 'lcip', 'aggg', 'cop', 'isaol', 'fhbnsl', 'juv', 'iwmof', 'tzgviyu', 'vyiuwyiqo', 'yfo', 'rotc', 'pmawl', 'gecko', 'pundung', 'cuti', 'niiihhh', 'kronologis', 'sajam', 'vnsma', 'puspen', 'chaos', 'goatlu', 'xo', 'zkg', 'evkn', 'frfke', 'culik', 'yeeeee', 'yowr', 'udhdz', 'aquarius', 'lgiu', 'kpx', 'kbu', 'lsruvi', 'kuj', 'optdr', 'wehhl', 'suv', 'jclqmgwzkn', 'uhuuuukkk', 'hafb', 'ycv', 'ndhs', 'hyo', 'ognubcob', 'dvldjvb', 'arb', 'ihpp', 'njycwh', 'hijabers', 'hwwkmjbzxz', 'pening', 'kotqrqejov', 'ivyqqiqr', 'hzckoila', 'modycl', 'morvdkf', 'jlnl', 'ofuj', 'mgsb', 'tolserpyow', 'ee', 'stay', 'ojbk', 'rovqwp', 'sbe', 'bnhdu', 'hdcj', 'zrkfep', 'boikat', 'diriin', 'minimarket', 'qdrr', 'kfbil', 'yfwielpq', 'umar', 'weaozohk', 'singa', 'buv', 'lwpczv', 'tom', 'kstpl', 'gym', 'dupzo', 'saw', 'kerap', 'ehjavecc', 'tj', 'hhpqd', 'agrbtluysl', 'touringnya', 'silluet', 'izjk', 'vrko', 'ef', 'ydk', 'imlek', 'lambat', 'qdseiikezt', 'jlkf', 'syz', 'qiqjricjpo', 'cjf', 'cani', 'rugpaalvjd', 'dz', 'bopn', 'yhmw', 'iuwd', 'cbtke', 'wyvyyru', 'nampolin', 'rcl', 'yrr', 'sps', 'pha', 'hd', 'vcgjzgajy', 'beliyaw', 'ricuh', 'irdom', 'menkeunya', 'kolaps', 'nfl', 'bbajxz', 'wenang', 'uhuy', 'lzfpbl', 'balige', 'hzg', 'zmlncun', 'kng', 'vtf', 'ut', 'noyf', 'fnk', 'jawara', 'hwa', 'nangeeess', 'dahvsnbdna', 'cs', 'elli', 'qgdzfdgtua', 'pulanggg', 'nsuqvz', 'trqbroaz', 'kayao', 'ynuw', 'ruti', 'wntspl', 'oops', 'lhcgl', 'znlh', 'morr', 'eklbx', 'singkarak', 'ygavlglvk', 'qm', 'yjgb', 'sla', 'kjl', 'yzqzwjnjsi', 'wwqpujuu', 'ikc', 'fu', 'rphx', 'ecuz', 'hwtvw', 'komandan', 'dejcfzffhz', 'tytydnya', 'jdmbl', 'baret', 'siangg', 'ncrest', 'fqeslf', 'yyu', 'ntkji', 'lvfhfh', 'zboalyp', 'awiligar', 'wvjkod', 'evq', 'naaa', 'apvhzmoicf', 'fyt', 'snoj', 'qtmad', 'ynpc', 'aktivis', 'nslu', 'ijzfsaujud', 'mangkok', 'yyup', 'zun', 'bnes', 'pettyckbp', 'peleset', 'lisan', 'bima', 'auda', 'atorz', 'qazi', 'jgfj', 'zzlqcggzev', 'yiiihaaa', 'jhusgejae', 'risl', 'akqdc', 'aic', 'enteng', 'melulu', 'ziarah', 'yerusalem', 'vatikan', 'louders', 'prioritas', 'qshz', 'gbgbg', 'hnurwahid', 'kuaci', 'uta', 'okcfts', 'qnzuflzc', 'rizky', 'kuag', 'cptmks', 'uv', 'vpe', 'ygk', 'yofamericas', 'indian', 'fymgjpliel', 'auiejluwws', 'muf', 'cuufoyng', 'wvsp', 'dordr', 'cdc', 'wsqkhgkcdz', 'kolszsdocy', 'david', 'cudt', 'nby', 'cdhqgfc', 'bpwatoeh', 'veny', 'zhndl', 'gejrot', 'ahfauitkj', 'endry', 'luw', 'gop', 'jjqvom', 'ckb', 'uyoj', 'cez', 'jfcguzrhwg', 'asritv', 'eqrgpa', 'snw', 'bijaksana', 'gfa', 'zln', 'corwywbr', 'mendung', 'tanpo', 'jesmwmf', 'jdshyzbiv', 'kecut', 'berma', 'ijtatsjkxj', 'nkt', 'qvo', 'hampa', 'chill', 'oes', 'pcl', 'pckpuj', 'fig', 'telepon', 'ifnl', 'ablsw', 'qjygsiezxx', 'cipok', 'uzdiqqhdn', 'kuwattt', 'kmnqcw', 'rkj', 'ruskandarasep', 'prihatin', 'agungsu', 'udncaenun', 'jahit', 'digigitin', 'yjqik', 'mybzpv', 'ljg', 'kj', 'sdc', 'gsle', 'biso', 'tchdm', 'lszm', 'qmnb', 'bjdagfi', 'fresh', 'hhgcje', 'qbt', 'qahnzhup', 'ngileran', 'sfcb', 'hp', 'ceiy', 'chnl', 'mvnvn', 'treatment', 'clboca', 'qgwyu', 'menandatangani', 'mmbwlntuhj', 'kwcwhfipbx', 'reserse', 'gyukgai', 'ladystay', 'wsg', 'pfvz', 'tcz', 'uiaa', 'coy', 'ysjseh', 'psf', 'jtr', 'maura', 'magnalia', 'madyaratri', 'arifin', 'mahyong', 'laksono', 'requem', 'dmowvddlsh', 'senda', 'gurau', 'belaka', 'stvtn', 'ig', 'eau', 'zin', 'rebah', 'bminya', 'iwokfa', 'lud', 'gzhuf', 'libo', 'cpdj', 'jmmdrurnlr', 'crvrn', 'etnj', 'junita', 'gbaafdzdow', 'avmm', 'ajjhzwjj', 'biihhtjzmf', 'jdzz', 'cna', 'tangkapedymulyadi', 'jsojjos', 'semangaatt', 'dicobain', 'ywcegyclen', 'entu', 'ikah', 'ciut', 'holaaa', 'faf', 'dapilnya', 'apie', 'zyqah', 'hoodie', 'kemeja', 'hk', 'knpio', 'iur', 'hvia', 'fqayzx', 'collapse', 'djcimbfn', 'benah', 'training', 'rbmyd', 'rro', 'onkh', 'erczhals', 'oppso', 'kfjezuq', 'kspgoid', 'cyffkdidxk', 'lkjwojx', 'design', 'apdp', 'god', 'bless', 'gsmopbgbmp', 'bhyrdsyupf', 'anyut', 'weataniwjc', 'zpqn', 'gagas', 'realisasi', 'umcbsjpq', 'ybuwkpyp', 'kblw', 'nrzwyzwe', 'ujfvy', 'dgp', 'fyzdjs', 'kencang', 'statis', 'nderr', 'sbrujoa', 'jacket', 'cus', 'opunaeouiv', 'cuitanland', 'rffpvs', 'mutj', 'qzz', 'palestina', 'ahjtyamsie', 'ongkos', 'vlyyithiaw', 'prbjgyolp', 'inpakpahan', 'pqccz', 'vsr', 'edf', 'oaj', 'qooey', 'bik', 'aplwwcj', 'peri', 'yvniym', 'remas', 'rampas', 'dcphhflo', 'lelep', 'fickricad', 'traca', 'ljk', 'doyw', 'uqe', 'nebtnjtgi', 'klrsoz', 'tkrwtv', 'jted', 'wssny', 'vsy', 'sirsak', 'kofvni', 'itzkb', 'mqp', 'iicc', 'catet', 'dbvuupwd', 'bweqmj', 'vwu', 'njcaqec', 'iwkof', 'werfbo', 'rcjaijeu', 'konghucugl', 'romoooo', 'mualaaafff', 'dijadiiin', 'kwetiau', 'ztyob', 'lviamaya', 'meriaaanggg', 'qgt', 'ruws', 'dedimulyadi', 'les', 'mlwou', 'orrv', 'rclkfavzze', 'barra', 'mbz', 'suspend', 'asar', 'poziirucaz', 'yirhak', 'jpe', 'kepedean', 'cteok', 'empet', 'uvanmp', 'duet', 'rhoma', 'irama', 'jek', 'zpeh', 'sjeoehsrvv', 'azv', 'jlbo', 'mauuunggg', 'qqzkqszrfg', 'ahaiii', 'dahlan', 'clash', 'gnwt', 'zfu', 'kisar', 'sembako', 'cizjugli', 'yayasan', 'evwdnmn', 'lemessss', 'shaayyy', 'nurehrq', 'lautze', 'ggtv', 'arsitektur', 'kaevsmqsxc', 'lasys', 'eier', 'zhr', 'liyvv', 'lontang', 'lantung', 'mghbe', 'nusantarab', 'gfshfu', 'tanya', 'disepe', 'pzzd', 'tqecjyutcx', 'vjmti', 'fyge', 'tengku', 'gembosin', 'lefltmbxy', 'sek', 'jsbrvedbos', 'pkaf', 'klbzv', 'miarhnqdar', 'fanatik', 'dolphino', 'npmgz', 'asshiaaappp', 'hpchjjx', 'okftcn', 'sutan', 'riska', 'tenaga', 'nfn', 'oobj', 'jelasss', 'urqfrae', 'bqq', 'siichs', 'mlreznhq', 'ykcul', 'ehlfp', 'ghdav', 'dgfs', 'qdq', 'bendahara', 'dddotvafy', 'yogagariskeras', 'owspcvbtiu', 'timne', 'ewzvvbdhwo', 'deg', 'nbpw', 'mmts', 'yejgefda', 'tam', 'sfhdz', 'merdekaa', 'johan', 'eyn', 'gcw', 'zavtssvuwn', 'jiyd', 'hnhs', 'lakon', 'penandatanganan', 'underpass', 'joglo', 'ganda', 'kalioso', 'kyfttwttcs', 'ovd', 'kwf', 'arjuno', 'ireng', 'tangkal', 'sirkelan', 'drlushmea', 'smadnnnsmr', 'arv', 'mqbalqhovr', 'gzmj', 'lsw', 'burunggg', 'ezfw', 'sepele', 'iuzyqfcl', 'hajjah', 'gsmsgy', 'giveawayhost', 'vel', 'kzcshfqhwx', 'byji', 'wzldw', 'whhq', 'surup', 'reog', 'nqr', 'wpweahmcht', 'padi', 'rekrut', 'skill', 'pengaruh', 'nyeleneh', 'thfvq', 'trqn', 'zpgzjz', 'ila', 'wiwiedsuharyadi', 'nonamaya', 'timmymalachi', 'noe', 'roelz', 'talas', 'dipic', 'ph', 'nfpkamr', 'mesem', 'pvr', 'iqy', 'ivzs', 'stevy', 'pabfn', 'yebiul', 'mtsyyfgee', 'dungus', 'elyqdnkp', 'untstvbtaf', 'fasih', 'ambisi', 'melintir', 'bahlul', 'ngebelanya', 'qqbvrvbtag', 'tyzaqp', 'jedocl', 'lmwows', 'taaadddaaa', 'dildo', 'ughgscz', 'ionkzqkhxs', 'alamin', 'nafsu', 'seleksi', 'uup', 'wnrsebcv', 'spot', 'swafoto', 'kenaliiinn', 'jkz', 'ykgidfruxo', 'gvdnve', 'gebrak', 'ngipang', 'fatmawati', 'semanggi', 'komplit', 'iwgqtrsiqn', 'dicariin', 'pese', 'abis', 'logistik', 'tuba', 'ubedilah', 'htz', 'uoeg', 'vfnehcti', 'kamu', 'kepada', 'qqv', 'wh', 'minannas', 'srptbi', 'jfiajowege', 'tsunami', 'akiba', 'vid', 'tolg', 'vzeksev', 'ubpwmbejlw', 'koyak', 'lzctnmdc', 'drastis', 'mauiheyv', 'morinblue', 'ifr', 'ditag', 'vinvj', 'uqki', 'onpoyfm', 'intoleransi', 'fmavvctgbq', 'ldrc', 'dpubx', 'iyd', 'grx', 'gugur', 'aebk', 'hvjxt', 'zhpqwd', 'hfctenskaz', 'pikul', 'ttncs', 'vrezd', 'profonline', 'sentjoko', 'mandarin', 'kenallll', 'ystrdhrc', 'maahhh', 'ubuipobowk', 'ziu', 'hgqr', 'astaga', 'okllghfza', 'rantau', 'pinak', 'culek', 'hanjenifd', 'jasminee', 'ifoiq', 'lucusekaliini', 'hni', 'vzhgq', 'kci', 'suster', 'ubaqkeswah', 'rlwdwcbct', 'wlupkflus', 'geura', 'wmn', 'gauull', 'jajal', 'pwp', 'fvs', 'pbzukomd', 'ciherang', 'honje', 'nyai', 'valid', 'azskkhdzg', 'hisyam', 'foazq', 'nzjtktdzxo', 'idiihh', 'cgwkllssj', 'ca', 'rmk', 'bqc', 'keyo', 'tyflh', 'arkvjzpbq', 'aialv', 'tpnc', 'kit', 'zthili', 'oyob', 'gcf', 'fang', 'sheng', 'nazar', 'ydzudcl', 'uzsbf', 'kangeennn', 'utjsluij', 'vqsr', 'kntfc', 'berka', 'ngratz', 'efgzzrkton', 'akurat', 'bjsoqtj', 'sujatmiko', 'ybu', 'gwick', 'yydnwtyi', 'mutualanku', 'frater', 'ling', 'fknyh', 'bqrf', 'meliacoffee', 'permata', 'wkjdh', 'sborgmhl', 'jykdtn', 'fwb', 'pzp', 'ubed', 'hyang', 'widhi', 'wasa', 'qrwe', 'aisss', 'rahasiyak', 'bongkar', 'eqv', 'owr', 'wqjahlg', 'heeiii', 'kqwdwbsvaq', 'rrr', 'qwdf', 'dikenalin', 'vzofe', 'utsf', 'cwg', 'okpydh', 'td', 'vvnxd', 'mbtzgp', 'tyl', 'rs', 'fjcd', 'damaaaiiii', 'hdd', 'czl', 'dvkk', 'tuntut', 'jaksa', 'kebiri', 'kimia', 'jelasinlaahhh', 'maa', 'chapter', 'herry', 'cbq', 'santun', 'qwfi', 'uiv', 'cintada', 'hvq', 'hvvr', 'sesajen', 'rgn', 'hongpa', 'iid', 'qja', 'fuj', 'dyfat', 'asz', 'mqhdnpjaky', 'waalaikummussalam', 'fzmrvtp', 'hdvfbfsosz', 'auietl', 'ejbb', 'sarana', 'kejungkel', 'corong', 'buayawan', 'cicakwan', 'enatv', 'dikiiiitt', 'benjol', 'raih', 'fahrizal', 'ygcvm', 'ketok', 'tvsjgebi', 'ebkeqkn', 'ganesha', 'bibir', 'tengger', 'kuyeagu', 'ferdinan', 'hutahaean', 'cing', 'cong', 'ytyio', 'kse', 'ommisgk', 'hszaaorehv', 'action', 'pifbwo', 'ygmqnty', 'jkch', 'pkbjwooo', 'mitaaa', 'qrupejoo', 'cnnhw', 'dnlcvaq', 'mgiloybwy', 'venny', 'pqso', 'wpgpf', 'wuiihh', 'fqh', 'rambutan', 'mio', 'rdix', 'perfect', 'mudal', 'slukatan', 'wonosobo', 'bdwypwn', 'ujar', 'wvbpuyruig', 'cbgi', 'tmpaijo', 'qibnus', 'ahkyarsaharudin', 'teori', 'cdm', 'iirpdm', 'nsiozdspgp', 'penjagadapur', 'horor', 'ihvzbuybwz', 'fahmiherbal', 'phltqjvzmf', 'ymffcjdry', 'teofani', 'erhnfbmp', 'jnotobotosongo', 'kentongan', 'rntretr', 'oansj', 'blenduk', 'dujwl', 'awnm', 'oioe', 'milala', 'vpbnicvfj', 'feat', 'noah', 'cpgej', 'jphj', 'runding', 'qhabvyi', 'worpzi', 'wsq', 'catut', 'qke', 'sara', 'serok', 'nag', 'vzuvur', 'vpvebzn', 'egz', 'meodd', 'indonesiabaikbaiksaja', 'bflwccy', 'syahwat', 'ngumpat', 'quigocuyin', 'hfjlp', 'karier', 'shalika', 'jpib', 'miau', 'wl', 'piyo', 'npqav', 'lozdycjpat', 'pasak', 'malang', 'alkatiri', 'gosong', 'wic', 'evwcyt', 'kelaaarrr', 'vjusluspv', 'uhd', 'qyfoj', 'diajengemy', 'zw', 'aroma', 'sjh', 'eaomm', 'gita', 'zniy', 'miv', 'pbk', 'wee', 'hopindvo', 'hhhow', 'hzub', 'sze', 'vysi', 'tdwkb', 'vftj', 'ngy', 'bring', 'ovylnwv', 'uumvntsqdd', 'sel', 'foraminifera', 'ntgupdv', 'praktik', 'rmevgdmbr', 'yaaammm', 'qklka', 'bky', 'novi', 'iuwctiyqor', 'eqfe', 'ocztnoop', 'hgasa', 'fngv', 'diltcwbu', 'gsuwzhufn', 'qbreszqjxg', 'ovckgw', 'ztm', 'pqiku', 'abadglm', 'sizmh', 'rqj', 'fyylq', 'oebkebtkjm', 'jlhior', 'rel', 'sef', 'pazuvmkhbe', 'wmkkbwmln', 'psikologi', 'varkbwisuj', 'tacpsau', 'gepuk', 'hy', 'hmsjm', 'vjmc', 'rebutaaannn', 'wahnambah', 'slzl', 'asp', 'gunting', 'grobogan', 'jvjsclnptm', 'pakel', 'embacang', 'laksamana', 'puun', 'osuyjg', 'vymkq', 'verlis', 'nkcbqdqd', 'vpq', 'sgpmg', 'ftopkp', 'sakura', 'kemas', 'wlfw', 'acc', 'bulrrd', 'sdl', 'jbr', 'sungganteng', 'waaww', 'wwpogtnilh', 'avzrzhh', 'poer', 'pcu', 'llu', 'hwdbiejvft', 'wkvseq', 'syahnaz', 'kibul', 'kafeerrr', 'dir', 'uutqi', 'rbqrcvjefr', 'romhkmmpnx', 'uztoqu', 'wxe', 'ngebosenin', 'mvy', 'jtzizi', 'how', 'feel', 'abah', 'polripresisi', 'jokrs', 'lwre', 'yakult', 'ton', 'bodylotion', 'balur', 'wmaobete', 'ulmqlg', 'atuhlaahhh', 'iuwkwyud', 'asq', 'drc', 'mentang', 'israel', 'tatih', 'fufgh', 'lfcfcn', 'diaaa', 'oso', 'osycnu', 'flfch', 'inqueibw', 'gentle', 'aug', 'sriredjeki', 'bdoqz', 'mrsrachelin', 'hurrykorn', 'proaktif', 'wdz', 'ujaf', 'dmjwgze', 'sjbsyrsiju', 'hlv', 'dp', 'qknpr', 'krawuk', 'amwidyou', 'ezkisuyanto', 'jiojimmy', 'sudjiwotedjo', 'kickandyshow', 'ndorokakung', 'jiiqs', 'akq', 'rjj', 'wvcdkq', 'hmrzdt', 'phzncd', 'fja', 'anytfmcjll', 'mnp', 'trcze', 'fagtng', 'argumen', 'ijh', 'daqki', 'uri', 'lainna', 'kribo', 'bhnmgtgb', 'inap', 'homestay', 'kebut', 'mlipir', 'uylhz', 'husein', 'baagil', 'vuzekzg', 'sense', 'yossi', 'meriam', 'bellina', 'kuktyu', 'ffsumnme', 'postingan', 'gbelq', 'ellesse', 'april', 'ede', 'sio', 'iobyhfpdgd', 'segi', 'mcj', 'marak', 'ketidakpuasan', 'vgr', 'whi', 'zaoog', 'gcz', 'lpw', 'medio', 'mkogp', 'qsm', 'yf', 'tff', 'zwjf', 'ircmwl', 'cwnddkke', 'kekurangpercayaan', 'hrwjs', 'ckw', 'ucrll', 'dhuskku', 'bwgnuozdpw', 'muuffff', 'ljndgdisos', 'zaka', 'shintaeyong', 'jatrrhequz', 'sigapmembangunnegeri', 'dczvt', 'mengsedih', 'alpzkhudjk', 'gsppcj', 'spdafjast', 'lyuwa', 'qzrf', 'telfon', 'wwhqgy', 'putnya', 'ccw', 'trloppw', 'msctz', 'hangus', 'syannaz', 'pmzc', 'hag', 'tragedi', 'cilok', 'yypfffadb', 'jaiqzhdlb', 'knhehf', 'resik', 'swas', 'hiruc', 'vot', 'ndtchm', 'bwaanbyz', 'avjlohdv', 'cwovfkuug', 'timnas', 'nonzjwtqzg', 'cntq', 'qpno', 'industri', 'ayem', 'vndjwwfi', 'ykgs', 'pzufj', 'nhfpysjx', 'gong', 'osabd', 'rusyaidiahmad', 'kodomo', 'zmr', 'fvt', 'sniydsmf', 'ninjacir', 'tajir', 'kadona', 'nyanggakeun', 'jjemfei', 'erggkumo', 'ricky', 'wrdkiuy', 'lq', 'iihhh', 'rqg', 'tjiaz']\n"
     ]
    }
   ],
   "source": [
    "tdf['Tweet'] = tdf['Tweet'].apply(preprocess)\n",
    "tdf['Tweet'].value_counts()\n",
    "\n",
    "# Remove emoji\n",
    "\n",
    "tdf['Tweet'] = tdf['Tweet'].apply(lambda x: emoji.replace_emoji(x, ''))\n",
    "tdf['Tweet']\n",
    "\n",
    "# Remove unnecessary twitter existing substring and last broken substring\n",
    "\n",
    "tdf['Tweet'] = tdf['Tweet'].str.replace('hyperte', ' ')\n",
    "tdf['Tweet'] = tdf['Tweet'].str.replace('transfer', ' ')\n",
    "tdf['Tweet'] = tdf['Tweet'].str.replace('protocol', ' ')\n",
    "tdf['Tweet'] = tdf['Tweet'].str.replace('over', ' ')\n",
    "tdf['Tweet'] = tdf['Tweet'].str.replace('secure', ' ')\n",
    "tdf['Tweet'] = tdf['Tweet'].str.replace('socket', ' ')\n",
    "tdf['Tweet'] = tdf['Tweet'].str.replace('layer', ' ')\n",
    "tdf['Tweet'] = tdf['Tweet'].str.replace('t co', ' ')\n",
    "tdf['Tweet'] = tdf['Tweet'].str.replace('yperte', ' ')\n",
    "tdf['Tweet'] = tdf['Tweet'].str.replace('srite', ' ')\n",
    "tdf['Tweet'] = tdf['Tweet'].str.replace('ype e', ' ')\n",
    "\n",
    "corpus = tdf['Tweet'].values\n",
    "word_list = [word for tweet in corpus for word in tweet.split(' ')]\n",
    "word_count = Counter(word_list)\n",
    "least_common_word_list = [word for word, freq in word_count.items() if freq < 2]\n",
    "print(least_common_word_list)\n",
    "tdf['Tweet'] = tdf['Tweet'].apply(remove_least_occurence_word)\n",
    "\n",
    "tdf['Tweet'] = tdf['Tweet'].str.strip()"
   ]
  },
  {
   "cell_type": "code",
   "execution_count": 187,
   "metadata": {},
   "outputs": [
    {
     "data": {
      "text/plain": [
       "(5918, 7)"
      ]
     },
     "execution_count": 187,
     "metadata": {},
     "output_type": "execute_result"
    }
   ],
   "source": [
    "tdf = tdf[(tdf['Tweet'] != '')]\n",
    "tdf = tdf.dropna()\n",
    "tdf.shape"
   ]
  },
  {
   "cell_type": "code",
   "execution_count": 188,
   "metadata": {},
   "outputs": [
    {
     "data": {
      "text/plain": [
       "0    5246\n",
       "1     305\n",
       "Name: HS_Gender, dtype: int64"
      ]
     },
     "execution_count": 188,
     "metadata": {},
     "output_type": "execute_result"
    }
   ],
   "source": [
    "df[df['HS'] == 1]['HS_Gender'].value_counts()"
   ]
  },
  {
   "cell_type": "code",
   "execution_count": 189,
   "metadata": {},
   "outputs": [
    {
     "data": {
      "text/plain": [
       "1    3566\n",
       "0    1985\n",
       "Name: HS_Individual, dtype: int64"
      ]
     },
     "execution_count": 189,
     "metadata": {},
     "output_type": "execute_result"
    }
   ],
   "source": [
    "df[df['HS'] == 1]['HS_Individual'].value_counts()"
   ]
  },
  {
   "cell_type": "code",
   "execution_count": 190,
   "metadata": {},
   "outputs": [
    {
     "data": {
      "text/plain": [
       "0    3566\n",
       "1    1985\n",
       "Name: HS_Group, dtype: int64"
      ]
     },
     "execution_count": 190,
     "metadata": {},
     "output_type": "execute_result"
    }
   ],
   "source": [
    "df[df['HS'] == 1]['HS_Group'].value_counts()"
   ]
  },
  {
   "cell_type": "code",
   "execution_count": 191,
   "metadata": {},
   "outputs": [
    {
     "name": "stderr",
     "output_type": "stream",
     "text": [
      "c:\\Anaconda\\lib\\site-packages\\sklearn\\linear_model\\_logistic.py:458: ConvergenceWarning: lbfgs failed to converge (status=1):\n",
      "STOP: TOTAL NO. of ITERATIONS REACHED LIMIT.\n",
      "\n",
      "Increase the number of iterations (max_iter) or scale the data as shown in:\n",
      "    https://scikit-learn.org/stable/modules/preprocessing.html\n",
      "Please also refer to the documentation for alternative solver options:\n",
      "    https://scikit-learn.org/stable/modules/linear_model.html#logistic-regression\n",
      "  n_iter_i = _check_optimize_result(\n"
     ]
    }
   ],
   "source": [
    "# Predict for HS\n",
    "new_first_tdf = tdf\n",
    "\n",
    "X_train = df['Tweet']\n",
    "X_test = tdf['Tweet']\n",
    "\n",
    "pipe = Pipeline([\n",
    "        ('vect', TfidfVectorizer()),\n",
    "        ('tf', TfidfTransformer()),\n",
    "        ('clf', clf)\n",
    "    ])\n",
    "\n",
    "pipe.fit(X_train, df['HS'].values)\n",
    "y_pred = pipe.predict(X_test)\n",
    "\n",
    "new_first_tdf['HS'] = y_pred\n"
   ]
  },
  {
   "cell_type": "code",
   "execution_count": 192,
   "metadata": {},
   "outputs": [],
   "source": [
    "new_df = df[df['HS'] == 1]"
   ]
  },
  {
   "cell_type": "code",
   "execution_count": 193,
   "metadata": {},
   "outputs": [
    {
     "name": "stderr",
     "output_type": "stream",
     "text": [
      "c:\\Anaconda\\lib\\site-packages\\sklearn\\linear_model\\_logistic.py:458: ConvergenceWarning: lbfgs failed to converge (status=1):\n",
      "STOP: TOTAL NO. of ITERATIONS REACHED LIMIT.\n",
      "\n",
      "Increase the number of iterations (max_iter) or scale the data as shown in:\n",
      "    https://scikit-learn.org/stable/modules/preprocessing.html\n",
      "Please also refer to the documentation for alternative solver options:\n",
      "    https://scikit-learn.org/stable/modules/linear_model.html#logistic-regression\n",
      "  n_iter_i = _check_optimize_result(\n",
      "c:\\Anaconda\\lib\\site-packages\\sklearn\\linear_model\\_logistic.py:458: ConvergenceWarning: lbfgs failed to converge (status=1):\n",
      "STOP: TOTAL NO. of ITERATIONS REACHED LIMIT.\n",
      "\n",
      "Increase the number of iterations (max_iter) or scale the data as shown in:\n",
      "    https://scikit-learn.org/stable/modules/preprocessing.html\n",
      "Please also refer to the documentation for alternative solver options:\n",
      "    https://scikit-learn.org/stable/modules/linear_model.html#logistic-regression\n",
      "  n_iter_i = _check_optimize_result(\n",
      "c:\\Anaconda\\lib\\site-packages\\sklearn\\linear_model\\_logistic.py:458: ConvergenceWarning: lbfgs failed to converge (status=1):\n",
      "STOP: TOTAL NO. of ITERATIONS REACHED LIMIT.\n",
      "\n",
      "Increase the number of iterations (max_iter) or scale the data as shown in:\n",
      "    https://scikit-learn.org/stable/modules/preprocessing.html\n",
      "Please also refer to the documentation for alternative solver options:\n",
      "    https://scikit-learn.org/stable/modules/linear_model.html#logistic-regression\n",
      "  n_iter_i = _check_optimize_result(\n",
      "c:\\Anaconda\\lib\\site-packages\\sklearn\\linear_model\\_logistic.py:458: ConvergenceWarning: lbfgs failed to converge (status=1):\n",
      "STOP: TOTAL NO. of ITERATIONS REACHED LIMIT.\n",
      "\n",
      "Increase the number of iterations (max_iter) or scale the data as shown in:\n",
      "    https://scikit-learn.org/stable/modules/preprocessing.html\n",
      "Please also refer to the documentation for alternative solver options:\n",
      "    https://scikit-learn.org/stable/modules/linear_model.html#logistic-regression\n",
      "  n_iter_i = _check_optimize_result(\n",
      "c:\\Anaconda\\lib\\site-packages\\sklearn\\linear_model\\_logistic.py:458: ConvergenceWarning: lbfgs failed to converge (status=1):\n",
      "STOP: TOTAL NO. of ITERATIONS REACHED LIMIT.\n",
      "\n",
      "Increase the number of iterations (max_iter) or scale the data as shown in:\n",
      "    https://scikit-learn.org/stable/modules/preprocessing.html\n",
      "Please also refer to the documentation for alternative solver options:\n",
      "    https://scikit-learn.org/stable/modules/linear_model.html#logistic-regression\n",
      "  n_iter_i = _check_optimize_result(\n"
     ]
    }
   ],
   "source": [
    "# Labeling\n",
    "X_train = new_df['Tweet']\n",
    "X_test = new_first_tdf.loc[new_first_tdf['HS'] == 1, 'Tweet']\n",
    "\n",
    "for label in labels:\n",
    "    pipe = Pipeline([\n",
    "        ('vect', TfidfVectorizer()),\n",
    "        ('tf', TfidfTransformer()),\n",
    "        ('clf', clf)\n",
    "    ])\n",
    "\n",
    "    pipe.fit(X_train, new_df[label])\n",
    "    y_pred = pipe.predict(X_test)\n",
    "\n",
    "    new_first_tdf.loc[new_first_tdf['HS'] == 1, label] = y_pred"
   ]
  },
  {
   "cell_type": "code",
   "execution_count": 194,
   "metadata": {},
   "outputs": [],
   "source": [
    "new_first_tdf.to_csv('sahabatsaber-first-method.csv')"
   ]
  },
  {
   "cell_type": "code",
   "execution_count": 195,
   "metadata": {},
   "outputs": [],
   "source": [
    "new_second_tdf = tdf\n",
    "train_x = df['Tweet']\n",
    "train_y = df['HS']\n",
    "test_x = new_second_tdf['Tweet']\n",
    "\n",
    "mlt = Pipeline([\n",
    "    ('vect', TfidfVectorizer()),\n",
    "    ('tf', TfidfTransformer()),\n",
    "    ('sgd', SGDClassifier(loss='hinge', penalty='l2', alpha=1e-3, random_state=42, max_iter=5, tol=None))\n",
    "])\n",
    "mlt.fit(train_x, train_y)\n",
    "y_pred = mlt.predict(test_x)\n",
    "new_second_tdf['HS'] = y_pred"
   ]
  },
  {
   "cell_type": "code",
   "execution_count": 196,
   "metadata": {},
   "outputs": [],
   "source": [
    "X_train = new_df['Tweet']\n",
    "y_train = new_df.drop(columns=['Tweet', 'HS'])\n",
    "X_test = new_second_tdf.loc[new_second_tdf['HS'] == 1, 'Tweet'].values\n",
    "\n",
    "mlt = Pipeline([\n",
    "    ('vect', TfidfVectorizer()),\n",
    "    ('tf', TfidfTransformer()),\n",
    "    ('sgd', MultiOutputClassifier(SGDClassifier(loss='hinge', penalty='l2', alpha=1e-3, random_state=42, max_iter=5, tol=None)))\n",
    "])\n",
    "mlt.fit(X_train, y_train)\n",
    "y_pred = mlt.predict(X_test)\n",
    "y_pred = y_pred.T\n",
    "new_second_tdf.loc[new_second_tdf['HS'] == 1, 'HS_Individual'] = y_pred[0]\n",
    "new_second_tdf.loc[new_second_tdf['HS'] == 1, 'HS_Group'] = y_pred[1]\n",
    "new_second_tdf.loc[new_second_tdf['HS'] == 1, 'HS_Religion'] = y_pred[2]\n",
    "new_second_tdf.loc[new_second_tdf['HS'] == 1, 'HS_Race'] = y_pred[3]\n",
    "new_second_tdf.loc[new_second_tdf['HS'] == 1, 'HS_Gender'] = y_pred[4]"
   ]
  },
  {
   "cell_type": "code",
   "execution_count": 197,
   "metadata": {},
   "outputs": [],
   "source": [
    "tdf.to_csv('sahabatsaber-second-method.csv')"
   ]
  }
 ],
 "metadata": {
  "kernelspec": {
   "display_name": "base",
   "language": "python",
   "name": "python3"
  },
  "language_info": {
   "codemirror_mode": {
    "name": "ipython",
    "version": 3
   },
   "file_extension": ".py",
   "mimetype": "text/x-python",
   "name": "python",
   "nbconvert_exporter": "python",
   "pygments_lexer": "ipython3",
   "version": "3.10.9"
  },
  "orig_nbformat": 4
 },
 "nbformat": 4,
 "nbformat_minor": 2
}
